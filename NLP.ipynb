{
  "nbformat": 4,
  "nbformat_minor": 0,
  "metadata": {
    "colab": {
      "provenance": [],
      "authorship_tag": "ABX9TyMaKFrbmabtz/s+oIc5MPD2",
      "include_colab_link": true
    },
    "kernelspec": {
      "name": "python3",
      "display_name": "Python 3"
    },
    "language_info": {
      "name": "python"
    },
    "widgets": {
      "application/vnd.jupyter.widget-state+json": {
        "e79854c1955e4a4688d60bb76e997286": {
          "model_module": "@jupyter-widgets/controls",
          "model_name": "HBoxModel",
          "model_module_version": "1.5.0",
          "state": {
            "_dom_classes": [],
            "_model_module": "@jupyter-widgets/controls",
            "_model_module_version": "1.5.0",
            "_model_name": "HBoxModel",
            "_view_count": null,
            "_view_module": "@jupyter-widgets/controls",
            "_view_module_version": "1.5.0",
            "_view_name": "HBoxView",
            "box_style": "",
            "children": [
              "IPY_MODEL_851d6aae018a4bd7b9b7fee333373fa0",
              "IPY_MODEL_4e81b95380b742b28e0651b9879ce322",
              "IPY_MODEL_5916d88e83804ed99ed491e7b68ea6c6"
            ],
            "layout": "IPY_MODEL_36825ca5b1644652902bd37e3209896a"
          }
        },
        "851d6aae018a4bd7b9b7fee333373fa0": {
          "model_module": "@jupyter-widgets/controls",
          "model_name": "HTMLModel",
          "model_module_version": "1.5.0",
          "state": {
            "_dom_classes": [],
            "_model_module": "@jupyter-widgets/controls",
            "_model_module_version": "1.5.0",
            "_model_name": "HTMLModel",
            "_view_count": null,
            "_view_module": "@jupyter-widgets/controls",
            "_view_module_version": "1.5.0",
            "_view_name": "HTMLView",
            "description": "",
            "description_tooltip": null,
            "layout": "IPY_MODEL_38af523f5f6843758b66f74bdde02940",
            "placeholder": "​",
            "style": "IPY_MODEL_dbf945fb6b91439a88bf295034398fd3",
            "value": "config.json: 100%"
          }
        },
        "4e81b95380b742b28e0651b9879ce322": {
          "model_module": "@jupyter-widgets/controls",
          "model_name": "FloatProgressModel",
          "model_module_version": "1.5.0",
          "state": {
            "_dom_classes": [],
            "_model_module": "@jupyter-widgets/controls",
            "_model_module_version": "1.5.0",
            "_model_name": "FloatProgressModel",
            "_view_count": null,
            "_view_module": "@jupyter-widgets/controls",
            "_view_module_version": "1.5.0",
            "_view_name": "ProgressView",
            "bar_style": "success",
            "description": "",
            "description_tooltip": null,
            "layout": "IPY_MODEL_08991a04b5ab4709ae9d6e2ddcebb044",
            "max": 747,
            "min": 0,
            "orientation": "horizontal",
            "style": "IPY_MODEL_422c3efb73454444acc04eded3d8ff29",
            "value": 747
          }
        },
        "5916d88e83804ed99ed491e7b68ea6c6": {
          "model_module": "@jupyter-widgets/controls",
          "model_name": "HTMLModel",
          "model_module_version": "1.5.0",
          "state": {
            "_dom_classes": [],
            "_model_module": "@jupyter-widgets/controls",
            "_model_module_version": "1.5.0",
            "_model_name": "HTMLModel",
            "_view_count": null,
            "_view_module": "@jupyter-widgets/controls",
            "_view_module_version": "1.5.0",
            "_view_name": "HTMLView",
            "description": "",
            "description_tooltip": null,
            "layout": "IPY_MODEL_fbd726c6193f48249165e207ceb4b5ed",
            "placeholder": "​",
            "style": "IPY_MODEL_d8f21b70e2d94207957bc6b95c696a61",
            "value": " 747/747 [00:00&lt;00:00, 45.6kB/s]"
          }
        },
        "36825ca5b1644652902bd37e3209896a": {
          "model_module": "@jupyter-widgets/base",
          "model_name": "LayoutModel",
          "model_module_version": "1.2.0",
          "state": {
            "_model_module": "@jupyter-widgets/base",
            "_model_module_version": "1.2.0",
            "_model_name": "LayoutModel",
            "_view_count": null,
            "_view_module": "@jupyter-widgets/base",
            "_view_module_version": "1.2.0",
            "_view_name": "LayoutView",
            "align_content": null,
            "align_items": null,
            "align_self": null,
            "border": null,
            "bottom": null,
            "display": null,
            "flex": null,
            "flex_flow": null,
            "grid_area": null,
            "grid_auto_columns": null,
            "grid_auto_flow": null,
            "grid_auto_rows": null,
            "grid_column": null,
            "grid_gap": null,
            "grid_row": null,
            "grid_template_areas": null,
            "grid_template_columns": null,
            "grid_template_rows": null,
            "height": null,
            "justify_content": null,
            "justify_items": null,
            "left": null,
            "margin": null,
            "max_height": null,
            "max_width": null,
            "min_height": null,
            "min_width": null,
            "object_fit": null,
            "object_position": null,
            "order": null,
            "overflow": null,
            "overflow_x": null,
            "overflow_y": null,
            "padding": null,
            "right": null,
            "top": null,
            "visibility": null,
            "width": null
          }
        },
        "38af523f5f6843758b66f74bdde02940": {
          "model_module": "@jupyter-widgets/base",
          "model_name": "LayoutModel",
          "model_module_version": "1.2.0",
          "state": {
            "_model_module": "@jupyter-widgets/base",
            "_model_module_version": "1.2.0",
            "_model_name": "LayoutModel",
            "_view_count": null,
            "_view_module": "@jupyter-widgets/base",
            "_view_module_version": "1.2.0",
            "_view_name": "LayoutView",
            "align_content": null,
            "align_items": null,
            "align_self": null,
            "border": null,
            "bottom": null,
            "display": null,
            "flex": null,
            "flex_flow": null,
            "grid_area": null,
            "grid_auto_columns": null,
            "grid_auto_flow": null,
            "grid_auto_rows": null,
            "grid_column": null,
            "grid_gap": null,
            "grid_row": null,
            "grid_template_areas": null,
            "grid_template_columns": null,
            "grid_template_rows": null,
            "height": null,
            "justify_content": null,
            "justify_items": null,
            "left": null,
            "margin": null,
            "max_height": null,
            "max_width": null,
            "min_height": null,
            "min_width": null,
            "object_fit": null,
            "object_position": null,
            "order": null,
            "overflow": null,
            "overflow_x": null,
            "overflow_y": null,
            "padding": null,
            "right": null,
            "top": null,
            "visibility": null,
            "width": null
          }
        },
        "dbf945fb6b91439a88bf295034398fd3": {
          "model_module": "@jupyter-widgets/controls",
          "model_name": "DescriptionStyleModel",
          "model_module_version": "1.5.0",
          "state": {
            "_model_module": "@jupyter-widgets/controls",
            "_model_module_version": "1.5.0",
            "_model_name": "DescriptionStyleModel",
            "_view_count": null,
            "_view_module": "@jupyter-widgets/base",
            "_view_module_version": "1.2.0",
            "_view_name": "StyleView",
            "description_width": ""
          }
        },
        "08991a04b5ab4709ae9d6e2ddcebb044": {
          "model_module": "@jupyter-widgets/base",
          "model_name": "LayoutModel",
          "model_module_version": "1.2.0",
          "state": {
            "_model_module": "@jupyter-widgets/base",
            "_model_module_version": "1.2.0",
            "_model_name": "LayoutModel",
            "_view_count": null,
            "_view_module": "@jupyter-widgets/base",
            "_view_module_version": "1.2.0",
            "_view_name": "LayoutView",
            "align_content": null,
            "align_items": null,
            "align_self": null,
            "border": null,
            "bottom": null,
            "display": null,
            "flex": null,
            "flex_flow": null,
            "grid_area": null,
            "grid_auto_columns": null,
            "grid_auto_flow": null,
            "grid_auto_rows": null,
            "grid_column": null,
            "grid_gap": null,
            "grid_row": null,
            "grid_template_areas": null,
            "grid_template_columns": null,
            "grid_template_rows": null,
            "height": null,
            "justify_content": null,
            "justify_items": null,
            "left": null,
            "margin": null,
            "max_height": null,
            "max_width": null,
            "min_height": null,
            "min_width": null,
            "object_fit": null,
            "object_position": null,
            "order": null,
            "overflow": null,
            "overflow_x": null,
            "overflow_y": null,
            "padding": null,
            "right": null,
            "top": null,
            "visibility": null,
            "width": null
          }
        },
        "422c3efb73454444acc04eded3d8ff29": {
          "model_module": "@jupyter-widgets/controls",
          "model_name": "ProgressStyleModel",
          "model_module_version": "1.5.0",
          "state": {
            "_model_module": "@jupyter-widgets/controls",
            "_model_module_version": "1.5.0",
            "_model_name": "ProgressStyleModel",
            "_view_count": null,
            "_view_module": "@jupyter-widgets/base",
            "_view_module_version": "1.2.0",
            "_view_name": "StyleView",
            "bar_color": null,
            "description_width": ""
          }
        },
        "fbd726c6193f48249165e207ceb4b5ed": {
          "model_module": "@jupyter-widgets/base",
          "model_name": "LayoutModel",
          "model_module_version": "1.2.0",
          "state": {
            "_model_module": "@jupyter-widgets/base",
            "_model_module_version": "1.2.0",
            "_model_name": "LayoutModel",
            "_view_count": null,
            "_view_module": "@jupyter-widgets/base",
            "_view_module_version": "1.2.0",
            "_view_name": "LayoutView",
            "align_content": null,
            "align_items": null,
            "align_self": null,
            "border": null,
            "bottom": null,
            "display": null,
            "flex": null,
            "flex_flow": null,
            "grid_area": null,
            "grid_auto_columns": null,
            "grid_auto_flow": null,
            "grid_auto_rows": null,
            "grid_column": null,
            "grid_gap": null,
            "grid_row": null,
            "grid_template_areas": null,
            "grid_template_columns": null,
            "grid_template_rows": null,
            "height": null,
            "justify_content": null,
            "justify_items": null,
            "left": null,
            "margin": null,
            "max_height": null,
            "max_width": null,
            "min_height": null,
            "min_width": null,
            "object_fit": null,
            "object_position": null,
            "order": null,
            "overflow": null,
            "overflow_x": null,
            "overflow_y": null,
            "padding": null,
            "right": null,
            "top": null,
            "visibility": null,
            "width": null
          }
        },
        "d8f21b70e2d94207957bc6b95c696a61": {
          "model_module": "@jupyter-widgets/controls",
          "model_name": "DescriptionStyleModel",
          "model_module_version": "1.5.0",
          "state": {
            "_model_module": "@jupyter-widgets/controls",
            "_model_module_version": "1.5.0",
            "_model_name": "DescriptionStyleModel",
            "_view_count": null,
            "_view_module": "@jupyter-widgets/base",
            "_view_module_version": "1.2.0",
            "_view_name": "StyleView",
            "description_width": ""
          }
        },
        "43ae31756ae64637b82ed4c691c39a98": {
          "model_module": "@jupyter-widgets/controls",
          "model_name": "HBoxModel",
          "model_module_version": "1.5.0",
          "state": {
            "_dom_classes": [],
            "_model_module": "@jupyter-widgets/controls",
            "_model_module_version": "1.5.0",
            "_model_name": "HBoxModel",
            "_view_count": null,
            "_view_module": "@jupyter-widgets/controls",
            "_view_module_version": "1.5.0",
            "_view_name": "HBoxView",
            "box_style": "",
            "children": [
              "IPY_MODEL_a087e0f763364322a689fcc9eeaf09a0",
              "IPY_MODEL_f07ad65edccc46d6ab35dd001812a8f6",
              "IPY_MODEL_e5b85f3327dc4ced938a7bfbc366c1f5"
            ],
            "layout": "IPY_MODEL_7e4c42eca9fa4664b9f12ea805de9472"
          }
        },
        "a087e0f763364322a689fcc9eeaf09a0": {
          "model_module": "@jupyter-widgets/controls",
          "model_name": "HTMLModel",
          "model_module_version": "1.5.0",
          "state": {
            "_dom_classes": [],
            "_model_module": "@jupyter-widgets/controls",
            "_model_module_version": "1.5.0",
            "_model_name": "HTMLModel",
            "_view_count": null,
            "_view_module": "@jupyter-widgets/controls",
            "_view_module_version": "1.5.0",
            "_view_name": "HTMLView",
            "description": "",
            "description_tooltip": null,
            "layout": "IPY_MODEL_f0afd73f1ffb4f208202b186af31fa28",
            "placeholder": "​",
            "style": "IPY_MODEL_82bf6d72fd3944b3b436f61a9d36ad28",
            "value": "vocab.json: 100%"
          }
        },
        "f07ad65edccc46d6ab35dd001812a8f6": {
          "model_module": "@jupyter-widgets/controls",
          "model_name": "FloatProgressModel",
          "model_module_version": "1.5.0",
          "state": {
            "_dom_classes": [],
            "_model_module": "@jupyter-widgets/controls",
            "_model_module_version": "1.5.0",
            "_model_name": "FloatProgressModel",
            "_view_count": null,
            "_view_module": "@jupyter-widgets/controls",
            "_view_module_version": "1.5.0",
            "_view_name": "ProgressView",
            "bar_style": "success",
            "description": "",
            "description_tooltip": null,
            "layout": "IPY_MODEL_24e804a2813849ca9ca783abc7caec38",
            "max": 898822,
            "min": 0,
            "orientation": "horizontal",
            "style": "IPY_MODEL_642f36d3f8bb487c898c0777d88b0350",
            "value": 898822
          }
        },
        "e5b85f3327dc4ced938a7bfbc366c1f5": {
          "model_module": "@jupyter-widgets/controls",
          "model_name": "HTMLModel",
          "model_module_version": "1.5.0",
          "state": {
            "_dom_classes": [],
            "_model_module": "@jupyter-widgets/controls",
            "_model_module_version": "1.5.0",
            "_model_name": "HTMLModel",
            "_view_count": null,
            "_view_module": "@jupyter-widgets/controls",
            "_view_module_version": "1.5.0",
            "_view_name": "HTMLView",
            "description": "",
            "description_tooltip": null,
            "layout": "IPY_MODEL_5aae3554b87843f49be3b6df10704f96",
            "placeholder": "​",
            "style": "IPY_MODEL_b8e50ff26c4b4c48b34f1259529e79df",
            "value": " 899k/899k [00:00&lt;00:00, 3.46MB/s]"
          }
        },
        "7e4c42eca9fa4664b9f12ea805de9472": {
          "model_module": "@jupyter-widgets/base",
          "model_name": "LayoutModel",
          "model_module_version": "1.2.0",
          "state": {
            "_model_module": "@jupyter-widgets/base",
            "_model_module_version": "1.2.0",
            "_model_name": "LayoutModel",
            "_view_count": null,
            "_view_module": "@jupyter-widgets/base",
            "_view_module_version": "1.2.0",
            "_view_name": "LayoutView",
            "align_content": null,
            "align_items": null,
            "align_self": null,
            "border": null,
            "bottom": null,
            "display": null,
            "flex": null,
            "flex_flow": null,
            "grid_area": null,
            "grid_auto_columns": null,
            "grid_auto_flow": null,
            "grid_auto_rows": null,
            "grid_column": null,
            "grid_gap": null,
            "grid_row": null,
            "grid_template_areas": null,
            "grid_template_columns": null,
            "grid_template_rows": null,
            "height": null,
            "justify_content": null,
            "justify_items": null,
            "left": null,
            "margin": null,
            "max_height": null,
            "max_width": null,
            "min_height": null,
            "min_width": null,
            "object_fit": null,
            "object_position": null,
            "order": null,
            "overflow": null,
            "overflow_x": null,
            "overflow_y": null,
            "padding": null,
            "right": null,
            "top": null,
            "visibility": null,
            "width": null
          }
        },
        "f0afd73f1ffb4f208202b186af31fa28": {
          "model_module": "@jupyter-widgets/base",
          "model_name": "LayoutModel",
          "model_module_version": "1.2.0",
          "state": {
            "_model_module": "@jupyter-widgets/base",
            "_model_module_version": "1.2.0",
            "_model_name": "LayoutModel",
            "_view_count": null,
            "_view_module": "@jupyter-widgets/base",
            "_view_module_version": "1.2.0",
            "_view_name": "LayoutView",
            "align_content": null,
            "align_items": null,
            "align_self": null,
            "border": null,
            "bottom": null,
            "display": null,
            "flex": null,
            "flex_flow": null,
            "grid_area": null,
            "grid_auto_columns": null,
            "grid_auto_flow": null,
            "grid_auto_rows": null,
            "grid_column": null,
            "grid_gap": null,
            "grid_row": null,
            "grid_template_areas": null,
            "grid_template_columns": null,
            "grid_template_rows": null,
            "height": null,
            "justify_content": null,
            "justify_items": null,
            "left": null,
            "margin": null,
            "max_height": null,
            "max_width": null,
            "min_height": null,
            "min_width": null,
            "object_fit": null,
            "object_position": null,
            "order": null,
            "overflow": null,
            "overflow_x": null,
            "overflow_y": null,
            "padding": null,
            "right": null,
            "top": null,
            "visibility": null,
            "width": null
          }
        },
        "82bf6d72fd3944b3b436f61a9d36ad28": {
          "model_module": "@jupyter-widgets/controls",
          "model_name": "DescriptionStyleModel",
          "model_module_version": "1.5.0",
          "state": {
            "_model_module": "@jupyter-widgets/controls",
            "_model_module_version": "1.5.0",
            "_model_name": "DescriptionStyleModel",
            "_view_count": null,
            "_view_module": "@jupyter-widgets/base",
            "_view_module_version": "1.2.0",
            "_view_name": "StyleView",
            "description_width": ""
          }
        },
        "24e804a2813849ca9ca783abc7caec38": {
          "model_module": "@jupyter-widgets/base",
          "model_name": "LayoutModel",
          "model_module_version": "1.2.0",
          "state": {
            "_model_module": "@jupyter-widgets/base",
            "_model_module_version": "1.2.0",
            "_model_name": "LayoutModel",
            "_view_count": null,
            "_view_module": "@jupyter-widgets/base",
            "_view_module_version": "1.2.0",
            "_view_name": "LayoutView",
            "align_content": null,
            "align_items": null,
            "align_self": null,
            "border": null,
            "bottom": null,
            "display": null,
            "flex": null,
            "flex_flow": null,
            "grid_area": null,
            "grid_auto_columns": null,
            "grid_auto_flow": null,
            "grid_auto_rows": null,
            "grid_column": null,
            "grid_gap": null,
            "grid_row": null,
            "grid_template_areas": null,
            "grid_template_columns": null,
            "grid_template_rows": null,
            "height": null,
            "justify_content": null,
            "justify_items": null,
            "left": null,
            "margin": null,
            "max_height": null,
            "max_width": null,
            "min_height": null,
            "min_width": null,
            "object_fit": null,
            "object_position": null,
            "order": null,
            "overflow": null,
            "overflow_x": null,
            "overflow_y": null,
            "padding": null,
            "right": null,
            "top": null,
            "visibility": null,
            "width": null
          }
        },
        "642f36d3f8bb487c898c0777d88b0350": {
          "model_module": "@jupyter-widgets/controls",
          "model_name": "ProgressStyleModel",
          "model_module_version": "1.5.0",
          "state": {
            "_model_module": "@jupyter-widgets/controls",
            "_model_module_version": "1.5.0",
            "_model_name": "ProgressStyleModel",
            "_view_count": null,
            "_view_module": "@jupyter-widgets/base",
            "_view_module_version": "1.2.0",
            "_view_name": "StyleView",
            "bar_color": null,
            "description_width": ""
          }
        },
        "5aae3554b87843f49be3b6df10704f96": {
          "model_module": "@jupyter-widgets/base",
          "model_name": "LayoutModel",
          "model_module_version": "1.2.0",
          "state": {
            "_model_module": "@jupyter-widgets/base",
            "_model_module_version": "1.2.0",
            "_model_name": "LayoutModel",
            "_view_count": null,
            "_view_module": "@jupyter-widgets/base",
            "_view_module_version": "1.2.0",
            "_view_name": "LayoutView",
            "align_content": null,
            "align_items": null,
            "align_self": null,
            "border": null,
            "bottom": null,
            "display": null,
            "flex": null,
            "flex_flow": null,
            "grid_area": null,
            "grid_auto_columns": null,
            "grid_auto_flow": null,
            "grid_auto_rows": null,
            "grid_column": null,
            "grid_gap": null,
            "grid_row": null,
            "grid_template_areas": null,
            "grid_template_columns": null,
            "grid_template_rows": null,
            "height": null,
            "justify_content": null,
            "justify_items": null,
            "left": null,
            "margin": null,
            "max_height": null,
            "max_width": null,
            "min_height": null,
            "min_width": null,
            "object_fit": null,
            "object_position": null,
            "order": null,
            "overflow": null,
            "overflow_x": null,
            "overflow_y": null,
            "padding": null,
            "right": null,
            "top": null,
            "visibility": null,
            "width": null
          }
        },
        "b8e50ff26c4b4c48b34f1259529e79df": {
          "model_module": "@jupyter-widgets/controls",
          "model_name": "DescriptionStyleModel",
          "model_module_version": "1.5.0",
          "state": {
            "_model_module": "@jupyter-widgets/controls",
            "_model_module_version": "1.5.0",
            "_model_name": "DescriptionStyleModel",
            "_view_count": null,
            "_view_module": "@jupyter-widgets/base",
            "_view_module_version": "1.2.0",
            "_view_name": "StyleView",
            "description_width": ""
          }
        },
        "2eacfe0954ce431780a3889b1c73b2da": {
          "model_module": "@jupyter-widgets/controls",
          "model_name": "HBoxModel",
          "model_module_version": "1.5.0",
          "state": {
            "_dom_classes": [],
            "_model_module": "@jupyter-widgets/controls",
            "_model_module_version": "1.5.0",
            "_model_name": "HBoxModel",
            "_view_count": null,
            "_view_module": "@jupyter-widgets/controls",
            "_view_module_version": "1.5.0",
            "_view_name": "HBoxView",
            "box_style": "",
            "children": [
              "IPY_MODEL_4fa5aa0b84854beda0dbd36b5b66b443",
              "IPY_MODEL_eb0cbdc961aa4c1d9d1eab8655dd3798",
              "IPY_MODEL_527c5d37deff4b5d8e05e330512e74ff"
            ],
            "layout": "IPY_MODEL_83a84314b22a4c3a945dd86b635347c3"
          }
        },
        "4fa5aa0b84854beda0dbd36b5b66b443": {
          "model_module": "@jupyter-widgets/controls",
          "model_name": "HTMLModel",
          "model_module_version": "1.5.0",
          "state": {
            "_dom_classes": [],
            "_model_module": "@jupyter-widgets/controls",
            "_model_module_version": "1.5.0",
            "_model_name": "HTMLModel",
            "_view_count": null,
            "_view_module": "@jupyter-widgets/controls",
            "_view_module_version": "1.5.0",
            "_view_name": "HTMLView",
            "description": "",
            "description_tooltip": null,
            "layout": "IPY_MODEL_b6c1b08d347d45789a7acbbb27d68157",
            "placeholder": "​",
            "style": "IPY_MODEL_e8557b8ce23e434ab6650d710270e3f4",
            "value": "merges.txt: 100%"
          }
        },
        "eb0cbdc961aa4c1d9d1eab8655dd3798": {
          "model_module": "@jupyter-widgets/controls",
          "model_name": "FloatProgressModel",
          "model_module_version": "1.5.0",
          "state": {
            "_dom_classes": [],
            "_model_module": "@jupyter-widgets/controls",
            "_model_module_version": "1.5.0",
            "_model_name": "FloatProgressModel",
            "_view_count": null,
            "_view_module": "@jupyter-widgets/controls",
            "_view_module_version": "1.5.0",
            "_view_name": "ProgressView",
            "bar_style": "success",
            "description": "",
            "description_tooltip": null,
            "layout": "IPY_MODEL_2cf220f5c4cb4f13bbf8ecbc19e662b8",
            "max": 456318,
            "min": 0,
            "orientation": "horizontal",
            "style": "IPY_MODEL_3fa6e816d7bd4b578c0a9555515c2d2b",
            "value": 456318
          }
        },
        "527c5d37deff4b5d8e05e330512e74ff": {
          "model_module": "@jupyter-widgets/controls",
          "model_name": "HTMLModel",
          "model_module_version": "1.5.0",
          "state": {
            "_dom_classes": [],
            "_model_module": "@jupyter-widgets/controls",
            "_model_module_version": "1.5.0",
            "_model_name": "HTMLModel",
            "_view_count": null,
            "_view_module": "@jupyter-widgets/controls",
            "_view_module_version": "1.5.0",
            "_view_name": "HTMLView",
            "description": "",
            "description_tooltip": null,
            "layout": "IPY_MODEL_33009ad0eff84352b756ea3e08bdab6c",
            "placeholder": "​",
            "style": "IPY_MODEL_565ccbbe4cf4467dbac03f3a198e6988",
            "value": " 456k/456k [00:00&lt;00:00, 2.35MB/s]"
          }
        },
        "83a84314b22a4c3a945dd86b635347c3": {
          "model_module": "@jupyter-widgets/base",
          "model_name": "LayoutModel",
          "model_module_version": "1.2.0",
          "state": {
            "_model_module": "@jupyter-widgets/base",
            "_model_module_version": "1.2.0",
            "_model_name": "LayoutModel",
            "_view_count": null,
            "_view_module": "@jupyter-widgets/base",
            "_view_module_version": "1.2.0",
            "_view_name": "LayoutView",
            "align_content": null,
            "align_items": null,
            "align_self": null,
            "border": null,
            "bottom": null,
            "display": null,
            "flex": null,
            "flex_flow": null,
            "grid_area": null,
            "grid_auto_columns": null,
            "grid_auto_flow": null,
            "grid_auto_rows": null,
            "grid_column": null,
            "grid_gap": null,
            "grid_row": null,
            "grid_template_areas": null,
            "grid_template_columns": null,
            "grid_template_rows": null,
            "height": null,
            "justify_content": null,
            "justify_items": null,
            "left": null,
            "margin": null,
            "max_height": null,
            "max_width": null,
            "min_height": null,
            "min_width": null,
            "object_fit": null,
            "object_position": null,
            "order": null,
            "overflow": null,
            "overflow_x": null,
            "overflow_y": null,
            "padding": null,
            "right": null,
            "top": null,
            "visibility": null,
            "width": null
          }
        },
        "b6c1b08d347d45789a7acbbb27d68157": {
          "model_module": "@jupyter-widgets/base",
          "model_name": "LayoutModel",
          "model_module_version": "1.2.0",
          "state": {
            "_model_module": "@jupyter-widgets/base",
            "_model_module_version": "1.2.0",
            "_model_name": "LayoutModel",
            "_view_count": null,
            "_view_module": "@jupyter-widgets/base",
            "_view_module_version": "1.2.0",
            "_view_name": "LayoutView",
            "align_content": null,
            "align_items": null,
            "align_self": null,
            "border": null,
            "bottom": null,
            "display": null,
            "flex": null,
            "flex_flow": null,
            "grid_area": null,
            "grid_auto_columns": null,
            "grid_auto_flow": null,
            "grid_auto_rows": null,
            "grid_column": null,
            "grid_gap": null,
            "grid_row": null,
            "grid_template_areas": null,
            "grid_template_columns": null,
            "grid_template_rows": null,
            "height": null,
            "justify_content": null,
            "justify_items": null,
            "left": null,
            "margin": null,
            "max_height": null,
            "max_width": null,
            "min_height": null,
            "min_width": null,
            "object_fit": null,
            "object_position": null,
            "order": null,
            "overflow": null,
            "overflow_x": null,
            "overflow_y": null,
            "padding": null,
            "right": null,
            "top": null,
            "visibility": null,
            "width": null
          }
        },
        "e8557b8ce23e434ab6650d710270e3f4": {
          "model_module": "@jupyter-widgets/controls",
          "model_name": "DescriptionStyleModel",
          "model_module_version": "1.5.0",
          "state": {
            "_model_module": "@jupyter-widgets/controls",
            "_model_module_version": "1.5.0",
            "_model_name": "DescriptionStyleModel",
            "_view_count": null,
            "_view_module": "@jupyter-widgets/base",
            "_view_module_version": "1.2.0",
            "_view_name": "StyleView",
            "description_width": ""
          }
        },
        "2cf220f5c4cb4f13bbf8ecbc19e662b8": {
          "model_module": "@jupyter-widgets/base",
          "model_name": "LayoutModel",
          "model_module_version": "1.2.0",
          "state": {
            "_model_module": "@jupyter-widgets/base",
            "_model_module_version": "1.2.0",
            "_model_name": "LayoutModel",
            "_view_count": null,
            "_view_module": "@jupyter-widgets/base",
            "_view_module_version": "1.2.0",
            "_view_name": "LayoutView",
            "align_content": null,
            "align_items": null,
            "align_self": null,
            "border": null,
            "bottom": null,
            "display": null,
            "flex": null,
            "flex_flow": null,
            "grid_area": null,
            "grid_auto_columns": null,
            "grid_auto_flow": null,
            "grid_auto_rows": null,
            "grid_column": null,
            "grid_gap": null,
            "grid_row": null,
            "grid_template_areas": null,
            "grid_template_columns": null,
            "grid_template_rows": null,
            "height": null,
            "justify_content": null,
            "justify_items": null,
            "left": null,
            "margin": null,
            "max_height": null,
            "max_width": null,
            "min_height": null,
            "min_width": null,
            "object_fit": null,
            "object_position": null,
            "order": null,
            "overflow": null,
            "overflow_x": null,
            "overflow_y": null,
            "padding": null,
            "right": null,
            "top": null,
            "visibility": null,
            "width": null
          }
        },
        "3fa6e816d7bd4b578c0a9555515c2d2b": {
          "model_module": "@jupyter-widgets/controls",
          "model_name": "ProgressStyleModel",
          "model_module_version": "1.5.0",
          "state": {
            "_model_module": "@jupyter-widgets/controls",
            "_model_module_version": "1.5.0",
            "_model_name": "ProgressStyleModel",
            "_view_count": null,
            "_view_module": "@jupyter-widgets/base",
            "_view_module_version": "1.2.0",
            "_view_name": "StyleView",
            "bar_color": null,
            "description_width": ""
          }
        },
        "33009ad0eff84352b756ea3e08bdab6c": {
          "model_module": "@jupyter-widgets/base",
          "model_name": "LayoutModel",
          "model_module_version": "1.2.0",
          "state": {
            "_model_module": "@jupyter-widgets/base",
            "_model_module_version": "1.2.0",
            "_model_name": "LayoutModel",
            "_view_count": null,
            "_view_module": "@jupyter-widgets/base",
            "_view_module_version": "1.2.0",
            "_view_name": "LayoutView",
            "align_content": null,
            "align_items": null,
            "align_self": null,
            "border": null,
            "bottom": null,
            "display": null,
            "flex": null,
            "flex_flow": null,
            "grid_area": null,
            "grid_auto_columns": null,
            "grid_auto_flow": null,
            "grid_auto_rows": null,
            "grid_column": null,
            "grid_gap": null,
            "grid_row": null,
            "grid_template_areas": null,
            "grid_template_columns": null,
            "grid_template_rows": null,
            "height": null,
            "justify_content": null,
            "justify_items": null,
            "left": null,
            "margin": null,
            "max_height": null,
            "max_width": null,
            "min_height": null,
            "min_width": null,
            "object_fit": null,
            "object_position": null,
            "order": null,
            "overflow": null,
            "overflow_x": null,
            "overflow_y": null,
            "padding": null,
            "right": null,
            "top": null,
            "visibility": null,
            "width": null
          }
        },
        "565ccbbe4cf4467dbac03f3a198e6988": {
          "model_module": "@jupyter-widgets/controls",
          "model_name": "DescriptionStyleModel",
          "model_module_version": "1.5.0",
          "state": {
            "_model_module": "@jupyter-widgets/controls",
            "_model_module_version": "1.5.0",
            "_model_name": "DescriptionStyleModel",
            "_view_count": null,
            "_view_module": "@jupyter-widgets/base",
            "_view_module_version": "1.2.0",
            "_view_name": "StyleView",
            "description_width": ""
          }
        },
        "0163c0d9186f4387839b8c14898f1c0a": {
          "model_module": "@jupyter-widgets/controls",
          "model_name": "HBoxModel",
          "model_module_version": "1.5.0",
          "state": {
            "_dom_classes": [],
            "_model_module": "@jupyter-widgets/controls",
            "_model_module_version": "1.5.0",
            "_model_name": "HBoxModel",
            "_view_count": null,
            "_view_module": "@jupyter-widgets/controls",
            "_view_module_version": "1.5.0",
            "_view_name": "HBoxView",
            "box_style": "",
            "children": [
              "IPY_MODEL_d89a1215896a486e99b0712621113fa7",
              "IPY_MODEL_31ed585cd5aa4d8cbfd1540f08855d2c",
              "IPY_MODEL_179ead1e2a3c4648be75417c4d0e8d58"
            ],
            "layout": "IPY_MODEL_1adb9de98be149fb8f65c35f09124961"
          }
        },
        "d89a1215896a486e99b0712621113fa7": {
          "model_module": "@jupyter-widgets/controls",
          "model_name": "HTMLModel",
          "model_module_version": "1.5.0",
          "state": {
            "_dom_classes": [],
            "_model_module": "@jupyter-widgets/controls",
            "_model_module_version": "1.5.0",
            "_model_name": "HTMLModel",
            "_view_count": null,
            "_view_module": "@jupyter-widgets/controls",
            "_view_module_version": "1.5.0",
            "_view_name": "HTMLView",
            "description": "",
            "description_tooltip": null,
            "layout": "IPY_MODEL_1afafc3113834693ab626e515172b9d4",
            "placeholder": "​",
            "style": "IPY_MODEL_c9fd050225784248b77b1b04d6c2f8b1",
            "value": "special_tokens_map.json: 100%"
          }
        },
        "31ed585cd5aa4d8cbfd1540f08855d2c": {
          "model_module": "@jupyter-widgets/controls",
          "model_name": "FloatProgressModel",
          "model_module_version": "1.5.0",
          "state": {
            "_dom_classes": [],
            "_model_module": "@jupyter-widgets/controls",
            "_model_module_version": "1.5.0",
            "_model_name": "FloatProgressModel",
            "_view_count": null,
            "_view_module": "@jupyter-widgets/controls",
            "_view_module_version": "1.5.0",
            "_view_name": "ProgressView",
            "bar_style": "success",
            "description": "",
            "description_tooltip": null,
            "layout": "IPY_MODEL_bd80cb11b1994ffda2e65f111d6ef9d6",
            "max": 150,
            "min": 0,
            "orientation": "horizontal",
            "style": "IPY_MODEL_418cbc747d3f4b37b88569584ee0f40f",
            "value": 150
          }
        },
        "179ead1e2a3c4648be75417c4d0e8d58": {
          "model_module": "@jupyter-widgets/controls",
          "model_name": "HTMLModel",
          "model_module_version": "1.5.0",
          "state": {
            "_dom_classes": [],
            "_model_module": "@jupyter-widgets/controls",
            "_model_module_version": "1.5.0",
            "_model_name": "HTMLModel",
            "_view_count": null,
            "_view_module": "@jupyter-widgets/controls",
            "_view_module_version": "1.5.0",
            "_view_name": "HTMLView",
            "description": "",
            "description_tooltip": null,
            "layout": "IPY_MODEL_c9a27124565e427a82581d8910798b72",
            "placeholder": "​",
            "style": "IPY_MODEL_cce8a4d760bd4fa5a952c039bed7c423",
            "value": " 150/150 [00:00&lt;00:00, 6.71kB/s]"
          }
        },
        "1adb9de98be149fb8f65c35f09124961": {
          "model_module": "@jupyter-widgets/base",
          "model_name": "LayoutModel",
          "model_module_version": "1.2.0",
          "state": {
            "_model_module": "@jupyter-widgets/base",
            "_model_module_version": "1.2.0",
            "_model_name": "LayoutModel",
            "_view_count": null,
            "_view_module": "@jupyter-widgets/base",
            "_view_module_version": "1.2.0",
            "_view_name": "LayoutView",
            "align_content": null,
            "align_items": null,
            "align_self": null,
            "border": null,
            "bottom": null,
            "display": null,
            "flex": null,
            "flex_flow": null,
            "grid_area": null,
            "grid_auto_columns": null,
            "grid_auto_flow": null,
            "grid_auto_rows": null,
            "grid_column": null,
            "grid_gap": null,
            "grid_row": null,
            "grid_template_areas": null,
            "grid_template_columns": null,
            "grid_template_rows": null,
            "height": null,
            "justify_content": null,
            "justify_items": null,
            "left": null,
            "margin": null,
            "max_height": null,
            "max_width": null,
            "min_height": null,
            "min_width": null,
            "object_fit": null,
            "object_position": null,
            "order": null,
            "overflow": null,
            "overflow_x": null,
            "overflow_y": null,
            "padding": null,
            "right": null,
            "top": null,
            "visibility": null,
            "width": null
          }
        },
        "1afafc3113834693ab626e515172b9d4": {
          "model_module": "@jupyter-widgets/base",
          "model_name": "LayoutModel",
          "model_module_version": "1.2.0",
          "state": {
            "_model_module": "@jupyter-widgets/base",
            "_model_module_version": "1.2.0",
            "_model_name": "LayoutModel",
            "_view_count": null,
            "_view_module": "@jupyter-widgets/base",
            "_view_module_version": "1.2.0",
            "_view_name": "LayoutView",
            "align_content": null,
            "align_items": null,
            "align_self": null,
            "border": null,
            "bottom": null,
            "display": null,
            "flex": null,
            "flex_flow": null,
            "grid_area": null,
            "grid_auto_columns": null,
            "grid_auto_flow": null,
            "grid_auto_rows": null,
            "grid_column": null,
            "grid_gap": null,
            "grid_row": null,
            "grid_template_areas": null,
            "grid_template_columns": null,
            "grid_template_rows": null,
            "height": null,
            "justify_content": null,
            "justify_items": null,
            "left": null,
            "margin": null,
            "max_height": null,
            "max_width": null,
            "min_height": null,
            "min_width": null,
            "object_fit": null,
            "object_position": null,
            "order": null,
            "overflow": null,
            "overflow_x": null,
            "overflow_y": null,
            "padding": null,
            "right": null,
            "top": null,
            "visibility": null,
            "width": null
          }
        },
        "c9fd050225784248b77b1b04d6c2f8b1": {
          "model_module": "@jupyter-widgets/controls",
          "model_name": "DescriptionStyleModel",
          "model_module_version": "1.5.0",
          "state": {
            "_model_module": "@jupyter-widgets/controls",
            "_model_module_version": "1.5.0",
            "_model_name": "DescriptionStyleModel",
            "_view_count": null,
            "_view_module": "@jupyter-widgets/base",
            "_view_module_version": "1.2.0",
            "_view_name": "StyleView",
            "description_width": ""
          }
        },
        "bd80cb11b1994ffda2e65f111d6ef9d6": {
          "model_module": "@jupyter-widgets/base",
          "model_name": "LayoutModel",
          "model_module_version": "1.2.0",
          "state": {
            "_model_module": "@jupyter-widgets/base",
            "_model_module_version": "1.2.0",
            "_model_name": "LayoutModel",
            "_view_count": null,
            "_view_module": "@jupyter-widgets/base",
            "_view_module_version": "1.2.0",
            "_view_name": "LayoutView",
            "align_content": null,
            "align_items": null,
            "align_self": null,
            "border": null,
            "bottom": null,
            "display": null,
            "flex": null,
            "flex_flow": null,
            "grid_area": null,
            "grid_auto_columns": null,
            "grid_auto_flow": null,
            "grid_auto_rows": null,
            "grid_column": null,
            "grid_gap": null,
            "grid_row": null,
            "grid_template_areas": null,
            "grid_template_columns": null,
            "grid_template_rows": null,
            "height": null,
            "justify_content": null,
            "justify_items": null,
            "left": null,
            "margin": null,
            "max_height": null,
            "max_width": null,
            "min_height": null,
            "min_width": null,
            "object_fit": null,
            "object_position": null,
            "order": null,
            "overflow": null,
            "overflow_x": null,
            "overflow_y": null,
            "padding": null,
            "right": null,
            "top": null,
            "visibility": null,
            "width": null
          }
        },
        "418cbc747d3f4b37b88569584ee0f40f": {
          "model_module": "@jupyter-widgets/controls",
          "model_name": "ProgressStyleModel",
          "model_module_version": "1.5.0",
          "state": {
            "_model_module": "@jupyter-widgets/controls",
            "_model_module_version": "1.5.0",
            "_model_name": "ProgressStyleModel",
            "_view_count": null,
            "_view_module": "@jupyter-widgets/base",
            "_view_module_version": "1.2.0",
            "_view_name": "StyleView",
            "bar_color": null,
            "description_width": ""
          }
        },
        "c9a27124565e427a82581d8910798b72": {
          "model_module": "@jupyter-widgets/base",
          "model_name": "LayoutModel",
          "model_module_version": "1.2.0",
          "state": {
            "_model_module": "@jupyter-widgets/base",
            "_model_module_version": "1.2.0",
            "_model_name": "LayoutModel",
            "_view_count": null,
            "_view_module": "@jupyter-widgets/base",
            "_view_module_version": "1.2.0",
            "_view_name": "LayoutView",
            "align_content": null,
            "align_items": null,
            "align_self": null,
            "border": null,
            "bottom": null,
            "display": null,
            "flex": null,
            "flex_flow": null,
            "grid_area": null,
            "grid_auto_columns": null,
            "grid_auto_flow": null,
            "grid_auto_rows": null,
            "grid_column": null,
            "grid_gap": null,
            "grid_row": null,
            "grid_template_areas": null,
            "grid_template_columns": null,
            "grid_template_rows": null,
            "height": null,
            "justify_content": null,
            "justify_items": null,
            "left": null,
            "margin": null,
            "max_height": null,
            "max_width": null,
            "min_height": null,
            "min_width": null,
            "object_fit": null,
            "object_position": null,
            "order": null,
            "overflow": null,
            "overflow_x": null,
            "overflow_y": null,
            "padding": null,
            "right": null,
            "top": null,
            "visibility": null,
            "width": null
          }
        },
        "cce8a4d760bd4fa5a952c039bed7c423": {
          "model_module": "@jupyter-widgets/controls",
          "model_name": "DescriptionStyleModel",
          "model_module_version": "1.5.0",
          "state": {
            "_model_module": "@jupyter-widgets/controls",
            "_model_module_version": "1.5.0",
            "_model_name": "DescriptionStyleModel",
            "_view_count": null,
            "_view_module": "@jupyter-widgets/base",
            "_view_module_version": "1.2.0",
            "_view_name": "StyleView",
            "description_width": ""
          }
        },
        "e8a76acc985c4fc2b6e18a7299bab72c": {
          "model_module": "@jupyter-widgets/controls",
          "model_name": "HBoxModel",
          "model_module_version": "1.5.0",
          "state": {
            "_dom_classes": [],
            "_model_module": "@jupyter-widgets/controls",
            "_model_module_version": "1.5.0",
            "_model_name": "HBoxModel",
            "_view_count": null,
            "_view_module": "@jupyter-widgets/controls",
            "_view_module_version": "1.5.0",
            "_view_name": "HBoxView",
            "box_style": "",
            "children": [
              "IPY_MODEL_c3b75ae74fb741dfba890b092b9d7df8",
              "IPY_MODEL_16cad4bf47d04409af518e1c1a9f46b6",
              "IPY_MODEL_ea1e403e77094238b6fc906623404571"
            ],
            "layout": "IPY_MODEL_4593027ac095479c8e55e54957481a7f"
          }
        },
        "c3b75ae74fb741dfba890b092b9d7df8": {
          "model_module": "@jupyter-widgets/controls",
          "model_name": "HTMLModel",
          "model_module_version": "1.5.0",
          "state": {
            "_dom_classes": [],
            "_model_module": "@jupyter-widgets/controls",
            "_model_module_version": "1.5.0",
            "_model_name": "HTMLModel",
            "_view_count": null,
            "_view_module": "@jupyter-widgets/controls",
            "_view_module_version": "1.5.0",
            "_view_name": "HTMLView",
            "description": "",
            "description_tooltip": null,
            "layout": "IPY_MODEL_4c5d2f9d3e7d4cefbee80dd359a381ac",
            "placeholder": "​",
            "style": "IPY_MODEL_ff8810a0e3b54c1a9a8f300a4b42c37e",
            "value": "pytorch_model.bin: 100%"
          }
        },
        "16cad4bf47d04409af518e1c1a9f46b6": {
          "model_module": "@jupyter-widgets/controls",
          "model_name": "FloatProgressModel",
          "model_module_version": "1.5.0",
          "state": {
            "_dom_classes": [],
            "_model_module": "@jupyter-widgets/controls",
            "_model_module_version": "1.5.0",
            "_model_name": "FloatProgressModel",
            "_view_count": null,
            "_view_module": "@jupyter-widgets/controls",
            "_view_module_version": "1.5.0",
            "_view_name": "ProgressView",
            "bar_style": "success",
            "description": "",
            "description_tooltip": null,
            "layout": "IPY_MODEL_a4d22d4653cd44b2af9d69a5e00461b4",
            "max": 498679497,
            "min": 0,
            "orientation": "horizontal",
            "style": "IPY_MODEL_cdc435e5f8034a5e82c3e50a19d84835",
            "value": 498679497
          }
        },
        "ea1e403e77094238b6fc906623404571": {
          "model_module": "@jupyter-widgets/controls",
          "model_name": "HTMLModel",
          "model_module_version": "1.5.0",
          "state": {
            "_dom_classes": [],
            "_model_module": "@jupyter-widgets/controls",
            "_model_module_version": "1.5.0",
            "_model_name": "HTMLModel",
            "_view_count": null,
            "_view_module": "@jupyter-widgets/controls",
            "_view_module_version": "1.5.0",
            "_view_name": "HTMLView",
            "description": "",
            "description_tooltip": null,
            "layout": "IPY_MODEL_cbccda6c93d943b6b91ccd9a95f4f6cc",
            "placeholder": "​",
            "style": "IPY_MODEL_25f6d6b1afbe489c86988ddb0cf27c39",
            "value": " 499M/499M [00:03&lt;00:00, 151MB/s]"
          }
        },
        "4593027ac095479c8e55e54957481a7f": {
          "model_module": "@jupyter-widgets/base",
          "model_name": "LayoutModel",
          "model_module_version": "1.2.0",
          "state": {
            "_model_module": "@jupyter-widgets/base",
            "_model_module_version": "1.2.0",
            "_model_name": "LayoutModel",
            "_view_count": null,
            "_view_module": "@jupyter-widgets/base",
            "_view_module_version": "1.2.0",
            "_view_name": "LayoutView",
            "align_content": null,
            "align_items": null,
            "align_self": null,
            "border": null,
            "bottom": null,
            "display": null,
            "flex": null,
            "flex_flow": null,
            "grid_area": null,
            "grid_auto_columns": null,
            "grid_auto_flow": null,
            "grid_auto_rows": null,
            "grid_column": null,
            "grid_gap": null,
            "grid_row": null,
            "grid_template_areas": null,
            "grid_template_columns": null,
            "grid_template_rows": null,
            "height": null,
            "justify_content": null,
            "justify_items": null,
            "left": null,
            "margin": null,
            "max_height": null,
            "max_width": null,
            "min_height": null,
            "min_width": null,
            "object_fit": null,
            "object_position": null,
            "order": null,
            "overflow": null,
            "overflow_x": null,
            "overflow_y": null,
            "padding": null,
            "right": null,
            "top": null,
            "visibility": null,
            "width": null
          }
        },
        "4c5d2f9d3e7d4cefbee80dd359a381ac": {
          "model_module": "@jupyter-widgets/base",
          "model_name": "LayoutModel",
          "model_module_version": "1.2.0",
          "state": {
            "_model_module": "@jupyter-widgets/base",
            "_model_module_version": "1.2.0",
            "_model_name": "LayoutModel",
            "_view_count": null,
            "_view_module": "@jupyter-widgets/base",
            "_view_module_version": "1.2.0",
            "_view_name": "LayoutView",
            "align_content": null,
            "align_items": null,
            "align_self": null,
            "border": null,
            "bottom": null,
            "display": null,
            "flex": null,
            "flex_flow": null,
            "grid_area": null,
            "grid_auto_columns": null,
            "grid_auto_flow": null,
            "grid_auto_rows": null,
            "grid_column": null,
            "grid_gap": null,
            "grid_row": null,
            "grid_template_areas": null,
            "grid_template_columns": null,
            "grid_template_rows": null,
            "height": null,
            "justify_content": null,
            "justify_items": null,
            "left": null,
            "margin": null,
            "max_height": null,
            "max_width": null,
            "min_height": null,
            "min_width": null,
            "object_fit": null,
            "object_position": null,
            "order": null,
            "overflow": null,
            "overflow_x": null,
            "overflow_y": null,
            "padding": null,
            "right": null,
            "top": null,
            "visibility": null,
            "width": null
          }
        },
        "ff8810a0e3b54c1a9a8f300a4b42c37e": {
          "model_module": "@jupyter-widgets/controls",
          "model_name": "DescriptionStyleModel",
          "model_module_version": "1.5.0",
          "state": {
            "_model_module": "@jupyter-widgets/controls",
            "_model_module_version": "1.5.0",
            "_model_name": "DescriptionStyleModel",
            "_view_count": null,
            "_view_module": "@jupyter-widgets/base",
            "_view_module_version": "1.2.0",
            "_view_name": "StyleView",
            "description_width": ""
          }
        },
        "a4d22d4653cd44b2af9d69a5e00461b4": {
          "model_module": "@jupyter-widgets/base",
          "model_name": "LayoutModel",
          "model_module_version": "1.2.0",
          "state": {
            "_model_module": "@jupyter-widgets/base",
            "_model_module_version": "1.2.0",
            "_model_name": "LayoutModel",
            "_view_count": null,
            "_view_module": "@jupyter-widgets/base",
            "_view_module_version": "1.2.0",
            "_view_name": "LayoutView",
            "align_content": null,
            "align_items": null,
            "align_self": null,
            "border": null,
            "bottom": null,
            "display": null,
            "flex": null,
            "flex_flow": null,
            "grid_area": null,
            "grid_auto_columns": null,
            "grid_auto_flow": null,
            "grid_auto_rows": null,
            "grid_column": null,
            "grid_gap": null,
            "grid_row": null,
            "grid_template_areas": null,
            "grid_template_columns": null,
            "grid_template_rows": null,
            "height": null,
            "justify_content": null,
            "justify_items": null,
            "left": null,
            "margin": null,
            "max_height": null,
            "max_width": null,
            "min_height": null,
            "min_width": null,
            "object_fit": null,
            "object_position": null,
            "order": null,
            "overflow": null,
            "overflow_x": null,
            "overflow_y": null,
            "padding": null,
            "right": null,
            "top": null,
            "visibility": null,
            "width": null
          }
        },
        "cdc435e5f8034a5e82c3e50a19d84835": {
          "model_module": "@jupyter-widgets/controls",
          "model_name": "ProgressStyleModel",
          "model_module_version": "1.5.0",
          "state": {
            "_model_module": "@jupyter-widgets/controls",
            "_model_module_version": "1.5.0",
            "_model_name": "ProgressStyleModel",
            "_view_count": null,
            "_view_module": "@jupyter-widgets/base",
            "_view_module_version": "1.2.0",
            "_view_name": "StyleView",
            "bar_color": null,
            "description_width": ""
          }
        },
        "cbccda6c93d943b6b91ccd9a95f4f6cc": {
          "model_module": "@jupyter-widgets/base",
          "model_name": "LayoutModel",
          "model_module_version": "1.2.0",
          "state": {
            "_model_module": "@jupyter-widgets/base",
            "_model_module_version": "1.2.0",
            "_model_name": "LayoutModel",
            "_view_count": null,
            "_view_module": "@jupyter-widgets/base",
            "_view_module_version": "1.2.0",
            "_view_name": "LayoutView",
            "align_content": null,
            "align_items": null,
            "align_self": null,
            "border": null,
            "bottom": null,
            "display": null,
            "flex": null,
            "flex_flow": null,
            "grid_area": null,
            "grid_auto_columns": null,
            "grid_auto_flow": null,
            "grid_auto_rows": null,
            "grid_column": null,
            "grid_gap": null,
            "grid_row": null,
            "grid_template_areas": null,
            "grid_template_columns": null,
            "grid_template_rows": null,
            "height": null,
            "justify_content": null,
            "justify_items": null,
            "left": null,
            "margin": null,
            "max_height": null,
            "max_width": null,
            "min_height": null,
            "min_width": null,
            "object_fit": null,
            "object_position": null,
            "order": null,
            "overflow": null,
            "overflow_x": null,
            "overflow_y": null,
            "padding": null,
            "right": null,
            "top": null,
            "visibility": null,
            "width": null
          }
        },
        "25f6d6b1afbe489c86988ddb0cf27c39": {
          "model_module": "@jupyter-widgets/controls",
          "model_name": "DescriptionStyleModel",
          "model_module_version": "1.5.0",
          "state": {
            "_model_module": "@jupyter-widgets/controls",
            "_model_module_version": "1.5.0",
            "_model_name": "DescriptionStyleModel",
            "_view_count": null,
            "_view_module": "@jupyter-widgets/base",
            "_view_module_version": "1.2.0",
            "_view_name": "StyleView",
            "description_width": ""
          }
        }
      }
    }
  },
  "cells": [
    {
      "cell_type": "markdown",
      "metadata": {
        "id": "view-in-github",
        "colab_type": "text"
      },
      "source": [
        "<a href=\"https://colab.research.google.com/github/RishabhVenkat/Sentiment-Analysis-Project-with-NLTK-and-Transformers/blob/main/NLP.ipynb\" target=\"_parent\"><img src=\"https://colab.research.google.com/assets/colab-badge.svg\" alt=\"Open In Colab\"/></a>"
      ]
    },
    {
      "cell_type": "code",
      "execution_count": 1,
      "metadata": {
        "colab": {
          "base_uri": "https://localhost:8080/"
        },
        "id": "jrJu4wFlbQG1",
        "outputId": "2cdce141-983f-4302-a611-c6250810cdf0"
      },
      "outputs": [
        {
          "output_type": "stream",
          "name": "stdout",
          "text": [
            "Requirement already satisfied: nltk in /usr/local/lib/python3.10/dist-packages (3.8.1)\n",
            "Requirement already satisfied: click in /usr/local/lib/python3.10/dist-packages (from nltk) (8.1.7)\n",
            "Requirement already satisfied: joblib in /usr/local/lib/python3.10/dist-packages (from nltk) (1.4.2)\n",
            "Requirement already satisfied: regex>=2021.8.3 in /usr/local/lib/python3.10/dist-packages (from nltk) (2024.5.15)\n",
            "Requirement already satisfied: tqdm in /usr/local/lib/python3.10/dist-packages (from nltk) (4.66.4)\n"
          ]
        },
        {
          "output_type": "stream",
          "name": "stderr",
          "text": [
            "[nltk_data] Downloading package punkt to /root/nltk_data...\n",
            "[nltk_data]   Unzipping tokenizers/punkt.zip.\n",
            "[nltk_data] Downloading package averaged_perceptron_tagger to\n",
            "[nltk_data]     /root/nltk_data...\n",
            "[nltk_data]   Unzipping taggers/averaged_perceptron_tagger.zip.\n",
            "[nltk_data] Downloading package maxent_ne_chunker to\n",
            "[nltk_data]     /root/nltk_data...\n",
            "[nltk_data]   Unzipping chunkers/maxent_ne_chunker.zip.\n",
            "[nltk_data] Downloading package words to /root/nltk_data...\n",
            "[nltk_data]   Unzipping corpora/words.zip.\n"
          ]
        },
        {
          "output_type": "execute_result",
          "data": {
            "text/plain": [
              "True"
            ]
          },
          "metadata": {},
          "execution_count": 1
        }
      ],
      "source": [
        "import pandas as pd\n",
        "import numpy as np\n",
        "import matplotlib.pyplot as plt\n",
        "\n",
        "plt.style.use('ggplot')\n",
        "\n",
        "!pip install nltk\n",
        "import nltk\n",
        "nltk.download('punkt')\n",
        "nltk.download('averaged_perceptron_tagger')\n",
        "nltk.download('maxent_ne_chunker')\n",
        "nltk.download('words')"
      ]
    },
    {
      "cell_type": "code",
      "source": [
        "def handle_bad_lines(row):\n",
        "    # Custom logic to handle the bad line\n",
        "    return None  # Skip the line\n",
        "\n",
        "df = pd.read_csv('/content/Reviews[2].csv', engine='python', on_bad_lines=handle_bad_lines)\n"
      ],
      "metadata": {
        "id": "Wf8KYBkne8u1"
      },
      "execution_count": 2,
      "outputs": []
    },
    {
      "cell_type": "code",
      "source": [
        "df.head()"
      ],
      "metadata": {
        "id": "F7r--B9jfxSL",
        "colab": {
          "base_uri": "https://localhost:8080/",
          "height": 206
        },
        "outputId": "97d55aa2-c3a7-4e2e-ffcf-4fc8ecd14071"
      },
      "execution_count": 3,
      "outputs": [
        {
          "output_type": "execute_result",
          "data": {
            "text/plain": [
              "   Id   ProductId          UserId                      ProfileName  \\\n",
              "0   1  B001E4KFG0  A3SGXH7AUHU8GW                       delmartian   \n",
              "1   2  B00813GRG4  A1D87F6ZCVE5NK                           dll pa   \n",
              "2   3  B000LQOCH0   ABXLMWJIXXAIN  Natalia Corres \"Natalia Corres\"   \n",
              "3   4  B000UA0QIQ  A395BORC6FGVXV                             Karl   \n",
              "4   5  B006K2ZZ7K  A1UQRSCLF8GW1T    Michael D. Bigham \"M. Wassir\"   \n",
              "\n",
              "   HelpfulnessNumerator  HelpfulnessDenominator  Score        Time  \\\n",
              "0                     1                       1      5  1303862400   \n",
              "1                     0                       0      1  1346976000   \n",
              "2                     1                       1      4  1219017600   \n",
              "3                     3                       3      2  1307923200   \n",
              "4                     0                       0      5  1350777600   \n",
              "\n",
              "                 Summary                                               Text  \n",
              "0  Good Quality Dog Food  I have bought several of the Vitality canned d...  \n",
              "1      Not as Advertised  Product arrived labeled as Jumbo Salted Peanut...  \n",
              "2  \"Delight\" says it all  This is a confection that has been around a fe...  \n",
              "3         Cough Medicine  If you are looking for the secret ingredient i...  \n",
              "4            Great taffy  Great taffy at a great price.  There was a wid...  "
            ],
            "text/html": [
              "\n",
              "  <div id=\"df-7d20bc8b-05bd-4491-8c6b-c5f39aac5a88\" class=\"colab-df-container\">\n",
              "    <div>\n",
              "<style scoped>\n",
              "    .dataframe tbody tr th:only-of-type {\n",
              "        vertical-align: middle;\n",
              "    }\n",
              "\n",
              "    .dataframe tbody tr th {\n",
              "        vertical-align: top;\n",
              "    }\n",
              "\n",
              "    .dataframe thead th {\n",
              "        text-align: right;\n",
              "    }\n",
              "</style>\n",
              "<table border=\"1\" class=\"dataframe\">\n",
              "  <thead>\n",
              "    <tr style=\"text-align: right;\">\n",
              "      <th></th>\n",
              "      <th>Id</th>\n",
              "      <th>ProductId</th>\n",
              "      <th>UserId</th>\n",
              "      <th>ProfileName</th>\n",
              "      <th>HelpfulnessNumerator</th>\n",
              "      <th>HelpfulnessDenominator</th>\n",
              "      <th>Score</th>\n",
              "      <th>Time</th>\n",
              "      <th>Summary</th>\n",
              "      <th>Text</th>\n",
              "    </tr>\n",
              "  </thead>\n",
              "  <tbody>\n",
              "    <tr>\n",
              "      <th>0</th>\n",
              "      <td>1</td>\n",
              "      <td>B001E4KFG0</td>\n",
              "      <td>A3SGXH7AUHU8GW</td>\n",
              "      <td>delmartian</td>\n",
              "      <td>1</td>\n",
              "      <td>1</td>\n",
              "      <td>5</td>\n",
              "      <td>1303862400</td>\n",
              "      <td>Good Quality Dog Food</td>\n",
              "      <td>I have bought several of the Vitality canned d...</td>\n",
              "    </tr>\n",
              "    <tr>\n",
              "      <th>1</th>\n",
              "      <td>2</td>\n",
              "      <td>B00813GRG4</td>\n",
              "      <td>A1D87F6ZCVE5NK</td>\n",
              "      <td>dll pa</td>\n",
              "      <td>0</td>\n",
              "      <td>0</td>\n",
              "      <td>1</td>\n",
              "      <td>1346976000</td>\n",
              "      <td>Not as Advertised</td>\n",
              "      <td>Product arrived labeled as Jumbo Salted Peanut...</td>\n",
              "    </tr>\n",
              "    <tr>\n",
              "      <th>2</th>\n",
              "      <td>3</td>\n",
              "      <td>B000LQOCH0</td>\n",
              "      <td>ABXLMWJIXXAIN</td>\n",
              "      <td>Natalia Corres \"Natalia Corres\"</td>\n",
              "      <td>1</td>\n",
              "      <td>1</td>\n",
              "      <td>4</td>\n",
              "      <td>1219017600</td>\n",
              "      <td>\"Delight\" says it all</td>\n",
              "      <td>This is a confection that has been around a fe...</td>\n",
              "    </tr>\n",
              "    <tr>\n",
              "      <th>3</th>\n",
              "      <td>4</td>\n",
              "      <td>B000UA0QIQ</td>\n",
              "      <td>A395BORC6FGVXV</td>\n",
              "      <td>Karl</td>\n",
              "      <td>3</td>\n",
              "      <td>3</td>\n",
              "      <td>2</td>\n",
              "      <td>1307923200</td>\n",
              "      <td>Cough Medicine</td>\n",
              "      <td>If you are looking for the secret ingredient i...</td>\n",
              "    </tr>\n",
              "    <tr>\n",
              "      <th>4</th>\n",
              "      <td>5</td>\n",
              "      <td>B006K2ZZ7K</td>\n",
              "      <td>A1UQRSCLF8GW1T</td>\n",
              "      <td>Michael D. Bigham \"M. Wassir\"</td>\n",
              "      <td>0</td>\n",
              "      <td>0</td>\n",
              "      <td>5</td>\n",
              "      <td>1350777600</td>\n",
              "      <td>Great taffy</td>\n",
              "      <td>Great taffy at a great price.  There was a wid...</td>\n",
              "    </tr>\n",
              "  </tbody>\n",
              "</table>\n",
              "</div>\n",
              "    <div class=\"colab-df-buttons\">\n",
              "\n",
              "  <div class=\"colab-df-container\">\n",
              "    <button class=\"colab-df-convert\" onclick=\"convertToInteractive('df-7d20bc8b-05bd-4491-8c6b-c5f39aac5a88')\"\n",
              "            title=\"Convert this dataframe to an interactive table.\"\n",
              "            style=\"display:none;\">\n",
              "\n",
              "  <svg xmlns=\"http://www.w3.org/2000/svg\" height=\"24px\" viewBox=\"0 -960 960 960\">\n",
              "    <path d=\"M120-120v-720h720v720H120Zm60-500h600v-160H180v160Zm220 220h160v-160H400v160Zm0 220h160v-160H400v160ZM180-400h160v-160H180v160Zm440 0h160v-160H620v160ZM180-180h160v-160H180v160Zm440 0h160v-160H620v160Z\"/>\n",
              "  </svg>\n",
              "    </button>\n",
              "\n",
              "  <style>\n",
              "    .colab-df-container {\n",
              "      display:flex;\n",
              "      gap: 12px;\n",
              "    }\n",
              "\n",
              "    .colab-df-convert {\n",
              "      background-color: #E8F0FE;\n",
              "      border: none;\n",
              "      border-radius: 50%;\n",
              "      cursor: pointer;\n",
              "      display: none;\n",
              "      fill: #1967D2;\n",
              "      height: 32px;\n",
              "      padding: 0 0 0 0;\n",
              "      width: 32px;\n",
              "    }\n",
              "\n",
              "    .colab-df-convert:hover {\n",
              "      background-color: #E2EBFA;\n",
              "      box-shadow: 0px 1px 2px rgba(60, 64, 67, 0.3), 0px 1px 3px 1px rgba(60, 64, 67, 0.15);\n",
              "      fill: #174EA6;\n",
              "    }\n",
              "\n",
              "    .colab-df-buttons div {\n",
              "      margin-bottom: 4px;\n",
              "    }\n",
              "\n",
              "    [theme=dark] .colab-df-convert {\n",
              "      background-color: #3B4455;\n",
              "      fill: #D2E3FC;\n",
              "    }\n",
              "\n",
              "    [theme=dark] .colab-df-convert:hover {\n",
              "      background-color: #434B5C;\n",
              "      box-shadow: 0px 1px 3px 1px rgba(0, 0, 0, 0.15);\n",
              "      filter: drop-shadow(0px 1px 2px rgba(0, 0, 0, 0.3));\n",
              "      fill: #FFFFFF;\n",
              "    }\n",
              "  </style>\n",
              "\n",
              "    <script>\n",
              "      const buttonEl =\n",
              "        document.querySelector('#df-7d20bc8b-05bd-4491-8c6b-c5f39aac5a88 button.colab-df-convert');\n",
              "      buttonEl.style.display =\n",
              "        google.colab.kernel.accessAllowed ? 'block' : 'none';\n",
              "\n",
              "      async function convertToInteractive(key) {\n",
              "        const element = document.querySelector('#df-7d20bc8b-05bd-4491-8c6b-c5f39aac5a88');\n",
              "        const dataTable =\n",
              "          await google.colab.kernel.invokeFunction('convertToInteractive',\n",
              "                                                    [key], {});\n",
              "        if (!dataTable) return;\n",
              "\n",
              "        const docLinkHtml = 'Like what you see? Visit the ' +\n",
              "          '<a target=\"_blank\" href=https://colab.research.google.com/notebooks/data_table.ipynb>data table notebook</a>'\n",
              "          + ' to learn more about interactive tables.';\n",
              "        element.innerHTML = '';\n",
              "        dataTable['output_type'] = 'display_data';\n",
              "        await google.colab.output.renderOutput(dataTable, element);\n",
              "        const docLink = document.createElement('div');\n",
              "        docLink.innerHTML = docLinkHtml;\n",
              "        element.appendChild(docLink);\n",
              "      }\n",
              "    </script>\n",
              "  </div>\n",
              "\n",
              "\n",
              "<div id=\"df-f01d826d-6de3-4eba-be33-f75d31937670\">\n",
              "  <button class=\"colab-df-quickchart\" onclick=\"quickchart('df-f01d826d-6de3-4eba-be33-f75d31937670')\"\n",
              "            title=\"Suggest charts\"\n",
              "            style=\"display:none;\">\n",
              "\n",
              "<svg xmlns=\"http://www.w3.org/2000/svg\" height=\"24px\"viewBox=\"0 0 24 24\"\n",
              "     width=\"24px\">\n",
              "    <g>\n",
              "        <path d=\"M19 3H5c-1.1 0-2 .9-2 2v14c0 1.1.9 2 2 2h14c1.1 0 2-.9 2-2V5c0-1.1-.9-2-2-2zM9 17H7v-7h2v7zm4 0h-2V7h2v10zm4 0h-2v-4h2v4z\"/>\n",
              "    </g>\n",
              "</svg>\n",
              "  </button>\n",
              "\n",
              "<style>\n",
              "  .colab-df-quickchart {\n",
              "      --bg-color: #E8F0FE;\n",
              "      --fill-color: #1967D2;\n",
              "      --hover-bg-color: #E2EBFA;\n",
              "      --hover-fill-color: #174EA6;\n",
              "      --disabled-fill-color: #AAA;\n",
              "      --disabled-bg-color: #DDD;\n",
              "  }\n",
              "\n",
              "  [theme=dark] .colab-df-quickchart {\n",
              "      --bg-color: #3B4455;\n",
              "      --fill-color: #D2E3FC;\n",
              "      --hover-bg-color: #434B5C;\n",
              "      --hover-fill-color: #FFFFFF;\n",
              "      --disabled-bg-color: #3B4455;\n",
              "      --disabled-fill-color: #666;\n",
              "  }\n",
              "\n",
              "  .colab-df-quickchart {\n",
              "    background-color: var(--bg-color);\n",
              "    border: none;\n",
              "    border-radius: 50%;\n",
              "    cursor: pointer;\n",
              "    display: none;\n",
              "    fill: var(--fill-color);\n",
              "    height: 32px;\n",
              "    padding: 0;\n",
              "    width: 32px;\n",
              "  }\n",
              "\n",
              "  .colab-df-quickchart:hover {\n",
              "    background-color: var(--hover-bg-color);\n",
              "    box-shadow: 0 1px 2px rgba(60, 64, 67, 0.3), 0 1px 3px 1px rgba(60, 64, 67, 0.15);\n",
              "    fill: var(--button-hover-fill-color);\n",
              "  }\n",
              "\n",
              "  .colab-df-quickchart-complete:disabled,\n",
              "  .colab-df-quickchart-complete:disabled:hover {\n",
              "    background-color: var(--disabled-bg-color);\n",
              "    fill: var(--disabled-fill-color);\n",
              "    box-shadow: none;\n",
              "  }\n",
              "\n",
              "  .colab-df-spinner {\n",
              "    border: 2px solid var(--fill-color);\n",
              "    border-color: transparent;\n",
              "    border-bottom-color: var(--fill-color);\n",
              "    animation:\n",
              "      spin 1s steps(1) infinite;\n",
              "  }\n",
              "\n",
              "  @keyframes spin {\n",
              "    0% {\n",
              "      border-color: transparent;\n",
              "      border-bottom-color: var(--fill-color);\n",
              "      border-left-color: var(--fill-color);\n",
              "    }\n",
              "    20% {\n",
              "      border-color: transparent;\n",
              "      border-left-color: var(--fill-color);\n",
              "      border-top-color: var(--fill-color);\n",
              "    }\n",
              "    30% {\n",
              "      border-color: transparent;\n",
              "      border-left-color: var(--fill-color);\n",
              "      border-top-color: var(--fill-color);\n",
              "      border-right-color: var(--fill-color);\n",
              "    }\n",
              "    40% {\n",
              "      border-color: transparent;\n",
              "      border-right-color: var(--fill-color);\n",
              "      border-top-color: var(--fill-color);\n",
              "    }\n",
              "    60% {\n",
              "      border-color: transparent;\n",
              "      border-right-color: var(--fill-color);\n",
              "    }\n",
              "    80% {\n",
              "      border-color: transparent;\n",
              "      border-right-color: var(--fill-color);\n",
              "      border-bottom-color: var(--fill-color);\n",
              "    }\n",
              "    90% {\n",
              "      border-color: transparent;\n",
              "      border-bottom-color: var(--fill-color);\n",
              "    }\n",
              "  }\n",
              "</style>\n",
              "\n",
              "  <script>\n",
              "    async function quickchart(key) {\n",
              "      const quickchartButtonEl =\n",
              "        document.querySelector('#' + key + ' button');\n",
              "      quickchartButtonEl.disabled = true;  // To prevent multiple clicks.\n",
              "      quickchartButtonEl.classList.add('colab-df-spinner');\n",
              "      try {\n",
              "        const charts = await google.colab.kernel.invokeFunction(\n",
              "            'suggestCharts', [key], {});\n",
              "      } catch (error) {\n",
              "        console.error('Error during call to suggestCharts:', error);\n",
              "      }\n",
              "      quickchartButtonEl.classList.remove('colab-df-spinner');\n",
              "      quickchartButtonEl.classList.add('colab-df-quickchart-complete');\n",
              "    }\n",
              "    (() => {\n",
              "      let quickchartButtonEl =\n",
              "        document.querySelector('#df-f01d826d-6de3-4eba-be33-f75d31937670 button');\n",
              "      quickchartButtonEl.style.display =\n",
              "        google.colab.kernel.accessAllowed ? 'block' : 'none';\n",
              "    })();\n",
              "  </script>\n",
              "</div>\n",
              "\n",
              "    </div>\n",
              "  </div>\n"
            ],
            "application/vnd.google.colaboratory.intrinsic+json": {
              "type": "dataframe",
              "variable_name": "df",
              "summary": "{\n  \"name\": \"df\",\n  \"rows\": 10364,\n  \"fields\": [\n    {\n      \"column\": \"Id\",\n      \"properties\": {\n        \"dtype\": \"number\",\n        \"std\": 2991,\n        \"min\": 1,\n        \"max\": 10364,\n        \"num_unique_values\": 10364,\n        \"samples\": [\n          10283,\n          8335,\n          3938\n        ],\n        \"semantic_type\": \"\",\n        \"description\": \"\"\n      }\n    },\n    {\n      \"column\": \"ProductId\",\n      \"properties\": {\n        \"dtype\": \"category\",\n        \"num_unique_values\": 1443,\n        \"samples\": [\n          \"B0001FQVCK\",\n          \"B004S4V9Y0\",\n          \"B000084EK5\"\n        ],\n        \"semantic_type\": \"\",\n        \"description\": \"\"\n      }\n    },\n    {\n      \"column\": \"UserId\",\n      \"properties\": {\n        \"dtype\": \"string\",\n        \"num_unique_values\": 9364,\n        \"samples\": [\n          \"A2O9JFE7UC3KF7\",\n          \"AFFJQGNCDIZG3\",\n          \"A224O3HOC1XCZO\"\n        ],\n        \"semantic_type\": \"\",\n        \"description\": \"\"\n      }\n    },\n    {\n      \"column\": \"ProfileName\",\n      \"properties\": {\n        \"dtype\": \"string\",\n        \"num_unique_values\": 9012,\n        \"samples\": [\n          \"J. Laba\",\n          \"DEM\",\n          \"Francine\"\n        ],\n        \"semantic_type\": \"\",\n        \"description\": \"\"\n      }\n    },\n    {\n      \"column\": \"HelpfulnessNumerator\",\n      \"properties\": {\n        \"dtype\": \"number\",\n        \"std\": 5,\n        \"min\": 0,\n        \"max\": 187,\n        \"num_unique_values\": 59,\n        \"samples\": [\n          1,\n          19,\n          187\n        ],\n        \"semantic_type\": \"\",\n        \"description\": \"\"\n      }\n    },\n    {\n      \"column\": \"HelpfulnessDenominator\",\n      \"properties\": {\n        \"dtype\": \"number\",\n        \"std\": 5,\n        \"min\": 0,\n        \"max\": 216,\n        \"num_unique_values\": 64,\n        \"samples\": [\n          53,\n          100,\n          1\n        ],\n        \"semantic_type\": \"\",\n        \"description\": \"\"\n      }\n    },\n    {\n      \"column\": \"Score\",\n      \"properties\": {\n        \"dtype\": \"number\",\n        \"std\": 1,\n        \"min\": 1,\n        \"max\": 5,\n        \"num_unique_values\": 5,\n        \"samples\": [\n          1,\n          3,\n          4\n        ],\n        \"semantic_type\": \"\",\n        \"description\": \"\"\n      }\n    },\n    {\n      \"column\": \"Time\",\n      \"properties\": {\n        \"dtype\": \"number\",\n        \"std\": 47605548,\n        \"min\": 961718400,\n        \"max\": 1351209600,\n        \"num_unique_values\": 1973,\n        \"samples\": [\n          1309996800,\n          1173484800,\n          1175385600\n        ],\n        \"semantic_type\": \"\",\n        \"description\": \"\"\n      }\n    },\n    {\n      \"column\": \"Summary\",\n      \"properties\": {\n        \"dtype\": \"string\",\n        \"num_unique_values\": 8829,\n        \"samples\": [\n          \"Totally Fantastic\",\n          \"The richest tasting hot cocoa I've ever tasted.\",\n          \"Tastes good, but pay attention to the labels!\"\n        ],\n        \"semantic_type\": \"\",\n        \"description\": \"\"\n      }\n    },\n    {\n      \"column\": \"Text\",\n      \"properties\": {\n        \"dtype\": \"string\",\n        \"num_unique_values\": 9875,\n        \"samples\": [\n          \"We use our Keurig every day.  When a friend gave us a sample we went crazy, it is the best hot chocolate ever.  I highly recommend this, it is a treat in the evening to take the place of dessert.\",\n          \"I first bought pickled asparagus at an Amish market and it was love at first bite. Hence, when I saw these on the discount rack at the local Safeway I cleaned it out.  These are even better than the ones from the Amish market. They are fantastic, and some of the jars have a bonus clove of garlic at the bottom. I'm going to order the six pack and I'm a household of one. They wont go to waste!\",\n          \"Having tried a very large number of Earl Grey teas, I've been struck by how particularly flavorful this brand is.  It's really worth trying.  I ended up buying the pack of 6 boxes twice I liked it so much.\"\n        ],\n        \"semantic_type\": \"\",\n        \"description\": \"\"\n      }\n    }\n  ]\n}"
            }
          },
          "metadata": {},
          "execution_count": 3
        }
      ]
    },
    {
      "cell_type": "code",
      "source": [
        "df['Text'].values[0]"
      ],
      "metadata": {
        "id": "iaiur3Bebtbl",
        "colab": {
          "base_uri": "https://localhost:8080/",
          "height": 52
        },
        "outputId": "aeffa8e8-4cd7-4774-8cac-a875b2d9e925"
      },
      "execution_count": 4,
      "outputs": [
        {
          "output_type": "execute_result",
          "data": {
            "text/plain": [
              "'I have bought several of the Vitality canned dog food products and have found them all to be of good quality. The product looks more like a stew than a processed meat and it smells better. My Labrador is finicky and she appreciates this product better than  most.'"
            ],
            "application/vnd.google.colaboratory.intrinsic+json": {
              "type": "string"
            }
          },
          "metadata": {},
          "execution_count": 4
        }
      ]
    },
    {
      "cell_type": "code",
      "source": [
        "print(df.shape)"
      ],
      "metadata": {
        "id": "lNBgGIkjc5_3",
        "colab": {
          "base_uri": "https://localhost:8080/"
        },
        "outputId": "da2dcf96-d1b7-4e65-8704-847e7e220f6b"
      },
      "execution_count": 5,
      "outputs": [
        {
          "output_type": "stream",
          "name": "stdout",
          "text": [
            "(10364, 10)\n"
          ]
        }
      ]
    },
    {
      "cell_type": "markdown",
      "source": [
        "## Quick EDA"
      ],
      "metadata": {
        "id": "fchpFySEg0y_"
      }
    },
    {
      "cell_type": "code",
      "source": [
        "ax = df['Score'].value_counts().sort_index() \\\n",
        "  .plot(kind = 'bar',\n",
        "        title = 'Count of Reviews by Stars',\n",
        "        figsize = (10, 5))\n",
        "ax.set_xlabel('Review Stars')\n",
        "plt.show()"
      ],
      "metadata": {
        "id": "VxSC-NLlguN0",
        "colab": {
          "base_uri": "https://localhost:8080/",
          "height": 487
        },
        "outputId": "ea238fe2-0df6-486a-bb96-0c54e3f6124c"
      },
      "execution_count": 6,
      "outputs": [
        {
          "output_type": "display_data",
          "data": {
            "text/plain": [
              "<Figure size 1000x500 with 1 Axes>"
            ],
            "image/png": "[encoded data removed]"
          },
          "metadata": {}
        }
      ]
    },
    {
      "cell_type": "markdown",
      "source": [
        "## Basic NLTK"
      ],
      "metadata": {
        "id": "qqwedxd2iI-L"
      }
    },
    {
      "cell_type": "code",
      "source": [
        "example = df['Text'][50]\n",
        "print(example)"
      ],
      "metadata": {
        "id": "U6WfhUHJg5S2",
        "colab": {
          "base_uri": "https://localhost:8080/"
        },
        "outputId": "3da1aa8c-0906-43de-817d-20297743d7bd"
      },
      "execution_count": 7,
      "outputs": [
        {
          "output_type": "stream",
          "name": "stdout",
          "text": [
            "This oatmeal is not good. Its mushy, soft, I don't like it. Quaker Oats is the way to go.\n"
          ]
        }
      ]
    },
    {
      "cell_type": "code",
      "source": [
        "nltk.word_tokenize(example)"
      ],
      "metadata": {
        "id": "zLm7P4E0iSKm",
        "colab": {
          "base_uri": "https://localhost:8080/"
        },
        "outputId": "f1188fd6-240b-4e44-b546-1d28546b0dda"
      },
      "execution_count": 8,
      "outputs": [
        {
          "output_type": "execute_result",
          "data": {
            "text/plain": [
              "['This',\n",
              " 'oatmeal',\n",
              " 'is',\n",
              " 'not',\n",
              " 'good',\n",
              " '.',\n",
              " 'Its',\n",
              " 'mushy',\n",
              " ',',\n",
              " 'soft',\n",
              " ',',\n",
              " 'I',\n",
              " 'do',\n",
              " \"n't\",\n",
              " 'like',\n",
              " 'it',\n",
              " '.',\n",
              " 'Quaker',\n",
              " 'Oats',\n",
              " 'is',\n",
              " 'the',\n",
              " 'way',\n",
              " 'to',\n",
              " 'go',\n",
              " '.']"
            ]
          },
          "metadata": {},
          "execution_count": 8
        }
      ]
    },
    {
      "cell_type": "code",
      "source": [
        "tokens = nltk.word_tokenize(example)\n",
        "tokens[:10]"
      ],
      "metadata": {
        "id": "TiWiSxK-nfyu",
        "colab": {
          "base_uri": "https://localhost:8080/"
        },
        "outputId": "63f1bfbd-b654-4313-8783-3680a0d0eb27"
      },
      "execution_count": 9,
      "outputs": [
        {
          "output_type": "execute_result",
          "data": {
            "text/plain": [
              "['This', 'oatmeal', 'is', 'not', 'good', '.', 'Its', 'mushy', ',', 'soft']"
            ]
          },
          "metadata": {},
          "execution_count": 9
        }
      ]
    },
    {
      "cell_type": "code",
      "source": [
        "tagged = nltk.pos_tag(tokens)\n",
        "tagged[:10]"
      ],
      "metadata": {
        "id": "I10Gmka6ooBB",
        "colab": {
          "base_uri": "https://localhost:8080/"
        },
        "outputId": "e3c40290-6e65-4f88-9ff2-845057c2927b"
      },
      "execution_count": 10,
      "outputs": [
        {
          "output_type": "execute_result",
          "data": {
            "text/plain": [
              "[('This', 'DT'),\n",
              " ('oatmeal', 'NN'),\n",
              " ('is', 'VBZ'),\n",
              " ('not', 'RB'),\n",
              " ('good', 'JJ'),\n",
              " ('.', '.'),\n",
              " ('Its', 'PRP$'),\n",
              " ('mushy', 'NN'),\n",
              " (',', ','),\n",
              " ('soft', 'JJ')]"
            ]
          },
          "metadata": {},
          "execution_count": 10
        }
      ]
    },
    {
      "cell_type": "code",
      "source": [
        "entities =  nltk.chunk.ne_chunk(tagged)\n",
        "entities.pprint()"
      ],
      "metadata": {
        "id": "zZB16UvSpMFO",
        "colab": {
          "base_uri": "https://localhost:8080/"
        },
        "outputId": "e93ad16a-0910-46f9-94a3-bc60e5ca44a0"
      },
      "execution_count": 11,
      "outputs": [
        {
          "output_type": "stream",
          "name": "stdout",
          "text": [
            "(S\n",
            "  This/DT\n",
            "  oatmeal/NN\n",
            "  is/VBZ\n",
            "  not/RB\n",
            "  good/JJ\n",
            "  ./.\n",
            "  Its/PRP$\n",
            "  mushy/NN\n",
            "  ,/,\n",
            "  soft/JJ\n",
            "  ,/,\n",
            "  I/PRP\n",
            "  do/VBP\n",
            "  n't/RB\n",
            "  like/VB\n",
            "  it/PRP\n",
            "  ./.\n",
            "  (ORGANIZATION Quaker/NNP Oats/NNPS)\n",
            "  is/VBZ\n",
            "  the/DT\n",
            "  way/NN\n",
            "  to/TO\n",
            "  go/VB\n",
            "  ./.)\n"
          ]
        }
      ]
    },
    {
      "cell_type": "code",
      "source": [
        "from nltk.sentiment import SentimentIntensityAnalyzer\n",
        "from tqdm.notebook import tqdm\n",
        "nltk.download('vader_lexicon')\n",
        "\n",
        "sia = SentimentIntensityAnalyzer()"
      ],
      "metadata": {
        "id": "KtUFA4WaS3i3",
        "colab": {
          "base_uri": "https://localhost:8080/"
        },
        "outputId": "99630e8a-91e7-44fd-8b4a-8247f23d0c5e"
      },
      "execution_count": 12,
      "outputs": [
        {
          "output_type": "stream",
          "name": "stderr",
          "text": [
            "[nltk_data] Downloading package vader_lexicon to /root/nltk_data...\n"
          ]
        }
      ]
    },
    {
      "cell_type": "code",
      "source": [
        "sia"
      ],
      "metadata": {
        "id": "N0jPacucUiis",
        "colab": {
          "base_uri": "https://localhost:8080/"
        },
        "outputId": "f97291f1-63ea-4db6-e5b2-b12bda0ed6ab"
      },
      "execution_count": 13,
      "outputs": [
        {
          "output_type": "execute_result",
          "data": {
            "text/plain": [
              "<nltk.sentiment.vader.SentimentIntensityAnalyzer at 0x78db9182a890>"
            ]
          },
          "metadata": {},
          "execution_count": 13
        }
      ]
    },
    {
      "cell_type": "code",
      "source": [
        "sia.polarity_scores('I am so happy!')"
      ],
      "metadata": {
        "id": "LWor1BFiUtCo",
        "colab": {
          "base_uri": "https://localhost:8080/"
        },
        "outputId": "3f85f56d-bcfc-449c-e64e-8171581d8052"
      },
      "execution_count": 14,
      "outputs": [
        {
          "output_type": "execute_result",
          "data": {
            "text/plain": [
              "{'neg': 0.0, 'neu': 0.318, 'pos': 0.682, 'compound': 0.6468}"
            ]
          },
          "metadata": {},
          "execution_count": 14
        }
      ]
    },
    {
      "cell_type": "code",
      "source": [
        "sia.polarity_scores('This is the worst thing ever.')"
      ],
      "metadata": {
        "id": "ZQXU4aGRU1FP",
        "colab": {
          "base_uri": "https://localhost:8080/"
        },
        "outputId": "1f267cc7-a1f7-45ba-acae-02963ad9139b"
      },
      "execution_count": 15,
      "outputs": [
        {
          "output_type": "execute_result",
          "data": {
            "text/plain": [
              "{'neg': 0.451, 'neu': 0.549, 'pos': 0.0, 'compound': -0.6249}"
            ]
          },
          "metadata": {},
          "execution_count": 15
        }
      ]
    },
    {
      "cell_type": "code",
      "source": [
        "sia.polarity_scores(example)"
      ],
      "metadata": {
        "id": "omHS0zIoZmU4",
        "colab": {
          "base_uri": "https://localhost:8080/"
        },
        "outputId": "1987471b-c7bb-4c72-df38-756602692a94"
      },
      "execution_count": 16,
      "outputs": [
        {
          "output_type": "execute_result",
          "data": {
            "text/plain": [
              "{'neg': 0.22, 'neu': 0.78, 'pos': 0.0, 'compound': -0.5448}"
            ]
          },
          "metadata": {},
          "execution_count": 16
        }
      ]
    },
    {
      "cell_type": "code",
      "source": [
        "from tqdm import tqdm\n",
        "# Run the polarity score on the entire dataset\n",
        "res = {}\n",
        "for i, row in tqdm(df.iterrows(), total=len(df)):\n",
        "    text = row['Text']\n",
        "    myid = row['Id']\n",
        "    if text is not None:\n",
        "        res[myid] = sia.polarity_scores(text)\n",
        "    else:\n",
        "        res[myid] = None\n"
      ],
      "metadata": {
        "id": "IKbmGMUvZwmd",
        "colab": {
          "base_uri": "https://localhost:8080/"
        },
        "outputId": "03996025-ddf6-4a71-f0c5-b50ae4e20422"
      },
      "execution_count": 17,
      "outputs": [
        {
          "output_type": "stream",
          "name": "stderr",
          "text": [
            "100%|██████████| 10364/10364 [00:28<00:00, 367.47it/s]\n"
          ]
        }
      ]
    },
    {
      "cell_type": "code",
      "source": [
        "res"
      ],
      "metadata": {
        "id": "9iR0120TaT70",
        "colab": {
          "base_uri": "https://localhost:8080/"
        },
        "outputId": "65d65558-526c-40b2-8197-595e4b763600"
      },
      "execution_count": 18,
      "outputs": [
        {
          "output_type": "execute_result",
          "data": {
            "text/plain": [
              "{1: {'neg': 0.0, 'neu': 0.695, 'pos': 0.305, 'compound': 0.9441},\n",
              " 2: {'neg': 0.138, 'neu': 0.862, 'pos': 0.0, 'compound': -0.5664},\n",
              " 3: {'neg': 0.091, 'neu': 0.754, 'pos': 0.155, 'compound': 0.8265},\n",
              " 4: {'neg': 0.0, 'neu': 1.0, 'pos': 0.0, 'compound': 0.0},\n",
              " 5: {'neg': 0.0, 'neu': 0.552, 'pos': 0.448, 'compound': 0.9468},\n",
              " 6: {'neg': 0.029, 'neu': 0.809, 'pos': 0.163, 'compound': 0.883},\n",
              " 7: {'neg': 0.034, 'neu': 0.693, 'pos': 0.273, 'compound': 0.9346},\n",
              " 8: {'neg': 0.0, 'neu': 0.52, 'pos': 0.48, 'compound': 0.9487},\n",
              " 9: {'neg': 0.0, 'neu': 0.851, 'pos': 0.149, 'compound': 0.6369},\n",
              " 10: {'neg': 0.0, 'neu': 0.705, 'pos': 0.295, 'compound': 0.8313},\n",
              " 11: {'neg': 0.017, 'neu': 0.846, 'pos': 0.137, 'compound': 0.9746},\n",
              " 12: {'neg': 0.113, 'neu': 0.887, 'pos': 0.0, 'compound': -0.7579},\n",
              " 13: {'neg': 0.031, 'neu': 0.923, 'pos': 0.046, 'compound': 0.296},\n",
              " 14: {'neg': 0.0, 'neu': 0.355, 'pos': 0.645, 'compound': 0.9466},\n",
              " 15: {'neg': 0.104, 'neu': 0.632, 'pos': 0.264, 'compound': 0.6486},\n",
              " 16: {'neg': 0.0, 'neu': 0.861, 'pos': 0.139, 'compound': 0.5719},\n",
              " 17: {'neg': 0.097, 'neu': 0.694, 'pos': 0.209, 'compound': 0.7481},\n",
              " 18: {'neg': 0.0, 'neu': 0.61, 'pos': 0.39, 'compound': 0.8883},\n",
              " 19: {'neg': 0.012, 'neu': 0.885, 'pos': 0.103, 'compound': 0.8957},\n",
              " 20: {'neg': 0.0, 'neu': 0.863, 'pos': 0.137, 'compound': 0.6077},\n",
              " 21: {'neg': 0.0, 'neu': 0.865, 'pos': 0.135, 'compound': 0.6249},\n",
              " 22: {'neg': 0.0, 'neu': 0.739, 'pos': 0.261, 'compound': 0.9153},\n",
              " 23: {'neg': 0.0, 'neu': 0.768, 'pos': 0.232, 'compound': 0.7687},\n",
              " 24: {'neg': 0.085, 'neu': 0.771, 'pos': 0.143, 'compound': 0.2617},\n",
              " 25: {'neg': 0.038, 'neu': 0.895, 'pos': 0.068, 'compound': 0.3939},\n",
              " 26: {'neg': 0.0, 'neu': 1.0, 'pos': 0.0, 'compound': 0.0},\n",
              " 27: {'neg': 0.128, 'neu': 0.872, 'pos': 0.0, 'compound': -0.296},\n",
              " 28: {'neg': 0.04, 'neu': 0.808, 'pos': 0.152, 'compound': 0.5956},\n",
              " 29: {'neg': 0.022, 'neu': 0.669, 'pos': 0.309, 'compound': 0.9913},\n",
              " 30: {'neg': 0.017, 'neu': 0.846, 'pos': 0.137, 'compound': 0.9746},\n",
              " 31: {'neg': 0.041, 'neu': 0.692, 'pos': 0.267, 'compound': 0.9713},\n",
              " 32: {'neg': 0.0, 'neu': 0.484, 'pos': 0.516, 'compound': 0.9153},\n",
              " 33: {'neg': 0.069, 'neu': 0.839, 'pos': 0.092, 'compound': 0.7103},\n",
              " 34: {'neg': 0.024, 'neu': 0.72, 'pos': 0.256, 'compound': 0.9779},\n",
              " 35: {'neg': 0.0, 'neu': 0.874, 'pos': 0.126, 'compound': 0.9091},\n",
              " 36: {'neg': 0.024, 'neu': 0.821, 'pos': 0.155, 'compound': 0.7622},\n",
              " 37: {'neg': 0.0, 'neu': 0.754, 'pos': 0.246, 'compound': 0.9196},\n",
              " 38: {'neg': 0.0, 'neu': 0.938, 'pos': 0.062, 'compound': 0.4457},\n",
              " 39: {'neg': 0.05, 'neu': 0.846, 'pos': 0.104, 'compound': 0.7638},\n",
              " 40: {'neg': 0.0, 'neu': 0.856, 'pos': 0.144, 'compound': 0.8114},\n",
              " 41: {'neg': 0.033, 'neu': 0.82, 'pos': 0.147, 'compound': 0.9301},\n",
              " 42: {'neg': 0.03, 'neu': 0.848, 'pos': 0.122, 'compound': 0.9435},\n",
              " 43: {'neg': 0.0, 'neu': 0.588, 'pos': 0.412, 'compound': 0.9441},\n",
              " 44: {'neg': 0.0, 'neu': 0.685, 'pos': 0.315, 'compound': 0.9161},\n",
              " 45: {'neg': 0.031, 'neu': 0.778, 'pos': 0.191, 'compound': 0.8421},\n",
              " 46: {'neg': 0.0, 'neu': 1.0, 'pos': 0.0, 'compound': 0.0},\n",
              " 47: {'neg': 0.0, 'neu': 0.737, 'pos': 0.263, 'compound': 0.9169},\n",
              " 48: {'neg': 0.0, 'neu': 0.868, 'pos': 0.132, 'compound': 0.4404},\n",
              " 49: {'neg': 0.0, 'neu': 0.821, 'pos': 0.179, 'compound': 0.747},\n",
              " 50: {'neg': 0.056, 'neu': 0.865, 'pos': 0.079, 'compound': 0.2363},\n",
              " 51: {'neg': 0.22, 'neu': 0.78, 'pos': 0.0, 'compound': -0.5448},\n",
              " 52: {'neg': 0.047, 'neu': 0.735, 'pos': 0.218, 'compound': 0.9194},\n",
              " 53: {'neg': 0.09, 'neu': 0.858, 'pos': 0.052, 'compound': -0.8259},\n",
              " 54: {'neg': 0.075, 'neu': 0.925, 'pos': 0.0, 'compound': -0.3612},\n",
              " 55: {'neg': 0.0, 'neu': 0.857, 'pos': 0.143, 'compound': 0.8761},\n",
              " 56: {'neg': 0.071, 'neu': 0.708, 'pos': 0.221, 'compound': 0.8908},\n",
              " 57: {'neg': 0.029, 'neu': 0.694, 'pos': 0.277, 'compound': 0.908},\n",
              " 58: {'neg': 0.0, 'neu': 0.701, 'pos': 0.299, 'compound': 0.91},\n",
              " 59: {'neg': 0.0, 'neu': 0.611, 'pos': 0.389, 'compound': 0.9323},\n",
              " 60: {'neg': 0.0, 'neu': 0.638, 'pos': 0.362, 'compound': 0.8807},\n",
              " 61: {'neg': 0.0, 'neu': 0.9, 'pos': 0.1, 'compound': 0.4404},\n",
              " 62: {'neg': 0.0, 'neu': 0.741, 'pos': 0.259, 'compound': 0.8442},\n",
              " 63: {'neg': 0.0, 'neu': 1.0, 'pos': 0.0, 'compound': 0.0},\n",
              " 64: {'neg': 0.055, 'neu': 0.765, 'pos': 0.179, 'compound': 0.9817},\n",
              " 65: {'neg': 0.046, 'neu': 0.75, 'pos': 0.205, 'compound': 0.8674},\n",
              " 66: {'neg': 0.04, 'neu': 0.822, 'pos': 0.138, 'compound': 0.5165},\n",
              " 67: {'neg': 0.057, 'neu': 0.869, 'pos': 0.073, 'compound': 0.492},\n",
              " 68: {'neg': 0.183, 'neu': 0.776, 'pos': 0.041, 'compound': -0.9116},\n",
              " 69: {'neg': 0.135, 'neu': 0.71, 'pos': 0.155, 'compound': -0.0096},\n",
              " 70: {'neg': 0.344, 'neu': 0.52, 'pos': 0.136, 'compound': -0.7345},\n",
              " 71: {'neg': 0.036, 'neu': 0.916, 'pos': 0.048, 'compound': 0.2228},\n",
              " 72: {'neg': 0.078, 'neu': 0.701, 'pos': 0.222, 'compound': 0.9733},\n",
              " 73: {'neg': 0.025, 'neu': 0.653, 'pos': 0.323, 'compound': 0.9787},\n",
              " 74: {'neg': 0.093, 'neu': 0.762, 'pos': 0.144, 'compound': 0.9665},\n",
              " 75: {'neg': 0.0, 'neu': 0.872, 'pos': 0.128, 'compound': 0.2263},\n",
              " 76: {'neg': 0.106, 'neu': 0.768, 'pos': 0.126, 'compound': 0.1098},\n",
              " 77: {'neg': 0.019, 'neu': 0.898, 'pos': 0.083, 'compound': 0.5647},\n",
              " 78: {'neg': 0.034, 'neu': 0.798, 'pos': 0.168, 'compound': 0.8303},\n",
              " 79: {'neg': 0.0, 'neu': 0.763, 'pos': 0.237, 'compound': 0.7814},\n",
              " 80: {'neg': 0.087, 'neu': 0.589, 'pos': 0.324, 'compound': 0.8636},\n",
              " 81: {'neg': 0.0, 'neu': 0.723, 'pos': 0.277, 'compound': 0.9098},\n",
              " 82: {'neg': 0.0, 'neu': 0.663, 'pos': 0.337, 'compound': 0.9041},\n",
              " 83: {'neg': 0.04, 'neu': 0.794, 'pos': 0.165, 'compound': 0.9957},\n",
              " 84: {'neg': 0.055, 'neu': 0.767, 'pos': 0.178, 'compound': 0.8642},\n",
              " 85: {'neg': 0.109, 'neu': 0.676, 'pos': 0.214, 'compound': 0.8431},\n",
              " 86: {'neg': 0.035, 'neu': 0.698, 'pos': 0.267, 'compound': 0.9487},\n",
              " 87: {'neg': 0.019, 'neu': 0.855, 'pos': 0.126, 'compound': 0.8797},\n",
              " 88: {'neg': 0.05, 'neu': 0.735, 'pos': 0.215, 'compound': 0.7424},\n",
              " 89: {'neg': 0.048, 'neu': 0.762, 'pos': 0.19, 'compound': 0.9716},\n",
              " 90: {'neg': 0.029, 'neu': 0.645, 'pos': 0.326, 'compound': 0.9554},\n",
              " 91: {'neg': 0.0, 'neu': 0.833, 'pos': 0.167, 'compound': 0.7351},\n",
              " 92: {'neg': 0.0, 'neu': 0.837, 'pos': 0.163, 'compound': 0.6249},\n",
              " 93: {'neg': 0.069, 'neu': 0.663, 'pos': 0.268, 'compound': 0.8255},\n",
              " 94: {'neg': 0.01, 'neu': 0.781, 'pos': 0.208, 'compound': 0.9882},\n",
              " 95: {'neg': 0.0, 'neu': 1.0, 'pos': 0.0, 'compound': 0.0},\n",
              " 96: {'neg': 0.031, 'neu': 0.732, 'pos': 0.237, 'compound': 0.9273},\n",
              " 97: {'neg': 0.0, 'neu': 0.818, 'pos': 0.182, 'compound': 0.982},\n",
              " 98: {'neg': 0.053, 'neu': 0.793, 'pos': 0.154, 'compound': 0.7729},\n",
              " 99: {'neg': 0.024, 'neu': 0.91, 'pos': 0.066, 'compound': 0.5106},\n",
              " 100: {'neg': 0.173, 'neu': 0.735, 'pos': 0.092, 'compound': -0.5267},\n",
              " 101: {'neg': 0.0, 'neu': 0.807, 'pos': 0.193, 'compound': 0.7717},\n",
              " 102: {'neg': 0.103, 'neu': 0.752, 'pos': 0.145, 'compound': 0.2285},\n",
              " 103: {'neg': 0.0, 'neu': 0.75, 'pos': 0.25, 'compound': 0.9287},\n",
              " 104: {'neg': 0.0, 'neu': 0.859, 'pos': 0.141, 'compound': 0.7249},\n",
              " 105: {'neg': 0.051, 'neu': 0.577, 'pos': 0.372, 'compound': 0.9313},\n",
              " 106: {'neg': 0.0, 'neu': 0.696, 'pos': 0.304, 'compound': 0.9603},\n",
              " 107: {'neg': 0.0, 'neu': 0.791, 'pos': 0.209, 'compound': 0.5719},\n",
              " 108: {'neg': 0.0, 'neu': 0.804, 'pos': 0.196, 'compound': 0.9503},\n",
              " 109: {'neg': 0.059, 'neu': 0.676, 'pos': 0.265, 'compound': 0.9116},\n",
              " 110: {'neg': 0.014, 'neu': 0.764, 'pos': 0.222, 'compound': 0.9841},\n",
              " 111: {'neg': 0.059, 'neu': 0.879, 'pos': 0.062, 'compound': 0.0176},\n",
              " 112: {'neg': 0.0, 'neu': 0.81, 'pos': 0.19, 'compound': 0.8769},\n",
              " 113: {'neg': 0.037, 'neu': 0.786, 'pos': 0.177, 'compound': 0.9946},\n",
              " 114: {'neg': 0.0, 'neu': 0.631, 'pos': 0.369, 'compound': 0.8779},\n",
              " 115: {'neg': 0.027, 'neu': 0.727, 'pos': 0.245, 'compound': 0.9379},\n",
              " 116: {'neg': 0.0, 'neu': 0.645, 'pos': 0.355, 'compound': 0.872},\n",
              " 117: {'neg': 0.0, 'neu': 0.892, 'pos': 0.108, 'compound': 0.6573},\n",
              " 118: {'neg': 0.0, 'neu': 0.781, 'pos': 0.219, 'compound': 0.9751},\n",
              " 119: {'neg': 0.05, 'neu': 0.872, 'pos': 0.079, 'compound': 0.8972},\n",
              " 120: {'neg': 0.013, 'neu': 0.785, 'pos': 0.203, 'compound': 0.9828},\n",
              " 121: {'neg': 0.026, 'neu': 0.759, 'pos': 0.215, 'compound': 0.9509},\n",
              " 122: {'neg': 0.102, 'neu': 0.822, 'pos': 0.076, 'compound': -0.3626},\n",
              " 123: {'neg': 0.025, 'neu': 0.803, 'pos': 0.172, 'compound': 0.9022},\n",
              " 124: {'neg': 0.017, 'neu': 0.795, 'pos': 0.188, 'compound': 0.9769},\n",
              " 125: {'neg': 0.079, 'neu': 0.67, 'pos': 0.252, 'compound': 0.9678},\n",
              " 126: {'neg': 0.035, 'neu': 0.87, 'pos': 0.095, 'compound': 0.5709},\n",
              " 127: {'neg': 0.0, 'neu': 0.721, 'pos': 0.279, 'compound': 0.9258},\n",
              " 128: {'neg': 0.067, 'neu': 0.633, 'pos': 0.299, 'compound': 0.9022},\n",
              " 129: {'neg': 0.043, 'neu': 0.728, 'pos': 0.229, 'compound': 0.8142},\n",
              " 130: {'neg': 0.114, 'neu': 0.676, 'pos': 0.21, 'compound': 0.6721},\n",
              " 131: {'neg': 0.0, 'neu': 0.755, 'pos': 0.245, 'compound': 0.8658},\n",
              " 132: {'neg': 0.135, 'neu': 0.76, 'pos': 0.105, 'compound': -0.3612},\n",
              " 133: {'neg': 0.046, 'neu': 0.772, 'pos': 0.181, 'compound': 0.7902},\n",
              " 134: {'neg': 0.02, 'neu': 0.878, 'pos': 0.103, 'compound': 0.8082},\n",
              " 135: {'neg': 0.0, 'neu': 0.877, 'pos': 0.123, 'compound': 0.4215},\n",
              " 136: {'neg': 0.0, 'neu': 0.9, 'pos': 0.1, 'compound': 0.6503},\n",
              " 137: {'neg': 0.0, 'neu': 0.695, 'pos': 0.305, 'compound': 0.9661},\n",
              " 138: {'neg': 0.0, 'neu': 0.689, 'pos': 0.311, 'compound': 0.8591},\n",
              " 139: {'neg': 0.15, 'neu': 0.773, 'pos': 0.077, 'compound': -0.4199},\n",
              " 140: {'neg': 0.043, 'neu': 0.833, 'pos': 0.125, 'compound': 0.835},\n",
              " 141: {'neg': 0.098, 'neu': 0.787, 'pos': 0.114, 'compound': 0.2023},\n",
              " 142: {'neg': 0.0, 'neu': 0.782, 'pos': 0.218, 'compound': 0.7814},\n",
              " 143: {'neg': 0.0, 'neu': 0.763, 'pos': 0.237, 'compound': 0.9296},\n",
              " 144: {'neg': 0.059, 'neu': 0.667, 'pos': 0.274, 'compound': 0.9653},\n",
              " 145: {'neg': 0.058, 'neu': 0.841, 'pos': 0.102, 'compound': 0.6124},\n",
              " 146: {'neg': 0.144, 'neu': 0.677, 'pos': 0.178, 'compound': 0.6341},\n",
              " 147: {'neg': 0.087, 'neu': 0.783, 'pos': 0.13, 'compound': 0.7567},\n",
              " 148: {'neg': 0.058, 'neu': 0.867, 'pos': 0.075, 'compound': 0.1533},\n",
              " 149: {'neg': 0.04, 'neu': 0.833, 'pos': 0.127, 'compound': 0.6956},\n",
              " 150: {'neg': 0.0, 'neu': 0.709, 'pos': 0.291, 'compound': 0.9231},\n",
              " 151: {'neg': 0.0, 'neu': 0.564, 'pos': 0.436, 'compound': 0.9858},\n",
              " 152: {'neg': 0.0, 'neu': 0.784, 'pos': 0.216, 'compound': 0.765},\n",
              " 153: {'neg': 0.0, 'neu': 0.775, 'pos': 0.225, 'compound': 0.7269},\n",
              " 154: {'neg': 0.12, 'neu': 0.76, 'pos': 0.12, 'compound': 0.2502},\n",
              " 155: {'neg': 0.0, 'neu': 0.647, 'pos': 0.353, 'compound': 0.9803},\n",
              " 156: {'neg': 0.0, 'neu': 0.768, 'pos': 0.232, 'compound': 0.9681},\n",
              " 157: {'neg': 0.191, 'neu': 0.809, 'pos': 0.0, 'compound': -0.7269},\n",
              " 158: {'neg': 0.071, 'neu': 0.514, 'pos': 0.415, 'compound': 0.8934},\n",
              " 159: {'neg': 0.065, 'neu': 0.893, 'pos': 0.042, 'compound': -0.4721},\n",
              " 160: {'neg': 0.081, 'neu': 0.779, 'pos': 0.14, 'compound': 0.4194},\n",
              " 161: {'neg': 0.0, 'neu': 0.644, 'pos': 0.356, 'compound': 0.9117},\n",
              " 162: {'neg': 0.106, 'neu': 0.894, 'pos': 0.0, 'compound': -0.5504},\n",
              " 163: {'neg': 0.072, 'neu': 0.652, 'pos': 0.276, 'compound': 0.9517},\n",
              " 164: {'neg': 0.047, 'neu': 0.869, 'pos': 0.085, 'compound': 0.4199},\n",
              " 165: {'neg': 0.025, 'neu': 0.752, 'pos': 0.223, 'compound': 0.8957},\n",
              " 166: {'neg': 0.032, 'neu': 0.717, 'pos': 0.251, 'compound': 0.9597},\n",
              " 167: {'neg': 0.0, 'neu': 0.657, 'pos': 0.343, 'compound': 0.9098},\n",
              " 168: {'neg': 0.05, 'neu': 0.905, 'pos': 0.045, 'compound': -0.1154},\n",
              " 169: {'neg': 0.186, 'neu': 0.74, 'pos': 0.074, 'compound': -0.5283},\n",
              " 170: {'neg': 0.141, 'neu': 0.832, 'pos': 0.028, 'compound': -0.7721},\n",
              " 171: {'neg': 0.0, 'neu': 0.854, 'pos': 0.146, 'compound': 0.6476},\n",
              " 172: {'neg': 0.04, 'neu': 0.844, 'pos': 0.116, 'compound': 0.6808},\n",
              " 173: {'neg': 0.0, 'neu': 0.763, 'pos': 0.237, 'compound': 0.8906},\n",
              " 174: {'neg': 0.022, 'neu': 0.788, 'pos': 0.189, 'compound': 0.9901},\n",
              " 175: {'neg': 0.04, 'neu': 0.722, 'pos': 0.237, 'compound': 0.9782},\n",
              " 176: {'neg': 0.0, 'neu': 0.874, 'pos': 0.126, 'compound': 0.7579},\n",
              " 177: {'neg': 0.0, 'neu': 0.938, 'pos': 0.062, 'compound': 0.4215},\n",
              " 178: {'neg': 0.058, 'neu': 0.794, 'pos': 0.148, 'compound': 0.6249},\n",
              " 179: {'neg': 0.2, 'neu': 0.63, 'pos': 0.171, 'compound': 0.1203},\n",
              " 180: {'neg': 0.048, 'neu': 0.829, 'pos': 0.122, 'compound': 0.7458},\n",
              " 181: {'neg': 0.076, 'neu': 0.767, 'pos': 0.156, 'compound': 0.6085},\n",
              " 182: {'neg': 0.0, 'neu': 0.433, 'pos': 0.567, 'compound': 0.9667},\n",
              " 183: {'neg': 0.088, 'neu': 0.743, 'pos': 0.169, 'compound': 0.943},\n",
              " 184: {'neg': 0.0, 'neu': 0.857, 'pos': 0.143, 'compound': 0.9577},\n",
              " 185: {'neg': 0.11, 'neu': 0.593, 'pos': 0.297, 'compound': 0.6597},\n",
              " 186: {'neg': 0.189, 'neu': 0.811, 'pos': 0.0, 'compound': -0.5994},\n",
              " 187: {'neg': 0.016, 'neu': 0.842, 'pos': 0.142, 'compound': 0.9944},\n",
              " 188: {'neg': 0.0, 'neu': 0.824, 'pos': 0.176, 'compound': 0.6983},\n",
              " 189: {'neg': 0.0, 'neu': 0.843, 'pos': 0.157, 'compound': 0.8868},\n",
              " 190: {'neg': 0.0, 'neu': 0.934, 'pos': 0.066, 'compound': 0.3506},\n",
              " 191: {'neg': 0.148, 'neu': 0.64, 'pos': 0.212, 'compound': 0.4926},\n",
              " 192: {'neg': 0.0, 'neu': 0.75, 'pos': 0.25, 'compound': 0.9062},\n",
              " 193: {'neg': 0.055, 'neu': 0.728, 'pos': 0.217, 'compound': 0.8756},\n",
              " 194: {'neg': 0.031, 'neu': 0.735, 'pos': 0.234, 'compound': 0.9595},\n",
              " 195: {'neg': 0.082, 'neu': 0.483, 'pos': 0.435, 'compound': 0.8299},\n",
              " 196: {'neg': 0.0, 'neu': 0.761, 'pos': 0.239, 'compound': 0.9538},\n",
              " 197: {'neg': 0.0, 'neu': 0.917, 'pos': 0.083, 'compound': 0.4738},\n",
              " 198: {'neg': 0.0, 'neu': 0.904, 'pos': 0.096, 'compound': 0.4153},\n",
              " 199: {'neg': 0.0, 'neu': 0.701, 'pos': 0.299, 'compound': 0.8268},\n",
              " 200: {'neg': 0.0, 'neu': 0.811, 'pos': 0.189, 'compound': 0.7178},\n",
              " 201: {'neg': 0.039, 'neu': 0.888, 'pos': 0.072, 'compound': 0.6381},\n",
              " 202: {'neg': 0.064, 'neu': 0.597, 'pos': 0.339, 'compound': 0.9531},\n",
              " 203: {'neg': 0.0, 'neu': 0.688, 'pos': 0.312, 'compound': 0.8225},\n",
              " 204: {'neg': 0.061, 'neu': 0.814, 'pos': 0.125, 'compound': 0.8728},\n",
              " 205: {'neg': 0.0, 'neu': 0.882, 'pos': 0.118, 'compound': 0.6249},\n",
              " 206: {'neg': 0.0, 'neu': 0.754, 'pos': 0.246, 'compound': 0.9368},\n",
              " 207: {'neg': 0.0, 'neu': 0.59, 'pos': 0.41, 'compound': 0.8779},\n",
              " 208: {'neg': 0.051, 'neu': 0.8, 'pos': 0.15, 'compound': 0.8436},\n",
              " 209: {'neg': 0.05, 'neu': 0.82, 'pos': 0.13, 'compound': 0.8913},\n",
              " 210: {'neg': 0.045, 'neu': 0.761, 'pos': 0.194, 'compound': 0.9893},\n",
              " 211: {'neg': 0.075, 'neu': 0.755, 'pos': 0.171, 'compound': 0.9218},\n",
              " 212: {'neg': 0.051, 'neu': 0.821, 'pos': 0.129, 'compound': 0.9529},\n",
              " 213: {'neg': 0.051, 'neu': 0.838, 'pos': 0.11, 'compound': 0.4404},\n",
              " 214: {'neg': 0.095, 'neu': 0.883, 'pos': 0.022, 'compound': -0.9726},\n",
              " 215: {'neg': 0.0, 'neu': 0.891, 'pos': 0.109, 'compound': 0.6476},\n",
              " 216: {'neg': 0.0, 'neu': 0.798, 'pos': 0.202, 'compound': 0.7964},\n",
              " 217: {'neg': 0.078, 'neu': 0.922, 'pos': 0.0, 'compound': -0.296},\n",
              " 218: {'neg': 0.015, 'neu': 0.884, 'pos': 0.101, 'compound': 0.9736},\n",
              " 219: {'neg': 0.059, 'neu': 0.774, 'pos': 0.167, 'compound': 0.9424},\n",
              " 220: {'neg': 0.031, 'neu': 0.702, 'pos': 0.267, 'compound': 0.9812},\n",
              " 221: {'neg': 0.027, 'neu': 0.909, 'pos': 0.064, 'compound': 0.25},\n",
              " 222: {'neg': 0.068, 'neu': 0.666, 'pos': 0.266, 'compound': 0.9883},\n",
              " 223: {'neg': 0.0, 'neu': 0.779, 'pos': 0.221, 'compound': 0.9623},\n",
              " 224: {'neg': 0.0, 'neu': 0.607, 'pos': 0.393, 'compound': 0.923},\n",
              " 225: {'neg': 0.152, 'neu': 0.739, 'pos': 0.109, 'compound': -0.25},\n",
              " 226: {'neg': 0.064, 'neu': 0.794, 'pos': 0.141, 'compound': 0.7951},\n",
              " 227: {'neg': 0.139, 'neu': 0.754, 'pos': 0.108, 'compound': -0.3774},\n",
              " 228: {'neg': 0.106, 'neu': 0.718, 'pos': 0.176, 'compound': 0.5475},\n",
              " 229: {'neg': 0.0, 'neu': 0.837, 'pos': 0.163, 'compound': 0.6486},\n",
              " 230: {'neg': 0.025, 'neu': 0.854, 'pos': 0.121, 'compound': 0.6478},\n",
              " 231: {'neg': 0.03, 'neu': 0.726, 'pos': 0.244, 'compound': 0.9281},\n",
              " 232: {'neg': 0.0, 'neu': 0.904, 'pos': 0.096, 'compound': 0.8144},\n",
              " 233: {'neg': 0.0, 'neu': 0.807, 'pos': 0.193, 'compound': 0.8126},\n",
              " 234: {'neg': 0.103, 'neu': 0.729, 'pos': 0.169, 'compound': 0.2481},\n",
              " 235: {'neg': 0.0, 'neu': 0.805, 'pos': 0.195, 'compound': 0.8655},\n",
              " 236: {'neg': 0.11, 'neu': 0.792, 'pos': 0.098, 'compound': -0.4786},\n",
              " 237: {'neg': 0.041, 'neu': 0.793, 'pos': 0.166, 'compound': 0.9387},\n",
              " 238: {'neg': 0.029, 'neu': 0.798, 'pos': 0.174, 'compound': 0.9936},\n",
              " 239: {'neg': 0.064, 'neu': 0.7, 'pos': 0.236, 'compound': 0.9677},\n",
              " 240: {'neg': 0.0, 'neu': 0.72, 'pos': 0.28, 'compound': 0.765},\n",
              " 241: {'neg': 0.066, 'neu': 0.71, 'pos': 0.223, 'compound': 0.9553},\n",
              " 242: {'neg': 0.0, 'neu': 0.765, 'pos': 0.235, 'compound': 0.807},\n",
              " 243: {'neg': 0.0, 'neu': 0.76, 'pos': 0.24, 'compound': 0.9344},\n",
              " 244: {'neg': 0.0, 'neu': 1.0, 'pos': 0.0, 'compound': 0.0},\n",
              " 245: {'neg': 0.081, 'neu': 0.63, 'pos': 0.289, 'compound': 0.765},\n",
              " 246: {'neg': 0.072, 'neu': 0.825, 'pos': 0.103, 'compound': 0.682},\n",
              " 247: {'neg': 0.075, 'neu': 0.633, 'pos': 0.292, 'compound': 0.9757},\n",
              " 248: {'neg': 0.0, 'neu': 0.869, 'pos': 0.131, 'compound': 0.7717},\n",
              " 249: {'neg': 0.0, 'neu': 0.602, 'pos': 0.398, 'compound': 0.9351},\n",
              " 250: {'neg': 0.0, 'neu': 0.75, 'pos': 0.25, 'compound': 0.7184},\n",
              " 251: {'neg': 0.047, 'neu': 0.781, 'pos': 0.172, 'compound': 0.9476},\n",
              " 252: {'neg': 0.076, 'neu': 0.924, 'pos': 0.0, 'compound': -0.4823},\n",
              " 253: {'neg': 0.107, 'neu': 0.893, 'pos': 0.0, 'compound': -0.4767},\n",
              " 254: {'neg': 0.0, 'neu': 0.801, 'pos': 0.199, 'compound': 0.9698},\n",
              " 255: {'neg': 0.091, 'neu': 0.736, 'pos': 0.172, 'compound': 0.4118},\n",
              " 256: {'neg': 0.103, 'neu': 0.699, 'pos': 0.198, 'compound': 0.9805},\n",
              " 257: {'neg': 0.034, 'neu': 0.664, 'pos': 0.302, 'compound': 0.9463},\n",
              " 258: {'neg': 0.105, 'neu': 0.816, 'pos': 0.079, 'compound': -0.3489},\n",
              " 259: {'neg': 0.04, 'neu': 0.841, 'pos': 0.119, 'compound': 0.8883},\n",
              " 260: {'neg': 0.0, 'neu': 0.833, 'pos': 0.167, 'compound': 0.8824},\n",
              " 261: {'neg': 0.0, 'neu': 0.613, 'pos': 0.387, 'compound': 0.9493},\n",
              " 262: {'neg': 0.0, 'neu': 0.54, 'pos': 0.46, 'compound': 0.9153},\n",
              " 263: {'neg': 0.106, 'neu': 0.706, 'pos': 0.188, 'compound': 0.5849},\n",
              " 264: {'neg': 0.098, 'neu': 0.875, 'pos': 0.026, 'compound': -0.9218},\n",
              " 265: {'neg': 0.051, 'neu': 0.802, 'pos': 0.147, 'compound': 0.872},\n",
              " 266: {'neg': 0.0, 'neu': 0.619, 'pos': 0.381, 'compound': 0.902},\n",
              " 267: {'neg': 0.0, 'neu': 0.862, 'pos': 0.138, 'compound': 0.4926},\n",
              " 268: {'neg': 0.062, 'neu': 0.911, 'pos': 0.028, 'compound': -0.7067},\n",
              " 269: {'neg': 0.0, 'neu': 0.767, 'pos': 0.233, 'compound': 0.8176},\n",
              " 270: {'neg': 0.032, 'neu': 0.794, 'pos': 0.174, 'compound': 0.9354},\n",
              " 271: {'neg': 0.0, 'neu': 0.839, 'pos': 0.161, 'compound': 0.5927},\n",
              " 272: {'neg': 0.062, 'neu': 0.863, 'pos': 0.074, 'compound': 0.2609},\n",
              " 273: {'neg': 0.052, 'neu': 0.817, 'pos': 0.132, 'compound': 0.7003},\n",
              " 274: {'neg': 0.0, 'neu': 0.733, 'pos': 0.267, 'compound': 0.7346},\n",
              " 275: {'neg': 0.037, 'neu': 0.693, 'pos': 0.271, 'compound': 0.9421},\n",
              " 276: {'neg': 0.132, 'neu': 0.711, 'pos': 0.157, 'compound': 0.3303},\n",
              " 277: {'neg': 0.0, 'neu': 0.523, 'pos': 0.477, 'compound': 0.9542},\n",
              " 278: {'neg': 0.025, 'neu': 0.809, 'pos': 0.167, 'compound': 0.937},\n",
              " 279: {'neg': 0.072, 'neu': 0.641, 'pos': 0.288, 'compound': 0.8565},\n",
              " 280: {'neg': 0.066, 'neu': 0.859, 'pos': 0.075, 'compound': 0.1666},\n",
              " 281: {'neg': 0.049, 'neu': 0.823, 'pos': 0.127, 'compound': 0.6438},\n",
              " 282: {'neg': 0.0, 'neu': 0.754, 'pos': 0.246, 'compound': 0.8016},\n",
              " 283: {'neg': 0.028, 'neu': 0.934, 'pos': 0.038, 'compound': 0.1779},\n",
              " 284: {'neg': 0.032, 'neu': 0.792, 'pos': 0.176, 'compound': 0.9852},\n",
              " 285: {'neg': 0.0, 'neu': 0.864, 'pos': 0.136, 'compound': 0.5255},\n",
              " 286: {'neg': 0.0, 'neu': 0.898, 'pos': 0.102, 'compound': 0.7917},\n",
              " 287: {'neg': 0.0, 'neu': 0.857, 'pos': 0.143, 'compound': 0.919},\n",
              " 288: {'neg': 0.035, 'neu': 0.801, 'pos': 0.163, 'compound': 0.9676},\n",
              " 289: {'neg': 0.054, 'neu': 0.745, 'pos': 0.2, 'compound': 0.9557},\n",
              " 290: {'neg': 0.039, 'neu': 0.697, 'pos': 0.264, 'compound': 0.8439},\n",
              " 291: {'neg': 0.104, 'neu': 0.705, 'pos': 0.191, 'compound': 0.6257},\n",
              " 292: {'neg': 0.052, 'neu': 0.745, 'pos': 0.203, 'compound': 0.9434},\n",
              " 293: {'neg': 0.09, 'neu': 0.705, 'pos': 0.205, 'compound': 0.8636},\n",
              " 294: {'neg': 0.034, 'neu': 0.757, 'pos': 0.209, 'compound': 0.9823},\n",
              " 295: {'neg': 0.0, 'neu': 0.887, 'pos': 0.113, 'compound': 0.4939},\n",
              " 296: {'neg': 0.12, 'neu': 0.781, 'pos': 0.099, 'compound': -0.7095},\n",
              " 297: {'neg': 0.025, 'neu': 0.737, 'pos': 0.239, 'compound': 0.9566},\n",
              " 298: {'neg': 0.0, 'neu': 0.811, 'pos': 0.189, 'compound': 0.8781},\n",
              " 299: {'neg': 0.0, 'neu': 0.681, 'pos': 0.319, 'compound': 0.8934},\n",
              " 300: {'neg': 0.078, 'neu': 0.735, 'pos': 0.187, 'compound': 0.9637},\n",
              " 301: {'neg': 0.0, 'neu': 0.632, 'pos': 0.368, 'compound': 0.9661},\n",
              " 302: {'neg': 0.148, 'neu': 0.625, 'pos': 0.227, 'compound': 0.5849},\n",
              " 303: {'neg': 0.014, 'neu': 0.705, 'pos': 0.281, 'compound': 0.9763},\n",
              " 304: {'neg': 0.076, 'neu': 0.791, 'pos': 0.133, 'compound': 0.25},\n",
              " 305: {'neg': 0.058, 'neu': 0.778, 'pos': 0.165, 'compound': 0.5734},\n",
              " 306: {'neg': 0.15, 'neu': 0.773, 'pos': 0.077, 'compound': -0.9037},\n",
              " 307: {'neg': 0.097, 'neu': 0.781, 'pos': 0.122, 'compound': 0.4733},\n",
              " 308: {'neg': 0.0, 'neu': 0.649, 'pos': 0.351, 'compound': 0.894},\n",
              " 309: {'neg': 0.0, 'neu': 0.796, 'pos': 0.204, 'compound': 0.9695},\n",
              " 310: {'neg': 0.0, 'neu': 0.774, 'pos': 0.226, 'compound': 0.9287},\n",
              " 311: {'neg': 0.031, 'neu': 0.657, 'pos': 0.312, 'compound': 0.9644},\n",
              " 312: {'neg': 0.087, 'neu': 0.913, 'pos': 0.0, 'compound': -0.4939},\n",
              " 313: {'neg': 0.0, 'neu': 1.0, 'pos': 0.0, 'compound': 0.0},\n",
              " 314: {'neg': 0.018, 'neu': 0.914, 'pos': 0.069, 'compound': 0.4971},\n",
              " 315: {'neg': 0.024, 'neu': 0.828, 'pos': 0.148, 'compound': 0.6897},\n",
              " 316: {'neg': 0.06, 'neu': 0.772, 'pos': 0.168, 'compound': 0.9109},\n",
              " 317: {'neg': 0.0, 'neu': 0.823, 'pos': 0.177, 'compound': 0.5783},\n",
              " 318: {'neg': 0.07, 'neu': 0.839, 'pos': 0.091, 'compound': 0.6785},\n",
              " 319: {'neg': 0.0, 'neu': 0.904, 'pos': 0.096, 'compound': 0.3716},\n",
              " 320: {'neg': 0.0, 'neu': 0.758, 'pos': 0.242, 'compound': 0.7717},\n",
              " 321: {'neg': 0.065, 'neu': 0.562, 'pos': 0.373, 'compound': 0.886},\n",
              " 322: {'neg': 0.0, 'neu': 1.0, 'pos': 0.0, 'compound': 0.0},\n",
              " 323: {'neg': 0.05, 'neu': 0.69, 'pos': 0.26, 'compound': 0.7712},\n",
              " 324: {'neg': 0.0, 'neu': 1.0, 'pos': 0.0, 'compound': 0.0},\n",
              " 325: {'neg': 0.213, 'neu': 0.514, 'pos': 0.274, 'compound': 0.3185},\n",
              " 326: {'neg': 0.0, 'neu': 0.688, 'pos': 0.312, 'compound': 0.8979},\n",
              " 327: {'neg': 0.075, 'neu': 0.726, 'pos': 0.199, 'compound': 0.9373},\n",
              " 328: {'neg': 0.064, 'neu': 0.594, 'pos': 0.342, 'compound': 0.9581},\n",
              " 329: {'neg': 0.163, 'neu': 0.708, 'pos': 0.129, 'compound': -0.8462},\n",
              " 330: {'neg': 0.029, 'neu': 0.856, 'pos': 0.115, 'compound': 0.5709},\n",
              " 331: {'neg': 0.0, 'neu': 0.837, 'pos': 0.163, 'compound': 0.6249},\n",
              " 332: {'neg': 0.115, 'neu': 0.885, 'pos': 0.0, 'compound': -0.4588},\n",
              " 333: {'neg': 0.0, 'neu': 0.689, 'pos': 0.311, 'compound': 0.9732},\n",
              " 334: {'neg': 0.0, 'neu': 0.662, 'pos': 0.338, 'compound': 0.9719},\n",
              " 335: {'neg': 0.0, 'neu': 0.886, 'pos': 0.114, 'compound': 0.6124},\n",
              " 336: {'neg': 0.046, 'neu': 0.8, 'pos': 0.154, 'compound': 0.6796},\n",
              " 337: {'neg': 0.078, 'neu': 0.651, 'pos': 0.271, 'compound': 0.8506},\n",
              " 338: {'neg': 0.0, 'neu': 0.765, 'pos': 0.235, 'compound': 0.9008},\n",
              " 339: {'neg': 0.0, 'neu': 0.734, 'pos': 0.266, 'compound': 0.784},\n",
              " 340: {'neg': 0.078, 'neu': 0.823, 'pos': 0.098, 'compound': 0.4416},\n",
              " 341: {'neg': 0.069, 'neu': 0.782, 'pos': 0.149, 'compound': 0.8499},\n",
              " 342: {'neg': 0.041, 'neu': 0.657, 'pos': 0.302, 'compound': 0.8731},\n",
              " 343: {'neg': 0.0, 'neu': 0.912, 'pos': 0.088, 'compound': 0.4939},\n",
              " 344: {'neg': 0.11, 'neu': 0.678, 'pos': 0.211, 'compound': 0.8053},\n",
              " 345: {'neg': 0.101, 'neu': 0.627, 'pos': 0.273, 'compound': 0.9758},\n",
              " 346: {'neg': 0.044, 'neu': 0.725, 'pos': 0.231, 'compound': 0.8319},\n",
              " 347: {'neg': 0.0, 'neu': 0.608, 'pos': 0.392, 'compound': 0.9694},\n",
              " 348: {'neg': 0.093, 'neu': 0.752, 'pos': 0.155, 'compound': 0.7667},\n",
              " 349: {'neg': 0.0, 'neu': 0.678, 'pos': 0.322, 'compound': 0.908},\n",
              " 350: {'neg': 0.071, 'neu': 0.861, 'pos': 0.068, 'compound': -0.0258},\n",
              " 351: {'neg': 0.0, 'neu': 0.715, 'pos': 0.285, 'compound': 0.9177},\n",
              " 352: {'neg': 0.064, 'neu': 0.727, 'pos': 0.209, 'compound': 0.7337},\n",
              " 353: {'neg': 0.0, 'neu': 0.893, 'pos': 0.107, 'compound': 0.802},\n",
              " 354: {'neg': 0.0, 'neu': 0.888, 'pos': 0.112, 'compound': 0.6604},\n",
              " 355: {'neg': 0.0, 'neu': 0.802, 'pos': 0.198, 'compound': 0.6892},\n",
              " 356: {'neg': 0.05, 'neu': 0.734, 'pos': 0.215, 'compound': 0.8008},\n",
              " 357: {'neg': 0.027, 'neu': 0.835, 'pos': 0.138, 'compound': 0.8805},\n",
              " 358: {'neg': 0.0, 'neu': 0.895, 'pos': 0.105, 'compound': 0.631},\n",
              " 359: {'neg': 0.164, 'neu': 0.694, 'pos': 0.142, 'compound': 0.283},\n",
              " 360: {'neg': 0.0, 'neu': 0.705, 'pos': 0.295, 'compound': 0.954},\n",
              " 361: {'neg': 0.033, 'neu': 0.785, 'pos': 0.182, 'compound': 0.9441},\n",
              " 362: {'neg': 0.228, 'neu': 0.772, 'pos': 0.0, 'compound': -0.734},\n",
              " 363: {'neg': 0.0, 'neu': 0.891, 'pos': 0.109, 'compound': 0.8802},\n",
              " 364: {'neg': 0.0, 'neu': 0.742, 'pos': 0.258, 'compound': 0.8088},\n",
              " 365: {'neg': 0.033, 'neu': 0.621, 'pos': 0.346, 'compound': 0.9334},\n",
              " 366: {'neg': 0.076, 'neu': 0.768, 'pos': 0.156, 'compound': 0.4434},\n",
              " 367: {'neg': 0.0, 'neu': 0.685, 'pos': 0.315, 'compound': 0.9366},\n",
              " 368: {'neg': 0.038, 'neu': 0.84, 'pos': 0.122, 'compound': 0.8016},\n",
              " 369: {'neg': 0.064, 'neu': 0.871, 'pos': 0.066, 'compound': 0.0258},\n",
              " 370: {'neg': 0.0, 'neu': 0.913, 'pos': 0.087, 'compound': 0.7703},\n",
              " 371: {'neg': 0.012, 'neu': 0.86, 'pos': 0.128, 'compound': 0.9923},\n",
              " 372: {'neg': 0.087, 'neu': 0.643, 'pos': 0.27, 'compound': 0.6912},\n",
              " 373: {'neg': 0.11, 'neu': 0.748, 'pos': 0.142, 'compound': 0.1264},\n",
              " 374: {'neg': 0.0, 'neu': 0.588, 'pos': 0.412, 'compound': 0.9168},\n",
              " 375: {'neg': 0.0, 'neu': 0.728, 'pos': 0.272, 'compound': 0.9472},\n",
              " 376: {'neg': 0.054, 'neu': 0.69, 'pos': 0.256, 'compound': 0.8962},\n",
              " 377: {'neg': 0.0, 'neu': 0.796, 'pos': 0.204, 'compound': 0.874},\n",
              " 378: {'neg': 0.046, 'neu': 0.793, 'pos': 0.161, 'compound': 0.9341},\n",
              " 379: {'neg': 0.063, 'neu': 0.524, 'pos': 0.413, 'compound': 0.9709},\n",
              " 380: {'neg': 0.036, 'neu': 0.695, 'pos': 0.269, 'compound': 0.9468},\n",
              " 381: {'neg': 0.074, 'neu': 0.715, 'pos': 0.212, 'compound': 0.8349},\n",
              " 382: {'neg': 0.318, 'neu': 0.515, 'pos': 0.167, 'compound': -0.7184},\n",
              " 383: {'neg': 0.0, 'neu': 0.905, 'pos': 0.095, 'compound': 0.6369},\n",
              " 384: {'neg': 0.027, 'neu': 0.78, 'pos': 0.193, 'compound': 0.9913},\n",
              " 385: {'neg': 0.0, 'neu': 0.767, 'pos': 0.233, 'compound': 0.8065},\n",
              " 386: {'neg': 0.0, 'neu': 0.774, 'pos': 0.226, 'compound': 0.9796},\n",
              " 387: {'neg': 0.0, 'neu': 0.839, 'pos': 0.161, 'compound': 0.8625},\n",
              " 388: {'neg': 0.089, 'neu': 0.75, 'pos': 0.161, 'compound': 0.8201},\n",
              " 389: {'neg': 0.088, 'neu': 0.537, 'pos': 0.375, 'compound': 0.755},\n",
              " 390: {'neg': 0.031, 'neu': 0.764, 'pos': 0.205, 'compound': 0.9183},\n",
              " 391: {'neg': 0.248, 'neu': 0.636, 'pos': 0.116, 'compound': -0.8174},\n",
              " 392: {'neg': 0.0, 'neu': 0.642, 'pos': 0.358, 'compound': 0.8591},\n",
              " 393: {'neg': 0.0, 'neu': 0.661, 'pos': 0.339, 'compound': 0.8481},\n",
              " 394: {'neg': 0.0, 'neu': 1.0, 'pos': 0.0, 'compound': 0.0},\n",
              " 395: {'neg': 0.0, 'neu': 0.83, 'pos': 0.17, 'compound': 0.8016},\n",
              " 396: {'neg': 0.0, 'neu': 0.502, 'pos': 0.498, 'compound': 0.9677},\n",
              " 397: {'neg': 0.0, 'neu': 0.638, 'pos': 0.362, 'compound': 0.9682},\n",
              " 398: {'neg': 0.046, 'neu': 0.703, 'pos': 0.251, 'compound': 0.867},\n",
              " 399: {'neg': 0.0, 'neu': 0.8, 'pos': 0.2, 'compound': 0.9885},\n",
              " 400: {'neg': 0.0, 'neu': 0.787, 'pos': 0.213, 'compound': 0.7644},\n",
              " 401: {'neg': 0.234, 'neu': 0.556, 'pos': 0.211, 'compound': 0.0},\n",
              " 402: {'neg': 0.093, 'neu': 0.813, 'pos': 0.095, 'compound': 0.0258},\n",
              " 403: {'neg': 0.215, 'neu': 0.697, 'pos': 0.088, 'compound': -0.6351},\n",
              " 404: {'neg': 0.194, 'neu': 0.771, 'pos': 0.035, 'compound': -0.9058},\n",
              " 405: {'neg': 0.0, 'neu': 0.691, 'pos': 0.309, 'compound': 0.8172},\n",
              " 406: {'neg': 0.019, 'neu': 0.702, 'pos': 0.279, 'compound': 0.9622},\n",
              " 407: {'neg': 0.0, 'neu': 0.954, 'pos': 0.046, 'compound': 0.6249},\n",
              " 408: {'neg': 0.036, 'neu': 0.772, 'pos': 0.192, 'compound': 0.9477},\n",
              " 409: {'neg': 0.0, 'neu': 0.713, 'pos': 0.287, 'compound': 0.9257},\n",
              " 410: {'neg': 0.05, 'neu': 0.758, 'pos': 0.192, 'compound': 0.8316},\n",
              " 411: {'neg': 0.016, 'neu': 0.879, 'pos': 0.105, 'compound': 0.8681},\n",
              " 412: {'neg': 0.0, 'neu': 0.802, 'pos': 0.198, 'compound': 0.8555},\n",
              " 413: {'neg': 0.0, 'neu': 0.815, 'pos': 0.185, 'compound': 0.7777},\n",
              " 414: {'neg': 0.0, 'neu': 0.914, 'pos': 0.086, 'compound': 0.4118},\n",
              " 415: {'neg': 0.0, 'neu': 0.722, 'pos': 0.278, 'compound': 0.8902},\n",
              " 416: {'neg': 0.0, 'neu': 0.594, 'pos': 0.406, 'compound': 0.9612},\n",
              " 417: {'neg': 0.07, 'neu': 0.799, 'pos': 0.131, 'compound': 0.9222},\n",
              " 418: {'neg': 0.166, 'neu': 0.809, 'pos': 0.025, 'compound': -0.8957},\n",
              " 419: {'neg': 0.0, 'neu': 0.784, 'pos': 0.216, 'compound': 0.8876},\n",
              " 420: {'neg': 0.148, 'neu': 0.815, 'pos': 0.037, 'compound': -0.5983},\n",
              " 421: {'neg': 0.035, 'neu': 0.754, 'pos': 0.211, 'compound': 0.9561},\n",
              " 422: {'neg': 0.0, 'neu': 0.861, 'pos': 0.139, 'compound': 0.4404},\n",
              " 423: {'neg': 0.223, 'neu': 0.68, 'pos': 0.096, 'compound': -0.3314},\n",
              " 424: {'neg': 0.055, 'neu': 0.687, 'pos': 0.258, 'compound': 0.9106},\n",
              " 425: {'neg': 0.017, 'neu': 0.821, 'pos': 0.161, 'compound': 0.9576},\n",
              " 426: {'neg': 0.0, 'neu': 0.806, 'pos': 0.194, 'compound': 0.7717},\n",
              " 427: {'neg': 0.029, 'neu': 0.817, 'pos': 0.154, 'compound': 0.7845},\n",
              " 428: {'neg': 0.0, 'neu': 0.761, 'pos': 0.239, 'compound': 0.9337},\n",
              " 429: {'neg': 0.0, 'neu': 0.739, 'pos': 0.261, 'compound': 0.9741},\n",
              " 430: {'neg': 0.0, 'neu': 0.617, 'pos': 0.383, 'compound': 0.9876},\n",
              " 431: {'neg': 0.04, 'neu': 0.786, 'pos': 0.174, 'compound': 0.9847},\n",
              " 432: {'neg': 0.0, 'neu': 0.73, 'pos': 0.27, 'compound': 0.9516},\n",
              " 433: {'neg': 0.083, 'neu': 0.751, 'pos': 0.166, 'compound': 0.8044},\n",
              " 434: {'neg': 0.108, 'neu': 0.593, 'pos': 0.299, 'compound': 0.8655},\n",
              " 435: {'neg': 0.0, 'neu': 0.771, 'pos': 0.229, 'compound': 0.9179},\n",
              " 436: {'neg': 0.0, 'neu': 0.829, 'pos': 0.171, 'compound': 0.8519},\n",
              " 437: {'neg': 0.0, 'neu': 0.926, 'pos': 0.074, 'compound': 0.7383},\n",
              " 438: {'neg': 0.0, 'neu': 0.887, 'pos': 0.113, 'compound': 0.6369},\n",
              " 439: {'neg': 0.0, 'neu': 0.728, 'pos': 0.272, 'compound': 0.87},\n",
              " 440: {'neg': 0.072, 'neu': 0.781, 'pos': 0.147, 'compound': 0.9307},\n",
              " 441: {'neg': 0.078, 'neu': 0.793, 'pos': 0.129, 'compound': 0.5176},\n",
              " 442: {'neg': 0.054, 'neu': 0.69, 'pos': 0.257, 'compound': 0.9683},\n",
              " 443: {'neg': 0.0, 'neu': 0.616, 'pos': 0.384, 'compound': 0.9603},\n",
              " 444: {'neg': 0.044, 'neu': 0.898, 'pos': 0.058, 'compound': 0.1882},\n",
              " 445: {'neg': 0.055, 'neu': 0.873, 'pos': 0.072, 'compound': 0.0935},\n",
              " 446: {'neg': 0.077, 'neu': 0.78, 'pos': 0.143, 'compound': 0.3699},\n",
              " 447: {'neg': 0.042, 'neu': 0.763, 'pos': 0.195, 'compound': 0.9883},\n",
              " 448: {'neg': 0.0, 'neu': 0.713, 'pos': 0.287, 'compound': 0.967},\n",
              " 449: {'neg': 0.0, 'neu': 0.737, 'pos': 0.263, 'compound': 0.8531},\n",
              " 450: {'neg': 0.0, 'neu': 0.845, 'pos': 0.155, 'compound': 0.6908},\n",
              " 451: {'neg': 0.034, 'neu': 0.743, 'pos': 0.223, 'compound': 0.9873},\n",
              " 452: {'neg': 0.054, 'neu': 0.782, 'pos': 0.164, 'compound': 0.9337},\n",
              " 453: {'neg': 0.0, 'neu': 0.5, 'pos': 0.5, 'compound': 0.943},\n",
              " 454: {'neg': 0.0, 'neu': 0.603, 'pos': 0.397, 'compound': 0.8811},\n",
              " 455: {'neg': 0.0, 'neu': 0.699, 'pos': 0.301, 'compound': 0.9619},\n",
              " 456: {'neg': 0.082, 'neu': 0.854, 'pos': 0.064, 'compound': -0.4854},\n",
              " 457: {'neg': 0.0, 'neu': 0.684, 'pos': 0.316, 'compound': 0.926},\n",
              " 458: {'neg': 0.0, 'neu': 0.564, 'pos': 0.436, 'compound': 0.9642},\n",
              " 459: {'neg': 0.045, 'neu': 0.717, 'pos': 0.239, 'compound': 0.8455},\n",
              " 460: {'neg': 0.066, 'neu': 0.743, 'pos': 0.19, 'compound': 0.9481},\n",
              " 461: {'neg': 0.08, 'neu': 0.821, 'pos': 0.099, 'compound': 0.4883},\n",
              " 462: {'neg': 0.037, 'neu': 0.87, 'pos': 0.093, 'compound': 0.34},\n",
              " 463: {'neg': 0.099, 'neu': 0.794, 'pos': 0.108, 'compound': 0.5983},\n",
              " 464: {'neg': 0.019, 'neu': 0.868, 'pos': 0.113, 'compound': 0.8443},\n",
              " 465: {'neg': 0.0, 'neu': 0.838, 'pos': 0.162, 'compound': 0.7823},\n",
              " 466: {'neg': 0.0, 'neu': 0.772, 'pos': 0.228, 'compound': 0.9606},\n",
              " 467: {'neg': 0.009, 'neu': 0.845, 'pos': 0.147, 'compound': 0.9874},\n",
              " 468: {'neg': 0.008, 'neu': 0.818, 'pos': 0.174, 'compound': 0.9926},\n",
              " 469: {'neg': 0.049, 'neu': 0.951, 'pos': 0.0, 'compound': -0.3595},\n",
              " 470: {'neg': 0.0, 'neu': 0.957, 'pos': 0.043, 'compound': 0.25},\n",
              " 471: {'neg': 0.051, 'neu': 0.676, 'pos': 0.273, 'compound': 0.9749},\n",
              " 472: {'neg': 0.0, 'neu': 0.565, 'pos': 0.435, 'compound': 0.9649},\n",
              " 473: {'neg': 0.0, 'neu': 0.686, 'pos': 0.314, 'compound': 0.7506},\n",
              " 474: {'neg': 0.013, 'neu': 0.75, 'pos': 0.237, 'compound': 0.9828},\n",
              " 475: {'neg': 0.0, 'neu': 0.585, 'pos': 0.415, 'compound': 0.9095},\n",
              " 476: {'neg': 0.066, 'neu': 0.614, 'pos': 0.32, 'compound': 0.9684},\n",
              " 477: {'neg': 0.034, 'neu': 0.728, 'pos': 0.238, 'compound': 0.8555},\n",
              " 478: {'neg': 0.0, 'neu': 0.823, 'pos': 0.177, 'compound': 0.6239},\n",
              " 479: {'neg': 0.245, 'neu': 0.652, 'pos': 0.103, 'compound': -0.3855},\n",
              " 480: {'neg': 0.0, 'neu': 0.435, 'pos': 0.565, 'compound': 0.9935},\n",
              " 481: {'neg': 0.022, 'neu': 0.728, 'pos': 0.249, 'compound': 0.9451},\n",
              " 482: {'neg': 0.0, 'neu': 0.605, 'pos': 0.395, 'compound': 0.9079},\n",
              " 483: {'neg': 0.0, 'neu': 0.862, 'pos': 0.138, 'compound': 0.3384},\n",
              " 484: {'neg': 0.088, 'neu': 0.767, 'pos': 0.145, 'compound': 0.4516},\n",
              " 485: {'neg': 0.0, 'neu': 0.761, 'pos': 0.239, 'compound': 0.8547},\n",
              " 486: {'neg': 0.0, 'neu': 0.818, 'pos': 0.182, 'compound': 0.9224},\n",
              " 487: {'neg': 0.0, 'neu': 0.909, 'pos': 0.091, 'compound': 0.296},\n",
              " 488: {'neg': 0.179, 'neu': 0.707, 'pos': 0.114, 'compound': -0.3723},\n",
              " 489: {'neg': 0.0, 'neu': 0.861, 'pos': 0.139, 'compound': 0.9598},\n",
              " 490: {'neg': 0.0, 'neu': 0.763, 'pos': 0.237, 'compound': 0.9788},\n",
              " 491: {'neg': 0.055, 'neu': 0.704, 'pos': 0.241, 'compound': 0.9287},\n",
              " 492: {'neg': 0.0, 'neu': 0.717, 'pos': 0.283, 'compound': 0.9367},\n",
              " 493: {'neg': 0.056, 'neu': 0.855, 'pos': 0.089, 'compound': 0.5976},\n",
              " 494: {'neg': 0.1, 'neu': 0.645, 'pos': 0.254, 'compound': 0.6486},\n",
              " 495: {'neg': 0.0, 'neu': 0.788, 'pos': 0.212, 'compound': 0.9743},\n",
              " 496: {'neg': 0.0, 'neu': 0.554, 'pos': 0.446, 'compound': 0.9725},\n",
              " 497: {'neg': 0.059, 'neu': 0.799, 'pos': 0.142, 'compound': 0.7833},\n",
              " 498: {'neg': 0.025, 'neu': 0.762, 'pos': 0.212, 'compound': 0.9848},\n",
              " 499: {'neg': 0.041, 'neu': 0.904, 'pos': 0.055, 'compound': 0.128},\n",
              " 500: {'neg': 0.0, 'neu': 0.678, 'pos': 0.322, 'compound': 0.9811},\n",
              " 501: {'neg': 0.067, 'neu': 0.887, 'pos': 0.046, 'compound': -0.2003},\n",
              " 502: {'neg': 0.0, 'neu': 0.62, 'pos': 0.38, 'compound': 0.8922},\n",
              " 503: {'neg': 0.0, 'neu': 0.715, 'pos': 0.285, 'compound': 0.8213},\n",
              " 504: {'neg': 0.082, 'neu': 0.753, 'pos': 0.165, 'compound': 0.7866},\n",
              " 505: {'neg': 0.016, 'neu': 0.816, 'pos': 0.168, 'compound': 0.9062},\n",
              " 506: {'neg': 0.0, 'neu': 0.732, 'pos': 0.268, 'compound': 0.8555},\n",
              " 507: {'neg': 0.017, 'neu': 0.745, 'pos': 0.238, 'compound': 0.9887},\n",
              " 508: {'neg': 0.147, 'neu': 0.641, 'pos': 0.212, 'compound': 0.7285},\n",
              " 509: {'neg': 0.138, 'neu': 0.763, 'pos': 0.099, 'compound': -0.8157},\n",
              " 510: {'neg': 0.12, 'neu': 0.642, 'pos': 0.237, 'compound': 0.6369},\n",
              " 511: {'neg': 0.052, 'neu': 0.643, 'pos': 0.304, 'compound': 0.9312},\n",
              " 512: {'neg': 0.079, 'neu': 0.779, 'pos': 0.142, 'compound': 0.7184},\n",
              " 513: {'neg': 0.0, 'neu': 0.895, 'pos': 0.105, 'compound': 0.5859},\n",
              " 514: {'neg': 0.029, 'neu': 0.81, 'pos': 0.16, 'compound': 0.935},\n",
              " 515: {'neg': 0.023, 'neu': 0.852, 'pos': 0.125, 'compound': 0.9321},\n",
              " 516: {'neg': 0.0, 'neu': 0.681, 'pos': 0.319, 'compound': 0.8934},\n",
              " 517: {'neg': 0.092, 'neu': 0.736, 'pos': 0.172, 'compound': 0.8074},\n",
              " 518: {'neg': 0.0, 'neu': 0.689, 'pos': 0.311, 'compound': 0.8221},\n",
              " 519: {'neg': 0.0, 'neu': 0.646, 'pos': 0.354, 'compound': 0.899},\n",
              " 520: {'neg': 0.0, 'neu': 1.0, 'pos': 0.0, 'compound': 0.0},\n",
              " 521: {'neg': 0.011, 'neu': 0.736, 'pos': 0.253, 'compound': 0.9839},\n",
              " 522: {'neg': 0.0, 'neu': 0.684, 'pos': 0.316, 'compound': 0.8658},\n",
              " 523: {'neg': 0.032, 'neu': 0.751, 'pos': 0.217, 'compound': 0.9954},\n",
              " 524: {'neg': 0.086, 'neu': 0.818, 'pos': 0.096, 'compound': 0.4246},\n",
              " 525: {'neg': 0.045, 'neu': 0.737, 'pos': 0.218, 'compound': 0.8583},\n",
              " 526: {'neg': 0.038, 'neu': 0.73, 'pos': 0.232, 'compound': 0.9844},\n",
              " 527: {'neg': 0.0, 'neu': 0.782, 'pos': 0.218, 'compound': 0.8539},\n",
              " 528: {'neg': 0.051, 'neu': 0.79, 'pos': 0.16, 'compound': 0.9538},\n",
              " 529: {'neg': 0.047, 'neu': 0.803, 'pos': 0.15, 'compound': 0.9966},\n",
              " 530: {'neg': 0.03, 'neu': 0.71, 'pos': 0.26, 'compound': 0.9757},\n",
              " 531: {'neg': 0.0, 'neu': 0.756, 'pos': 0.244, 'compound': 0.9523},\n",
              " 532: {'neg': 0.069, 'neu': 0.766, 'pos': 0.164, 'compound': 0.91},\n",
              " 533: {'neg': 0.0, 'neu': 0.766, 'pos': 0.234, 'compound': 0.6705},\n",
              " 534: {'neg': 0.0, 'neu': 1.0, 'pos': 0.0, 'compound': 0.0},\n",
              " 535: {'neg': 0.045, 'neu': 0.824, 'pos': 0.13, 'compound': 0.6114},\n",
              " 536: {'neg': 0.065, 'neu': 0.918, 'pos': 0.018, 'compound': -0.7641},\n",
              " 537: {'neg': 0.069, 'neu': 0.757, 'pos': 0.174, 'compound': 0.7028},\n",
              " 538: {'neg': 0.236, 'neu': 0.72, 'pos': 0.045, 'compound': -0.9032},\n",
              " 539: {'neg': 0.128, 'neu': 0.872, 'pos': 0.0, 'compound': -0.5209},\n",
              " 540: {'neg': 0.045, 'neu': 0.788, 'pos': 0.168, 'compound': 0.9989},\n",
              " 541: {'neg': 0.087, 'neu': 0.844, 'pos': 0.069, 'compound': -0.2092},\n",
              " 542: {'neg': 0.013, 'neu': 0.935, 'pos': 0.052, 'compound': 0.4926},\n",
              " 543: {'neg': 0.044, 'neu': 0.752, 'pos': 0.203, 'compound': 0.9183},\n",
              " 544: {'neg': 0.14, 'neu': 0.742, 'pos': 0.117, 'compound': -0.1779},\n",
              " 545: {'neg': 0.193, 'neu': 0.658, 'pos': 0.149, 'compound': -0.417},\n",
              " 546: {'neg': 0.357, 'neu': 0.643, 'pos': 0.0, 'compound': -0.8745},\n",
              " 547: {'neg': 0.054, 'neu': 0.813, 'pos': 0.133, 'compound': 0.8161},\n",
              " 548: {'neg': 0.142, 'neu': 0.746, 'pos': 0.111, 'compound': -0.5089},\n",
              " 549: {'neg': 0.0, 'neu': 0.659, 'pos': 0.341, 'compound': 0.8855},\n",
              " 550: {'neg': 0.0, 'neu': 0.828, 'pos': 0.172, 'compound': 0.4404},\n",
              " 551: {'neg': 0.0, 'neu': 0.867, 'pos': 0.133, 'compound': 0.7555},\n",
              " 552: {'neg': 0.144, 'neu': 0.856, 'pos': 0.0, 'compound': -0.8144},\n",
              " 553: {'neg': 0.0, 'neu': 0.801, 'pos': 0.199, 'compound': 0.921},\n",
              " 554: {'neg': 0.0, 'neu': 0.916, 'pos': 0.084, 'compound': 0.9136},\n",
              " 555: {'neg': 0.0, 'neu': 0.927, 'pos': 0.073, 'compound': 0.5106},\n",
              " 556: {'neg': 0.0, 'neu': 0.93, 'pos': 0.07, 'compound': 0.3252},\n",
              " 557: {'neg': 0.096, 'neu': 0.745, 'pos': 0.158, 'compound': 0.25},\n",
              " 558: {'neg': 0.269, 'neu': 0.66, 'pos': 0.071, 'compound': -0.8004},\n",
              " 559: {'neg': 0.115, 'neu': 0.755, 'pos': 0.13, 'compound': 0.1104},\n",
              " 560: {'neg': 0.0, 'neu': 0.718, 'pos': 0.282, 'compound': 0.9612},\n",
              " 561: {'neg': 0.09, 'neu': 0.847, 'pos': 0.062, 'compound': -0.7754},\n",
              " 562: {'neg': 0.093, 'neu': 0.876, 'pos': 0.031, 'compound': -0.664},\n",
              " 563: {'neg': 0.12, 'neu': 0.795, 'pos': 0.084, 'compound': -0.8814},\n",
              " 564: {'neg': 0.026, 'neu': 0.797, 'pos': 0.177, 'compound': 0.9217},\n",
              " 565: {'neg': 0.0, 'neu': 0.832, 'pos': 0.168, 'compound': 0.8172},\n",
              " 566: {'neg': 0.0, 'neu': 0.608, 'pos': 0.392, 'compound': 0.9859},\n",
              " 567: {'neg': 0.177, 'neu': 0.823, 'pos': 0.0, 'compound': -0.9679},\n",
              " 568: {'neg': 0.114, 'neu': 0.735, 'pos': 0.151, 'compound': 0.6749},\n",
              " 569: {'neg': 0.026, 'neu': 0.897, 'pos': 0.077, 'compound': 0.3291},\n",
              " 570: {'neg': 0.0, 'neu': 0.803, 'pos': 0.197, 'compound': 0.8422},\n",
              " 571: {'neg': 0.0, 'neu': 0.751, 'pos': 0.249, 'compound': 0.9118},\n",
              " 572: {'neg': 0.01, 'neu': 0.817, 'pos': 0.172, 'compound': 0.9945},\n",
              " 573: {'neg': 0.018, 'neu': 0.818, 'pos': 0.164, 'compound': 0.9915},\n",
              " 574: {'neg': 0.0, 'neu': 1.0, 'pos': 0.0, 'compound': 0.0},\n",
              " 575: {'neg': 0.009, 'neu': 0.845, 'pos': 0.147, 'compound': 0.9874},\n",
              " 576: {'neg': 0.0, 'neu': 0.601, 'pos': 0.399, 'compound': 0.8834},\n",
              " 577: {'neg': 0.019, 'neu': 0.835, 'pos': 0.146, 'compound': 0.8291},\n",
              " 578: {'neg': 0.0, 'neu': 0.781, 'pos': 0.219, 'compound': 0.9749},\n",
              " 579: {'neg': 0.0, 'neu': 0.536, 'pos': 0.464, 'compound': 0.9307},\n",
              " 580: {'neg': 0.0, 'neu': 0.802, 'pos': 0.198, 'compound': 0.6369},\n",
              " 581: {'neg': 0.0, 'neu': 0.857, 'pos': 0.143, 'compound': 0.6124},\n",
              " 582: {'neg': 0.043, 'neu': 0.649, 'pos': 0.308, 'compound': 0.9254},\n",
              " 583: {'neg': 0.0, 'neu': 0.907, 'pos': 0.093, 'compound': 0.4019},\n",
              " 584: {'neg': 0.091, 'neu': 0.909, 'pos': 0.0, 'compound': -0.2732},\n",
              " 585: {'neg': 0.081, 'neu': 0.785, 'pos': 0.134, 'compound': 0.25},\n",
              " 586: {'neg': 0.083, 'neu': 0.721, 'pos': 0.196, 'compound': 0.8132},\n",
              " 587: {'neg': 0.0, 'neu': 0.779, 'pos': 0.221, 'compound': 0.9323},\n",
              " 588: {'neg': 0.116, 'neu': 0.75, 'pos': 0.135, 'compound': 0.2169},\n",
              " 589: {'neg': 0.0, 'neu': 0.81, 'pos': 0.19, 'compound': 0.9042},\n",
              " 590: {'neg': 0.016, 'neu': 0.861, 'pos': 0.123, 'compound': 0.846},\n",
              " 591: {'neg': 0.0, 'neu': 0.826, 'pos': 0.174, 'compound': 0.6369},\n",
              " 592: {'neg': 0.0, 'neu': 0.889, 'pos': 0.111, 'compound': 0.9446},\n",
              " 593: {'neg': 0.056, 'neu': 0.726, 'pos': 0.217, 'compound': 0.9739},\n",
              " 594: {'neg': 0.042, 'neu': 0.857, 'pos': 0.101, 'compound': 0.8112},\n",
              " 595: {'neg': 0.031, 'neu': 0.831, 'pos': 0.138, 'compound': 0.8932},\n",
              " 596: {'neg': 0.022, 'neu': 0.845, 'pos': 0.133, 'compound': 0.9206},\n",
              " 597: {'neg': 0.0, 'neu': 0.797, 'pos': 0.203, 'compound': 0.8567},\n",
              " 598: {'neg': 0.063, 'neu': 0.859, 'pos': 0.078, 'compound': 0.4101},\n",
              " 599: {'neg': 0.146, 'neu': 0.571, 'pos': 0.283, 'compound': 0.8802},\n",
              " 600: {'neg': 0.051, 'neu': 0.693, 'pos': 0.257, 'compound': 0.9842},\n",
              " 601: {'neg': 0.186, 'neu': 0.665, 'pos': 0.149, 'compound': -0.4503},\n",
              " 602: {'neg': 0.05, 'neu': 0.639, 'pos': 0.311, 'compound': 0.9834},\n",
              " 603: {'neg': 0.007, 'neu': 0.827, 'pos': 0.166, 'compound': 0.9938},\n",
              " 604: {'neg': 0.009, 'neu': 0.845, 'pos': 0.147, 'compound': 0.9874},\n",
              " 605: {'neg': 0.0, 'neu': 0.83, 'pos': 0.17, 'compound': 0.8481},\n",
              " 606: {'neg': 0.0, 'neu': 0.837, 'pos': 0.163, 'compound': 0.8715},\n",
              " 607: {'neg': 0.085, 'neu': 0.682, 'pos': 0.233, 'compound': 0.5705},\n",
              " 608: {'neg': 0.014, 'neu': 0.733, 'pos': 0.253, 'compound': 0.9779},\n",
              " 609: {'neg': 0.061, 'neu': 0.875, 'pos': 0.063, 'compound': 0.0384},\n",
              " 610: {'neg': 0.02, 'neu': 0.834, 'pos': 0.146, 'compound': 0.9668},\n",
              " 611: {'neg': 0.088, 'neu': 0.713, 'pos': 0.2, 'compound': 0.6222},\n",
              " 612: {'neg': 0.052, 'neu': 0.758, 'pos': 0.191, 'compound': 0.8139},\n",
              " 613: {'neg': 0.147, 'neu': 0.786, 'pos': 0.067, 'compound': -0.6341},\n",
              " 614: {'neg': 0.0, 'neu': 0.746, 'pos': 0.254, 'compound': 0.9585},\n",
              " 615: {'neg': 0.039, 'neu': 0.801, 'pos': 0.159, 'compound': 0.9169},\n",
              " 616: {'neg': 0.024, 'neu': 0.706, 'pos': 0.27, 'compound': 0.982},\n",
              " 617: {'neg': 0.0, 'neu': 0.7, 'pos': 0.3, 'compound': 0.8901},\n",
              " 618: {'neg': 0.0, 'neu': 0.694, 'pos': 0.306, 'compound': 0.8979},\n",
              " 619: {'neg': 0.0, 'neu': 0.875, 'pos': 0.125, 'compound': 0.5067},\n",
              " 620: {'neg': 0.0, 'neu': 0.599, 'pos': 0.401, 'compound': 0.9586},\n",
              " 621: {'neg': 0.075, 'neu': 0.817, 'pos': 0.108, 'compound': 0.8004},\n",
              " 622: {'neg': 0.157, 'neu': 0.788, 'pos': 0.055, 'compound': -0.8088},\n",
              " 623: {'neg': 0.039, 'neu': 0.627, 'pos': 0.334, 'compound': 0.969},\n",
              " 624: {'neg': 0.077, 'neu': 0.707, 'pos': 0.217, 'compound': 0.983},\n",
              " 625: {'neg': 0.0, 'neu': 0.867, 'pos': 0.133, 'compound': 0.9697},\n",
              " 626: {'neg': 0.028, 'neu': 0.697, 'pos': 0.275, 'compound': 0.9745},\n",
              " 627: {'neg': 0.078, 'neu': 0.792, 'pos': 0.13, 'compound': 0.5574},\n",
              " 628: {'neg': 0.061, 'neu': 0.674, 'pos': 0.265, 'compound': 0.8678},\n",
              " 629: {'neg': 0.053, 'neu': 0.947, 'pos': 0.0, 'compound': -0.3919},\n",
              " 630: {'neg': 0.13, 'neu': 0.587, 'pos': 0.283, 'compound': 0.9169},\n",
              " 631: {'neg': 0.029, 'neu': 0.918, 'pos': 0.053, 'compound': 0.4166},\n",
              " 632: {'neg': 0.0, 'neu': 0.69, 'pos': 0.31, 'compound': 0.933},\n",
              " 633: {'neg': 0.01, 'neu': 0.866, 'pos': 0.124, 'compound': 0.9167},\n",
              " 634: {'neg': 0.042, 'neu': 0.775, 'pos': 0.183, 'compound': 0.9739},\n",
              " 635: {'neg': 0.213, 'neu': 0.608, 'pos': 0.179, 'compound': -0.0997},\n",
              " 636: {'neg': 0.187, 'neu': 0.728, 'pos': 0.086, 'compound': -0.9194},\n",
              " 637: {'neg': 0.05, 'neu': 0.856, 'pos': 0.093, 'compound': 0.5597},\n",
              " 638: {'neg': 0.095, 'neu': 0.589, 'pos': 0.316, 'compound': 0.7074},\n",
              " 639: {'neg': 0.034, 'neu': 0.722, 'pos': 0.244, 'compound': 0.9375},\n",
              " 640: {'neg': 0.03, 'neu': 0.734, 'pos': 0.236, 'compound': 0.9554},\n",
              " 641: {'neg': 0.0, 'neu': 0.936, 'pos': 0.064, 'compound': 0.0772},\n",
              " 642: {'neg': 0.0, 'neu': 0.799, 'pos': 0.201, 'compound': 0.9545},\n",
              " 643: {'neg': 0.031, 'neu': 0.793, 'pos': 0.176, 'compound': 0.8316},\n",
              " 644: {'neg': 0.02, 'neu': 0.685, 'pos': 0.295, 'compound': 0.9814},\n",
              " 645: {'neg': 0.076, 'neu': 0.585, 'pos': 0.339, 'compound': 0.8595},\n",
              " 646: {'neg': 0.0, 'neu': 0.694, 'pos': 0.306, 'compound': 0.9151},\n",
              " 647: {'neg': 0.021, 'neu': 0.83, 'pos': 0.149, 'compound': 0.9249},\n",
              " 648: {'neg': 0.096, 'neu': 0.7, 'pos': 0.204, 'compound': 0.5719},\n",
              " 649: {'neg': 0.0, 'neu': 0.89, 'pos': 0.11, 'compound': 0.3818},\n",
              " 650: {'neg': 0.093, 'neu': 0.77, 'pos': 0.137, 'compound': 0.9356},\n",
              " 651: {'neg': 0.0, 'neu': 0.814, 'pos': 0.186, 'compound': 0.8395},\n",
              " 652: {'neg': 0.043, 'neu': 0.867, 'pos': 0.09, 'compound': 0.8845},\n",
              " 653: {'neg': 0.029, 'neu': 0.9, 'pos': 0.071, 'compound': 0.9377},\n",
              " 654: {'neg': 0.038, 'neu': 0.89, 'pos': 0.072, 'compound': 0.7588},\n",
              " 655: {'neg': 0.0, 'neu': 0.909, 'pos': 0.091, 'compound': 0.4404},\n",
              " 656: {'neg': 0.0, 'neu': 0.614, 'pos': 0.386, 'compound': 0.8932},\n",
              " 657: {'neg': 0.0, 'neu': 0.654, 'pos': 0.346, 'compound': 0.9022},\n",
              " 658: {'neg': 0.0, 'neu': 0.811, 'pos': 0.189, 'compound': 0.6808},\n",
              " 659: {'neg': 0.046, 'neu': 0.637, 'pos': 0.316, 'compound': 0.906},\n",
              " 660: {'neg': 0.02, 'neu': 0.777, 'pos': 0.203, 'compound': 0.9601},\n",
              " 661: {'neg': 0.228, 'neu': 0.545, 'pos': 0.228, 'compound': 0.25},\n",
              " 662: {'neg': 0.0, 'neu': 0.788, 'pos': 0.212, 'compound': 0.8439},\n",
              " 663: {'neg': 0.106, 'neu': 0.7, 'pos': 0.193, 'compound': 0.624},\n",
              " 664: {'neg': 0.018, 'neu': 0.882, 'pos': 0.099, 'compound': 0.9621},\n",
              " 665: {'neg': 0.0, 'neu': 0.774, 'pos': 0.226, 'compound': 0.9757},\n",
              " 666: {'neg': 0.0, 'neu': 0.697, 'pos': 0.303, 'compound': 0.9476},\n",
              " 667: {'neg': 0.0, 'neu': 0.816, 'pos': 0.184, 'compound': 0.7263},\n",
              " 668: {'neg': 0.05, 'neu': 0.69, 'pos': 0.26, 'compound': 0.8689},\n",
              " 669: {'neg': 0.0, 'neu': 0.744, 'pos': 0.256, 'compound': 0.8225},\n",
              " 670: {'neg': 0.077, 'neu': 0.634, 'pos': 0.289, 'compound': 0.7906},\n",
              " 671: {'neg': 0.0, 'neu': 0.604, 'pos': 0.396, 'compound': 0.8957},\n",
              " 672: {'neg': 0.046, 'neu': 0.854, 'pos': 0.1, 'compound': 0.8074},\n",
              " 673: {'neg': 0.065, 'neu': 0.88, 'pos': 0.055, 'compound': -0.1263},\n",
              " 674: {'neg': 0.062, 'neu': 0.708, 'pos': 0.231, 'compound': 0.9313},\n",
              " 675: {'neg': 0.0, 'neu': 0.797, 'pos': 0.203, 'compound': 0.9098},\n",
              " 676: {'neg': 0.095, 'neu': 0.773, 'pos': 0.132, 'compound': 0.6588},\n",
              " 677: {'neg': 0.044, 'neu': 0.72, 'pos': 0.237, 'compound': 0.9566},\n",
              " 678: {'neg': 0.049, 'neu': 0.685, 'pos': 0.266, 'compound': 0.749},\n",
              " 679: {'neg': 0.0, 'neu': 0.746, 'pos': 0.254, 'compound': 0.8896},\n",
              " 680: {'neg': 0.126, 'neu': 0.686, 'pos': 0.188, 'compound': 0.879},\n",
              " 681: {'neg': 0.052, 'neu': 0.829, 'pos': 0.119, 'compound': 0.491},\n",
              " 682: {'neg': 0.121, 'neu': 0.879, 'pos': 0.0, 'compound': -0.509},\n",
              " 683: {'neg': 0.06, 'neu': 0.753, 'pos': 0.187, 'compound': 0.6369},\n",
              " 684: {'neg': 0.184, 'neu': 0.816, 'pos': 0.0, 'compound': -0.5423},\n",
              " 685: {'neg': 0.141, 'neu': 0.411, 'pos': 0.449, 'compound': 0.9354},\n",
              " 686: {'neg': 0.0, 'neu': 0.56, 'pos': 0.44, 'compound': 0.9318},\n",
              " 687: {'neg': 0.015, 'neu': 0.844, 'pos': 0.141, 'compound': 0.9605},\n",
              " 688: {'neg': 0.0, 'neu': 0.833, 'pos': 0.167, 'compound': 0.7183},\n",
              " 689: {'neg': 0.051, 'neu': 0.743, 'pos': 0.206, 'compound': 0.9694},\n",
              " 690: {'neg': 0.041, 'neu': 0.716, 'pos': 0.243, 'compound': 0.8878},\n",
              " 691: {'neg': 0.045, 'neu': 0.817, 'pos': 0.138, 'compound': 0.8189},\n",
              " 692: {'neg': 0.035, 'neu': 0.826, 'pos': 0.139, 'compound': 0.7845},\n",
              " 693: {'neg': 0.0, 'neu': 0.916, 'pos': 0.084, 'compound': 0.8356},\n",
              " 694: {'neg': 0.0, 'neu': 0.86, 'pos': 0.14, 'compound': 0.7345},\n",
              " 695: {'neg': 0.0, 'neu': 0.705, 'pos': 0.295, 'compound': 0.8718},\n",
              " 696: {'neg': 0.0, 'neu': 0.734, 'pos': 0.266, 'compound': 0.9118},\n",
              " 697: {'neg': 0.037, 'neu': 0.89, 'pos': 0.073, 'compound': 0.3585},\n",
              " 698: {'neg': 0.052, 'neu': 0.759, 'pos': 0.189, 'compound': 0.9103},\n",
              " 699: {'neg': 0.076, 'neu': 0.698, 'pos': 0.227, 'compound': 0.911},\n",
              " 700: {'neg': 0.052, 'neu': 0.687, 'pos': 0.261, 'compound': 0.905},\n",
              " 701: {'neg': 0.055, 'neu': 0.731, 'pos': 0.214, 'compound': 0.7414},\n",
              " 702: {'neg': 0.067, 'neu': 0.672, 'pos': 0.261, 'compound': 0.7467},\n",
              " 703: {'neg': 0.0, 'neu': 0.623, 'pos': 0.377, 'compound': 0.9603},\n",
              " 704: {'neg': 0.0, 'neu': 0.552, 'pos': 0.448, 'compound': 0.9393},\n",
              " 705: {'neg': 0.059, 'neu': 0.536, 'pos': 0.405, 'compound': 0.9312},\n",
              " 706: {'neg': 0.091, 'neu': 0.563, 'pos': 0.345, 'compound': 0.7824},\n",
              " 707: {'neg': 0.07, 'neu': 0.648, 'pos': 0.282, 'compound': 0.8176},\n",
              " 708: {'neg': 0.0, 'neu': 0.635, 'pos': 0.365, 'compound': 0.7845},\n",
              " 709: {'neg': 0.0, 'neu': 0.717, 'pos': 0.283, 'compound': 0.8172},\n",
              " 710: {'neg': 0.028, 'neu': 0.865, 'pos': 0.107, 'compound': 0.9035},\n",
              " 711: {'neg': 0.0, 'neu': 0.88, 'pos': 0.12, 'compound': 0.9131},\n",
              " 712: {'neg': 0.029, 'neu': 0.911, 'pos': 0.06, 'compound': 0.3116},\n",
              " 713: {'neg': 0.048, 'neu': 0.773, 'pos': 0.179, 'compound': 0.9605},\n",
              " 714: {'neg': 0.0, 'neu': 0.85, 'pos': 0.15, 'compound': 0.8725},\n",
              " 715: {'neg': 0.0, 'neu': 0.76, 'pos': 0.24, 'compound': 0.9001},\n",
              " 716: {'neg': 0.088, 'neu': 0.669, 'pos': 0.243, 'compound': 0.9403},\n",
              " 717: {'neg': 0.09, 'neu': 0.887, 'pos': 0.023, 'compound': -0.6607},\n",
              " 718: {'neg': 0.075, 'neu': 0.858, 'pos': 0.066, 'compound': -0.1045},\n",
              " 719: {'neg': 0.087, 'neu': 0.774, 'pos': 0.139, 'compound': 0.6675},\n",
              " 720: {'neg': 0.102, 'neu': 0.824, 'pos': 0.073, 'compound': -0.2617},\n",
              " 721: {'neg': 0.024, 'neu': 0.75, 'pos': 0.226, 'compound': 0.9318},\n",
              " 722: {'neg': 0.029, 'neu': 0.714, 'pos': 0.256, 'compound': 0.9449},\n",
              " 723: {'neg': 0.073, 'neu': 0.757, 'pos': 0.17, 'compound': 0.8395},\n",
              " 724: {'neg': 0.091, 'neu': 0.779, 'pos': 0.13, 'compound': 0.224},\n",
              " 725: {'neg': 0.0, 'neu': 0.738, 'pos': 0.262, 'compound': 0.6901},\n",
              " 726: {'neg': 0.028, 'neu': 0.891, 'pos': 0.081, 'compound': 0.7227},\n",
              " 727: {'neg': 0.04, 'neu': 0.577, 'pos': 0.383, 'compound': 0.9168},\n",
              " 728: {'neg': 0.0, 'neu': 0.864, 'pos': 0.136, 'compound': 0.3987},\n",
              " 729: {'neg': 0.0, 'neu': 0.617, 'pos': 0.383, 'compound': 0.9825},\n",
              " 730: {'neg': 0.0, 'neu': 0.915, 'pos': 0.085, 'compound': 0.6697},\n",
              " 731: {'neg': 0.1, 'neu': 0.709, 'pos': 0.191, 'compound': 0.6886},\n",
              " 732: {'neg': 0.0, 'neu': 0.805, 'pos': 0.195, 'compound': 0.9022},\n",
              " 733: {'neg': 0.109, 'neu': 0.785, 'pos': 0.106, 'compound': 0.2249},\n",
              " 734: {'neg': 0.0, 'neu': 0.442, 'pos': 0.558, 'compound': 0.9764},\n",
              " 735: {'neg': 0.054, 'neu': 0.828, 'pos': 0.118, 'compound': 0.5632},\n",
              " 736: {'neg': 0.022, 'neu': 0.88, 'pos': 0.098, 'compound': 0.9257},\n",
              " 737: {'neg': 0.176, 'neu': 0.685, 'pos': 0.139, 'compound': -0.4376},\n",
              " 738: {'neg': 0.083, 'neu': 0.822, 'pos': 0.095, 'compound': -0.409},\n",
              " 739: {'neg': 0.135, 'neu': 0.758, 'pos': 0.108, 'compound': -0.3625},\n",
              " 740: {'neg': 0.247, 'neu': 0.562, 'pos': 0.191, 'compound': -0.7067},\n",
              " 741: {'neg': 0.154, 'neu': 0.754, 'pos': 0.091, 'compound': -0.9047},\n",
              " 742: {'neg': 0.126, 'neu': 0.821, 'pos': 0.053, 'compound': -0.9321},\n",
              " 743: {'neg': 0.0, 'neu': 0.834, 'pos': 0.166, 'compound': 0.8745},\n",
              " 744: {'neg': 0.039, 'neu': 0.722, 'pos': 0.239, 'compound': 0.9113},\n",
              " 745: {'neg': 0.049, 'neu': 0.86, 'pos': 0.091, 'compound': 0.8617},\n",
              " 746: {'neg': 0.016, 'neu': 0.858, 'pos': 0.126, 'compound': 0.9909},\n",
              " 747: {'neg': 0.092, 'neu': 0.838, 'pos': 0.07, 'compound': -0.2047},\n",
              " 748: {'neg': 0.012, 'neu': 0.875, 'pos': 0.113, 'compound': 0.9834},\n",
              " 749: {'neg': 0.22, 'neu': 0.78, 'pos': 0.0, 'compound': -0.7351},\n",
              " 750: {'neg': 0.152, 'neu': 0.664, 'pos': 0.185, 'compound': 0.1779},\n",
              " 751: {'neg': 0.354, 'neu': 0.566, 'pos': 0.079, 'compound': -0.8067},\n",
              " 752: {'neg': 0.0, 'neu': 0.823, 'pos': 0.177, 'compound': 0.9916},\n",
              " 753: {'neg': 0.0, 'neu': 0.786, 'pos': 0.214, 'compound': 0.9807},\n",
              " 754: {'neg': 0.023, 'neu': 0.796, 'pos': 0.18, 'compound': 0.9527},\n",
              " 755: {'neg': 0.0, 'neu': 0.598, 'pos': 0.402, 'compound': 0.902},\n",
              " 756: {'neg': 0.0, 'neu': 0.794, 'pos': 0.206, 'compound': 0.9097},\n",
              " 757: {'neg': 0.0, 'neu': 0.69, 'pos': 0.31, 'compound': 0.8934},\n",
              " 758: {'neg': 0.0, 'neu': 0.699, 'pos': 0.301, 'compound': 0.7841},\n",
              " 759: {'neg': 0.0, 'neu': 0.842, 'pos': 0.158, 'compound': 0.7768},\n",
              " 760: {'neg': 0.216, 'neu': 0.727, 'pos': 0.056, 'compound': -0.8049},\n",
              " 761: {'neg': 0.038, 'neu': 0.789, 'pos': 0.173, 'compound': 0.9582},\n",
              " 762: {'neg': 0.14, 'neu': 0.663, 'pos': 0.197, 'compound': 0.617},\n",
              " 763: {'neg': 0.0, 'neu': 0.789, 'pos': 0.211, 'compound': 0.9001},\n",
              " 764: {'neg': 0.023, 'neu': 0.807, 'pos': 0.169, 'compound': 0.9011},\n",
              " 765: {'neg': 0.0, 'neu': 0.749, 'pos': 0.251, 'compound': 0.9688},\n",
              " 766: {'neg': 0.0, 'neu': 0.815, 'pos': 0.185, 'compound': 0.9601},\n",
              " 767: {'neg': 0.033, 'neu': 0.851, 'pos': 0.116, 'compound': 0.966},\n",
              " 768: {'neg': 0.0, 'neu': 0.63, 'pos': 0.37, 'compound': 0.875},\n",
              " 769: {'neg': 0.166, 'neu': 0.75, 'pos': 0.083, 'compound': -0.4574},\n",
              " 770: {'neg': 0.278, 'neu': 0.722, 'pos': 0.0, 'compound': -0.7112},\n",
              " 771: {'neg': 0.035, 'neu': 0.797, 'pos': 0.168, 'compound': 0.9861},\n",
              " 772: {'neg': 0.0, 'neu': 0.777, 'pos': 0.223, 'compound': 0.7755},\n",
              " 773: {'neg': 0.0, 'neu': 0.717, 'pos': 0.283, 'compound': 0.9595},\n",
              " 774: {'neg': 0.0, 'neu': 0.677, 'pos': 0.323, 'compound': 0.9531},\n",
              " 775: {'neg': 0.365, 'neu': 0.635, 'pos': 0.0, 'compound': -0.8481},\n",
              " 776: {'neg': 0.0, 'neu': 1.0, 'pos': 0.0, 'compound': 0.0},\n",
              " 777: {'neg': 0.075, 'neu': 0.76, 'pos': 0.166, 'compound': 0.785},\n",
              " 778: {'neg': 0.0, 'neu': 0.782, 'pos': 0.218, 'compound': 0.8481},\n",
              " 779: {'neg': 0.047, 'neu': 0.815, 'pos': 0.139, 'compound': 0.9021},\n",
              " 780: {'neg': 0.0, 'neu': 0.786, 'pos': 0.214, 'compound': 0.7783},\n",
              " 781: {'neg': 0.0, 'neu': 1.0, 'pos': 0.0, 'compound': 0.0},\n",
              " 782: {'neg': 0.17, 'neu': 0.779, 'pos': 0.051, 'compound': -0.7785},\n",
              " 783: {'neg': 0.041, 'neu': 0.867, 'pos': 0.092, 'compound': 0.9161},\n",
              " 784: {'neg': 0.029, 'neu': 0.744, 'pos': 0.227, 'compound': 0.962},\n",
              " 785: {'neg': 0.139, 'neu': 0.783, 'pos': 0.078, 'compound': -0.2351},\n",
              " 786: {'neg': 0.107, 'neu': 0.837, 'pos': 0.056, 'compound': -0.9315},\n",
              " 787: {'neg': 0.0, 'neu': 0.735, 'pos': 0.265, 'compound': 0.9598},\n",
              " 788: {'neg': 0.075, 'neu': 0.694, 'pos': 0.231, 'compound': 0.8345},\n",
              " 789: {'neg': 0.119, 'neu': 0.881, 'pos': 0.0, 'compound': -0.4767},\n",
              " 790: {'neg': 0.078, 'neu': 0.77, 'pos': 0.151, 'compound': 0.769},\n",
              " 791: {'neg': 0.037, 'neu': 0.782, 'pos': 0.181, 'compound': 0.8807},\n",
              " 792: {'neg': 0.027, 'neu': 0.851, 'pos': 0.122, 'compound': 0.8841},\n",
              " 793: {'neg': 0.0, 'neu': 0.856, 'pos': 0.144, 'compound': 0.6369},\n",
              " 794: {'neg': 0.022, 'neu': 0.747, 'pos': 0.23, 'compound': 0.8879},\n",
              " 795: {'neg': 0.0, 'neu': 0.882, 'pos': 0.118, 'compound': 0.9091},\n",
              " 796: {'neg': 0.0, 'neu': 0.879, 'pos': 0.121, 'compound': 0.4404},\n",
              " 797: {'neg': 0.0, 'neu': 0.849, 'pos': 0.151, 'compound': 0.5848},\n",
              " 798: {'neg': 0.042, 'neu': 0.799, 'pos': 0.159, 'compound': 0.9371},\n",
              " 799: {'neg': 0.064, 'neu': 0.716, 'pos': 0.22, 'compound': 0.785},\n",
              " 800: {'neg': 0.0, 'neu': 0.526, 'pos': 0.474, 'compound': 0.9577},\n",
              " 801: {'neg': 0.0, 'neu': 0.711, 'pos': 0.289, 'compound': 0.899},\n",
              " 802: {'neg': 0.0, 'neu': 1.0, 'pos': 0.0, 'compound': 0.0},\n",
              " 803: {'neg': 0.143, 'neu': 0.717, 'pos': 0.14, 'compound': 0.2278},\n",
              " 804: {'neg': 0.034, 'neu': 0.833, 'pos': 0.134, 'compound': 0.8289},\n",
              " 805: {'neg': 0.0, 'neu': 0.79, 'pos': 0.21, 'compound': 0.8422},\n",
              " 806: {'neg': 0.0, 'neu': 0.703, 'pos': 0.297, 'compound': 0.9366},\n",
              " 807: {'neg': 0.0, 'neu': 0.697, 'pos': 0.303, 'compound': 0.9298},\n",
              " 808: {'neg': 0.0, 'neu': 0.875, 'pos': 0.125, 'compound': 0.6124},\n",
              " 809: {'neg': 0.0, 'neu': 0.731, 'pos': 0.269, 'compound': 0.7088},\n",
              " 810: {'neg': 0.0, 'neu': 0.79, 'pos': 0.21, 'compound': 0.8271},\n",
              " 811: {'neg': 0.025, 'neu': 0.735, 'pos': 0.24, 'compound': 0.9505},\n",
              " 812: {'neg': 0.0, 'neu': 0.798, 'pos': 0.202, 'compound': 0.5859},\n",
              " 813: {'neg': 0.0, 'neu': 0.832, 'pos': 0.168, 'compound': 0.7537},\n",
              " 814: {'neg': 0.043, 'neu': 0.925, 'pos': 0.033, 'compound': -0.1502},\n",
              " 815: {'neg': 0.018, 'neu': 0.917, 'pos': 0.065, 'compound': 0.5859},\n",
              " 816: {'neg': 0.0, 'neu': 0.721, 'pos': 0.279, 'compound': 0.8655},\n",
              " 817: {'neg': 0.124, 'neu': 0.705, 'pos': 0.171, 'compound': 0.8427},\n",
              " 818: {'neg': 0.092, 'neu': 0.717, 'pos': 0.191, 'compound': 0.4404},\n",
              " 819: {'neg': 0.071, 'neu': 0.802, 'pos': 0.126, 'compound': 0.7569},\n",
              " 820: {'neg': 0.0, 'neu': 0.932, 'pos': 0.068, 'compound': 0.7712},\n",
              " 821: {'neg': 0.045, 'neu': 0.782, 'pos': 0.173, 'compound': 0.8791},\n",
              " 822: {'neg': 0.0, 'neu': 0.782, 'pos': 0.218, 'compound': 0.9198},\n",
              " 823: {'neg': 0.064, 'neu': 0.842, 'pos': 0.094, 'compound': 0.4005},\n",
              " 824: {'neg': 0.05, 'neu': 0.86, 'pos': 0.09, 'compound': 0.8774},\n",
              " 825: {'neg': 0.06, 'neu': 0.378, 'pos': 0.562, 'compound': 0.9634},\n",
              " 826: {'neg': 0.0, 'neu': 0.645, 'pos': 0.355, 'compound': 0.968},\n",
              " 827: {'neg': 0.119, 'neu': 0.628, 'pos': 0.253, 'compound': 0.7906},\n",
              " 828: {'neg': 0.0, 'neu': 0.895, 'pos': 0.105, 'compound': 0.7088},\n",
              " 829: {'neg': 0.0, 'neu': 0.947, 'pos': 0.053, 'compound': 0.2382},\n",
              " 830: {'neg': 0.0, 'neu': 0.779, 'pos': 0.221, 'compound': 0.945},\n",
              " 831: {'neg': 0.0, 'neu': 0.684, 'pos': 0.316, 'compound': 0.8633},\n",
              " 832: {'neg': 0.085, 'neu': 0.864, 'pos': 0.051, 'compound': -0.2755},\n",
              " 833: {'neg': 0.025, 'neu': 0.881, 'pos': 0.094, 'compound': 0.7184},\n",
              " 834: {'neg': 0.072, 'neu': 0.804, 'pos': 0.124, 'compound': 0.8118},\n",
              " 835: {'neg': 0.0, 'neu': 0.805, 'pos': 0.195, 'compound': 0.9074},\n",
              " 836: {'neg': 0.04, 'neu': 0.765, 'pos': 0.195, 'compound': 0.836},\n",
              " 837: {'neg': 0.197, 'neu': 0.769, 'pos': 0.033, 'compound': -0.8353},\n",
              " 838: {'neg': 0.0, 'neu': 0.811, 'pos': 0.189, 'compound': 0.7845},\n",
              " 839: {'neg': 0.0, 'neu': 0.791, 'pos': 0.209, 'compound': 0.9622},\n",
              " 840: {'neg': 0.079, 'neu': 0.684, 'pos': 0.237, 'compound': 0.9398},\n",
              " 841: {'neg': 0.038, 'neu': 0.722, 'pos': 0.24, 'compound': 0.9648},\n",
              " 842: {'neg': 0.0, 'neu': 0.736, 'pos': 0.264, 'compound': 0.7845},\n",
              " 843: {'neg': 0.0, 'neu': 0.777, 'pos': 0.223, 'compound': 0.6494},\n",
              " 844: {'neg': 0.023, 'neu': 0.904, 'pos': 0.073, 'compound': 0.6242},\n",
              " 845: {'neg': 0.0, 'neu': 0.785, 'pos': 0.215, 'compound': 0.9419},\n",
              " 846: {'neg': 0.0, 'neu': 0.667, 'pos': 0.333, 'compound': 0.8999},\n",
              " 847: {'neg': 0.053, 'neu': 0.791, 'pos': 0.156, 'compound': 0.6486},\n",
              " 848: {'neg': 0.0, 'neu': 0.879, 'pos': 0.121, 'compound': 0.4404},\n",
              " 849: {'neg': 0.0, 'neu': 0.844, 'pos': 0.156, 'compound': 0.8588},\n",
              " 850: {'neg': 0.0, 'neu': 0.734, 'pos': 0.266, 'compound': 0.8264},\n",
              " 851: {'neg': 0.049, 'neu': 0.734, 'pos': 0.218, 'compound': 0.9834},\n",
              " 852: {'neg': 0.028, 'neu': 0.852, 'pos': 0.12, 'compound': 0.9403},\n",
              " 853: {'neg': 0.0, 'neu': 0.846, 'pos': 0.154, 'compound': 0.8442},\n",
              " 854: {'neg': 0.0, 'neu': 0.613, 'pos': 0.387, 'compound': 0.8922},\n",
              " 855: {'neg': 0.0, 'neu': 0.764, 'pos': 0.236, 'compound': 0.8591},\n",
              " 856: {'neg': 0.0, 'neu': 0.78, 'pos': 0.22, 'compound': 0.8412},\n",
              " 857: {'neg': 0.051, 'neu': 0.818, 'pos': 0.132, 'compound': 0.7738},\n",
              " 858: {'neg': 0.0, 'neu': 0.75, 'pos': 0.25, 'compound': 0.8748},\n",
              " 859: {'neg': 0.0, 'neu': 0.603, 'pos': 0.397, 'compound': 0.9413},\n",
              " 860: {'neg': 0.011, 'neu': 0.801, 'pos': 0.187, 'compound': 0.9964},\n",
              " 861: {'neg': 0.033, 'neu': 0.839, 'pos': 0.128, 'compound': 0.6486},\n",
              " 862: {'neg': 0.035, 'neu': 0.551, 'pos': 0.415, 'compound': 0.978},\n",
              " 863: {'neg': 0.08, 'neu': 0.812, 'pos': 0.108, 'compound': 0.8955},\n",
              " 864: {'neg': 0.0, 'neu': 0.543, 'pos': 0.457, 'compound': 0.9118},\n",
              " 865: {'neg': 0.0, 'neu': 0.86, 'pos': 0.14, 'compound': 0.4754},\n",
              " 866: {'neg': 0.042, 'neu': 0.797, 'pos': 0.161, 'compound': 0.9943},\n",
              " 867: {'neg': 0.071, 'neu': 0.673, 'pos': 0.256, 'compound': 0.9795},\n",
              " 868: {'neg': 0.078, 'neu': 0.851, 'pos': 0.071, 'compound': -0.101},\n",
              " 869: {'neg': 0.09, 'neu': 0.586, 'pos': 0.324, 'compound': 0.8315},\n",
              " 870: {'neg': 0.0, 'neu': 0.854, 'pos': 0.146, 'compound': 0.7174},\n",
              " 871: {'neg': 0.128, 'neu': 0.717, 'pos': 0.155, 'compound': 0.1759},\n",
              " 872: {'neg': 0.0, 'neu': 1.0, 'pos': 0.0, 'compound': 0.0},\n",
              " 873: {'neg': 0.072, 'neu': 0.882, 'pos': 0.046, 'compound': -0.7391},\n",
              " 874: {'neg': 0.0, 'neu': 0.697, 'pos': 0.303, 'compound': 0.9794},\n",
              " 875: {'neg': 0.155, 'neu': 0.658, 'pos': 0.187, 'compound': 0.296},\n",
              " 876: {'neg': 0.056, 'neu': 0.809, 'pos': 0.135, 'compound': 0.9227},\n",
              " 877: {'neg': 0.0, 'neu': 0.672, 'pos': 0.328, 'compound': 0.8516},\n",
              " 878: {'neg': 0.152, 'neu': 0.637, 'pos': 0.212, 'compound': 0.832},\n",
              " 879: {'neg': 0.023, 'neu': 0.831, 'pos': 0.145, 'compound': 0.9339},\n",
              " 880: {'neg': 0.073, 'neu': 0.868, 'pos': 0.059, 'compound': 0.0867},\n",
              " 881: {'neg': 0.012, 'neu': 0.866, 'pos': 0.122, 'compound': 0.9383},\n",
              " 882: {'neg': 0.043, 'neu': 0.824, 'pos': 0.133, 'compound': 0.9547},\n",
              " 883: {'neg': 0.07, 'neu': 0.568, 'pos': 0.362, 'compound': 0.8955},\n",
              " 884: {'neg': 0.0, 'neu': 1.0, 'pos': 0.0, 'compound': 0.0},\n",
              " 885: {'neg': 0.0, 'neu': 0.644, 'pos': 0.356, 'compound': 0.8915},\n",
              " 886: {'neg': 0.02, 'neu': 0.686, 'pos': 0.294, 'compound': 0.969},\n",
              " 887: {'neg': 0.029, 'neu': 0.785, 'pos': 0.186, 'compound': 0.9429},\n",
              " 888: {'neg': 0.0, 'neu': 0.689, 'pos': 0.311, 'compound': 0.9695},\n",
              " 889: {'neg': 0.0, 'neu': 0.815, 'pos': 0.185, 'compound': 0.7717},\n",
              " 890: {'neg': 0.0, 'neu': 0.833, 'pos': 0.167, 'compound': 0.802},\n",
              " 891: {'neg': 0.0, 'neu': 0.747, 'pos': 0.253, 'compound': 0.6982},\n",
              " 892: {'neg': 0.129, 'neu': 0.773, 'pos': 0.097, 'compound': -0.7771},\n",
              " 893: {'neg': 0.0, 'neu': 0.883, 'pos': 0.117, 'compound': 0.8349},\n",
              " 894: {'neg': 0.0, 'neu': 0.786, 'pos': 0.214, 'compound': 0.9098},\n",
              " 895: {'neg': 0.0, 'neu': 0.777, 'pos': 0.223, 'compound': 0.9498},\n",
              " 896: {'neg': 0.009, 'neu': 0.775, 'pos': 0.215, 'compound': 0.9956},\n",
              " 897: {'neg': 0.11, 'neu': 0.712, 'pos': 0.178, 'compound': 0.6361},\n",
              " 898: {'neg': 0.0, 'neu': 0.563, 'pos': 0.437, 'compound': 0.9747},\n",
              " 899: {'neg': 0.089, 'neu': 0.895, 'pos': 0.017, 'compound': -0.7795},\n",
              " 900: {'neg': 0.013, 'neu': 0.783, 'pos': 0.205, 'compound': 0.9963},\n",
              " 901: {'neg': 0.012, 'neu': 0.741, 'pos': 0.247, 'compound': 0.9946},\n",
              " 902: {'neg': 0.0, 'neu': 0.836, 'pos': 0.164, 'compound': 0.9738},\n",
              " 903: {'neg': 0.045, 'neu': 0.918, 'pos': 0.037, 'compound': -0.126},\n",
              " 904: {'neg': 0.0, 'neu': 0.78, 'pos': 0.22, 'compound': 0.9891},\n",
              " 905: {'neg': 0.0, 'neu': 0.86, 'pos': 0.14, 'compound': 0.7066},\n",
              " 906: {'neg': 0.0, 'neu': 0.725, 'pos': 0.275, 'compound': 0.802},\n",
              " 907: {'neg': 0.085, 'neu': 0.714, 'pos': 0.201, 'compound': 0.913},\n",
              " 908: {'neg': 0.018, 'neu': 0.805, 'pos': 0.177, 'compound': 0.9832},\n",
              " 909: {'neg': 0.0, 'neu': 0.601, 'pos': 0.399, 'compound': 0.9856},\n",
              " 910: {'neg': 0.162, 'neu': 0.646, 'pos': 0.192, 'compound': 0.5719},\n",
              " 911: {'neg': 0.145, 'neu': 0.772, 'pos': 0.083, 'compound': -0.4588},\n",
              " 912: {'neg': 0.031, 'neu': 0.808, 'pos': 0.161, 'compound': 0.9702},\n",
              " 913: {'neg': 0.062, 'neu': 0.705, 'pos': 0.233, 'compound': 0.886},\n",
              " 914: {'neg': 0.0, 'neu': 0.8, 'pos': 0.2, 'compound': 0.6696},\n",
              " 915: {'neg': 0.0, 'neu': 0.925, 'pos': 0.075, 'compound': 0.2732},\n",
              " 916: {'neg': 0.11, 'neu': 0.638, 'pos': 0.252, 'compound': 0.8374},\n",
              " 917: {'neg': 0.094, 'neu': 0.655, 'pos': 0.252, 'compound': 0.989},\n",
              " 918: {'neg': 0.0, 'neu': 0.682, 'pos': 0.318, 'compound': 0.882},\n",
              " 919: {'neg': 0.0, 'neu': 0.742, 'pos': 0.258, 'compound': 0.8885},\n",
              " 920: {'neg': 0.0, 'neu': 0.607, 'pos': 0.393, 'compound': 0.9001},\n",
              " 921: {'neg': 0.091, 'neu': 0.769, 'pos': 0.139, 'compound': 0.7094},\n",
              " 922: {'neg': 0.0, 'neu': 0.716, 'pos': 0.284, 'compound': 0.8537},\n",
              " 923: {'neg': 0.088, 'neu': 0.67, 'pos': 0.242, 'compound': 0.9054},\n",
              " 924: {'neg': 0.06, 'neu': 0.814, 'pos': 0.126, 'compound': 0.5899},\n",
              " 925: {'neg': 0.066, 'neu': 0.631, 'pos': 0.303, 'compound': 0.836},\n",
              " 926: {'neg': 0.103, 'neu': 0.805, 'pos': 0.092, 'compound': -0.1531},\n",
              " 927: {'neg': 0.065, 'neu': 0.852, 'pos': 0.083, 'compound': -0.031},\n",
              " 928: {'neg': 0.036, 'neu': 0.794, 'pos': 0.171, 'compound': 0.766},\n",
              " 929: {'neg': 0.0, 'neu': 0.796, 'pos': 0.204, 'compound': 0.9633},\n",
              " 930: {'neg': 0.037, 'neu': 0.797, 'pos': 0.167, 'compound': 0.9609},\n",
              " 931: {'neg': 0.0, 'neu': 0.668, 'pos': 0.332, 'compound': 0.9175},\n",
              " 932: {'neg': 0.023, 'neu': 0.698, 'pos': 0.279, 'compound': 0.9945},\n",
              " 933: {'neg': 0.0, 'neu': 0.858, 'pos': 0.142, 'compound': 0.7537},\n",
              " 934: {'neg': 0.041, 'neu': 0.786, 'pos': 0.172, 'compound': 0.9235},\n",
              " 935: {'neg': 0.034, 'neu': 0.534, 'pos': 0.432, 'compound': 0.9666},\n",
              " 936: {'neg': 0.047, 'neu': 0.833, 'pos': 0.121, 'compound': 0.8633},\n",
              " 937: {'neg': 0.0, 'neu': 0.777, 'pos': 0.223, 'compound': 0.8225},\n",
              " 938: {'neg': 0.0, 'neu': 0.642, 'pos': 0.358, 'compound': 0.9055},\n",
              " 939: {'neg': 0.056, 'neu': 0.776, 'pos': 0.168, 'compound': 0.7449},\n",
              " 940: {'neg': 0.0, 'neu': 0.648, 'pos': 0.352, 'compound': 0.9732},\n",
              " 941: {'neg': 0.344, 'neu': 0.62, 'pos': 0.037, 'compound': -0.9419},\n",
              " 942: {'neg': 0.124, 'neu': 0.698, 'pos': 0.177, 'compound': 0.8038},\n",
              " 943: {'neg': 0.0, 'neu': 0.625, 'pos': 0.375, 'compound': 0.9781},\n",
              " 944: {'neg': 0.018, 'neu': 0.922, 'pos': 0.06, 'compound': 0.7089},\n",
              " 945: {'neg': 0.0, 'neu': 0.667, 'pos': 0.333, 'compound': 0.8591},\n",
              " 946: {'neg': 0.0, 'neu': 0.759, 'pos': 0.241, 'compound': 0.872},\n",
              " 947: {'neg': 0.092, 'neu': 0.774, 'pos': 0.135, 'compound': 0.685},\n",
              " 948: {'neg': 0.0, 'neu': 0.814, 'pos': 0.186, 'compound': 0.9195},\n",
              " 949: {'neg': 0.062, 'neu': 0.397, 'pos': 0.541, 'compound': 0.9509},\n",
              " 950: {'neg': 0.158, 'neu': 0.658, 'pos': 0.184, 'compound': 0.1012},\n",
              " 951: {'neg': 0.0, 'neu': 0.602, 'pos': 0.398, 'compound': 0.9109},\n",
              " 952: {'neg': 0.0, 'neu': 0.647, 'pos': 0.353, 'compound': 0.9808},\n",
              " 953: {'neg': 0.0, 'neu': 0.642, 'pos': 0.358, 'compound': 0.9668},\n",
              " 954: {'neg': 0.0, 'neu': 0.807, 'pos': 0.193, 'compound': 0.9416},\n",
              " 955: {'neg': 0.023, 'neu': 0.829, 'pos': 0.148, 'compound': 0.8623},\n",
              " 956: {'neg': 0.0, 'neu': 0.85, 'pos': 0.15, 'compound': 0.5719},\n",
              " 957: {'neg': 0.041, 'neu': 0.663, 'pos': 0.296, 'compound': 0.9103},\n",
              " 958: {'neg': 0.103, 'neu': 0.758, 'pos': 0.139, 'compound': 0.4274},\n",
              " 959: {'neg': 0.113, 'neu': 0.887, 'pos': 0.0, 'compound': -0.6249},\n",
              " 960: {'neg': 0.066, 'neu': 0.913, 'pos': 0.02, 'compound': -0.7129},\n",
              " 961: {'neg': 0.0, 'neu': 0.72, 'pos': 0.28, 'compound': 0.7906},\n",
              " 962: {'neg': 0.058, 'neu': 0.942, 'pos': 0.0, 'compound': -0.3875},\n",
              " 963: {'neg': 0.153, 'neu': 0.677, 'pos': 0.169, 'compound': 0.2263},\n",
              " 964: {'neg': 0.022, 'neu': 0.928, 'pos': 0.05, 'compound': 0.5267},\n",
              " 965: {'neg': 0.039, 'neu': 0.784, 'pos': 0.177, 'compound': 0.8705},\n",
              " 966: {'neg': 0.0, 'neu': 0.853, 'pos': 0.147, 'compound': 0.8625},\n",
              " 967: {'neg': 0.0, 'neu': 0.932, 'pos': 0.068, 'compound': 0.6463},\n",
              " 968: {'neg': 0.162, 'neu': 0.796, 'pos': 0.042, 'compound': -0.943},\n",
              " 969: {'neg': 0.0, 'neu': 0.736, 'pos': 0.264, 'compound': 0.8011},\n",
              " 970: {'neg': 0.0, 'neu': 0.859, 'pos': 0.141, 'compound': 0.9651},\n",
              " 971: {'neg': 0.04, 'neu': 0.766, 'pos': 0.194, 'compound': 0.7529},\n",
              " 972: {'neg': 0.0, 'neu': 0.666, 'pos': 0.334, 'compound': 0.9003},\n",
              " 973: {'neg': 0.122, 'neu': 0.649, 'pos': 0.229, 'compound': 0.8013},\n",
              " 974: {'neg': 0.026, 'neu': 0.806, 'pos': 0.168, 'compound': 0.9875},\n",
              " 975: {'neg': 0.0, 'neu': 0.741, 'pos': 0.259, 'compound': 0.9829},\n",
              " 976: {'neg': 0.0, 'neu': 0.846, 'pos': 0.154, 'compound': 0.6369},\n",
              " 977: {'neg': 0.056, 'neu': 0.876, 'pos': 0.069, 'compound': -0.0676},\n",
              " 978: {'neg': 0.036, 'neu': 0.836, 'pos': 0.129, 'compound': 0.9554},\n",
              " 979: {'neg': 0.089, 'neu': 0.791, 'pos': 0.12, 'compound': 0.5264},\n",
              " 980: {'neg': 0.0, 'neu': 0.661, 'pos': 0.339, 'compound': 0.9233},\n",
              " 981: {'neg': 0.0, 'neu': 0.484, 'pos': 0.516, 'compound': 0.9595},\n",
              " 982: {'neg': 0.0, 'neu': 0.767, 'pos': 0.233, 'compound': 0.9552},\n",
              " 983: {'neg': 0.0, 'neu': 0.883, 'pos': 0.117, 'compound': 0.6249},\n",
              " 984: {'neg': 0.0, 'neu': 0.781, 'pos': 0.219, 'compound': 0.9663},\n",
              " 985: {'neg': 0.0, 'neu': 0.846, 'pos': 0.154, 'compound': 0.7181},\n",
              " 986: {'neg': 0.022, 'neu': 0.805, 'pos': 0.172, 'compound': 0.9401},\n",
              " 987: {'neg': 0.059, 'neu': 0.778, 'pos': 0.163, 'compound': 0.5984},\n",
              " 988: {'neg': 0.0, 'neu': 0.805, 'pos': 0.195, 'compound': 0.902},\n",
              " 989: {'neg': 0.0, 'neu': 0.785, 'pos': 0.215, 'compound': 0.9586},\n",
              " 990: {'neg': 0.0, 'neu': 0.674, 'pos': 0.326, 'compound': 0.9631},\n",
              " 991: {'neg': 0.032, 'neu': 0.667, 'pos': 0.301, 'compound': 0.973},\n",
              " 992: {'neg': 0.0, 'neu': 0.633, 'pos': 0.367, 'compound': 0.9749},\n",
              " 993: {'neg': 0.0, 'neu': 0.662, 'pos': 0.338, 'compound': 0.9636},\n",
              " 994: {'neg': 0.0, 'neu': 0.886, 'pos': 0.114, 'compound': 0.8858},\n",
              " 995: {'neg': 0.0, 'neu': 0.828, 'pos': 0.172, 'compound': 0.7552},\n",
              " 996: {'neg': 0.026, 'neu': 0.721, 'pos': 0.253, 'compound': 0.9788},\n",
              " 997: {'neg': 0.0, 'neu': 0.786, 'pos': 0.214, 'compound': 0.9309},\n",
              " 998: {'neg': 0.0, 'neu': 0.673, 'pos': 0.327, 'compound': 0.9634},\n",
              " 999: {'neg': 0.063, 'neu': 0.874, 'pos': 0.062, 'compound': -0.0129},\n",
              " 1000: {'neg': 0.027, 'neu': 0.939, 'pos': 0.034, 'compound': -0.1027},\n",
              " ...}"
            ]
          },
          "metadata": {},
          "execution_count": 18
        }
      ]
    },
    {
      "cell_type": "code",
      "source": [
        "vaders = pd.DataFrame(res).T\n",
        "vaders = vaders.reset_index().rename(columns={'index': 'Id'})\n",
        "vaders = vaders.merge(df, how='left')"
      ],
      "metadata": {
        "id": "1ONAbAV5hqPw"
      },
      "execution_count": 19,
      "outputs": []
    },
    {
      "cell_type": "code",
      "source": [
        "vaders"
      ],
      "metadata": {
        "id": "qQeLL1uemGSt",
        "colab": {
          "base_uri": "https://localhost:8080/",
          "height": 666
        },
        "outputId": "fdf4b6d2-6a4d-4428-cc7d-ab919e7ca67e"
      },
      "execution_count": 20,
      "outputs": [
        {
          "output_type": "execute_result",
          "data": {
            "text/plain": [
              "          Id    neg    neu    pos  compound   ProductId          UserId  \\\n",
              "0          1  0.000  0.695  0.305    0.9441  B001E4KFG0  A3SGXH7AUHU8GW   \n",
              "1          2  0.138  0.862  0.000   -0.5664  B00813GRG4  A1D87F6ZCVE5NK   \n",
              "2          3  0.091  0.754  0.155    0.8265  B000LQOCH0   ABXLMWJIXXAIN   \n",
              "3          4  0.000  1.000  0.000    0.0000  B000UA0QIQ  A395BORC6FGVXV   \n",
              "4          5  0.000  0.552  0.448    0.9468  B006K2ZZ7K  A1UQRSCLF8GW1T   \n",
              "...      ...    ...    ...    ...       ...         ...             ...   \n",
              "10359  10360  0.026  0.888  0.087    0.7712  B0001VWGWS  A1IWZAYY9GTLGL   \n",
              "10360  10361  0.000  0.884  0.116    0.2732  B000V6FTTU   A5PFMT0YEZV32   \n",
              "10361  10362  0.060  0.888  0.052    0.1655  B000V6FTTU  A2AFTCLYIEQMLV   \n",
              "10362  10363  0.095  0.861  0.043   -0.2519  B000V6FTTU  A3N4SGWWMUTY1Z   \n",
              "10363  10364  0.000  0.802  0.198    0.8469  B000V6FTTU  A22VNXHU6IZ5MT   \n",
              "\n",
              "                                     ProfileName  HelpfulnessNumerator  \\\n",
              "0                                     delmartian                     1   \n",
              "1                                         dll pa                     0   \n",
              "2                Natalia Corres \"Natalia Corres\"                     1   \n",
              "3                                           Karl                     3   \n",
              "4                  Michael D. Bigham \"M. Wassir\"                     0   \n",
              "...                                          ...                   ...   \n",
              "10359                  concurrent1 \"concurrent1\"                     0   \n",
              "10360                              Olga Troubina                     8   \n",
              "10361                        highlander \"duncan\"                     7   \n",
              "10362                                Gregory Law                     5   \n",
              "10363  Jason P. Pumphrey \"the movie & music man\"                     2   \n",
              "\n",
              "       HelpfulnessDenominator  Score        Time  \\\n",
              "0                           1      5  1303862400   \n",
              "1                           0      1  1346976000   \n",
              "2                           1      4  1219017600   \n",
              "3                           3      2  1307923200   \n",
              "4                           0      5  1350777600   \n",
              "...                       ...    ...         ...   \n",
              "10359                       0      5  1334966400   \n",
              "10360                       9      3  1199232000   \n",
              "10361                       8      3  1210550400   \n",
              "10362                       6      3  1217116800   \n",
              "10363                       2      3  1240531200   \n",
              "\n",
              "                                           Summary  \\\n",
              "0                            Good Quality Dog Food   \n",
              "1                                Not as Advertised   \n",
              "2                            \"Delight\" says it all   \n",
              "3                                   Cough Medicine   \n",
              "4                                      Great taffy   \n",
              "...                                            ...   \n",
              "10359              Best chili powder I ever tried!   \n",
              "10360                                   Good chili   \n",
              "10361  Good for workers w/ ten minute lunch breaks   \n",
              "10362                         Edible but not great   \n",
              "10363            I have to also agree,3 star chili   \n",
              "\n",
              "                                                    Text  \n",
              "0      I have bought several of the Vitality canned d...  \n",
              "1      Product arrived labeled as Jumbo Salted Peanut...  \n",
              "2      This is a confection that has been around a fe...  \n",
              "3      If you are looking for the secret ingredient i...  \n",
              "4      Great taffy at a great price.  There was a wid...  \n",
              "...                                                  ...  \n",
              "10359  I had a recipe that called for a lot of dark c...  \n",
              "10360  This chili is filling and mildly spicy. Cooks ...  \n",
              "10361  Keep box of saltines nearby and nuke this stuf...  \n",
              "10362  One of the disappointments with Campbell's Chu...  \n",
              "10363  Campbell's makes some great soups,but their ch...  \n",
              "\n",
              "[10364 rows x 14 columns]"
            ],
            "text/html": [
              "\n",
              "  <div id=\"df-c8aad2d6-546e-47e7-bc63-c10a97edf608\" class=\"colab-df-container\">\n",
              "    <div>\n",
              "<style scoped>\n",
              "    .dataframe tbody tr th:only-of-type {\n",
              "        vertical-align: middle;\n",
              "    }\n",
              "\n",
              "    .dataframe tbody tr th {\n",
              "        vertical-align: top;\n",
              "    }\n",
              "\n",
              "    .dataframe thead th {\n",
              "        text-align: right;\n",
              "    }\n",
              "</style>\n",
              "<table border=\"1\" class=\"dataframe\">\n",
              "  <thead>\n",
              "    <tr style=\"text-align: right;\">\n",
              "      <th></th>\n",
              "      <th>Id</th>\n",
              "      <th>neg</th>\n",
              "      <th>neu</th>\n",
              "      <th>pos</th>\n",
              "      <th>compound</th>\n",
              "      <th>ProductId</th>\n",
              "      <th>UserId</th>\n",
              "      <th>ProfileName</th>\n",
              "      <th>HelpfulnessNumerator</th>\n",
              "      <th>HelpfulnessDenominator</th>\n",
              "      <th>Score</th>\n",
              "      <th>Time</th>\n",
              "      <th>Summary</th>\n",
              "      <th>Text</th>\n",
              "    </tr>\n",
              "  </thead>\n",
              "  <tbody>\n",
              "    <tr>\n",
              "      <th>0</th>\n",
              "      <td>1</td>\n",
              "      <td>0.000</td>\n",
              "      <td>0.695</td>\n",
              "      <td>0.305</td>\n",
              "      <td>0.9441</td>\n",
              "      <td>B001E4KFG0</td>\n",
              "      <td>A3SGXH7AUHU8GW</td>\n",
              "      <td>delmartian</td>\n",
              "      <td>1</td>\n",
              "      <td>1</td>\n",
              "      <td>5</td>\n",
              "      <td>1303862400</td>\n",
              "      <td>Good Quality Dog Food</td>\n",
              "      <td>I have bought several of the Vitality canned d...</td>\n",
              "    </tr>\n",
              "    <tr>\n",
              "      <th>1</th>\n",
              "      <td>2</td>\n",
              "      <td>0.138</td>\n",
              "      <td>0.862</td>\n",
              "      <td>0.000</td>\n",
              "      <td>-0.5664</td>\n",
              "      <td>B00813GRG4</td>\n",
              "      <td>A1D87F6ZCVE5NK</td>\n",
              "      <td>dll pa</td>\n",
              "      <td>0</td>\n",
              "      <td>0</td>\n",
              "      <td>1</td>\n",
              "      <td>1346976000</td>\n",
              "      <td>Not as Advertised</td>\n",
              "      <td>Product arrived labeled as Jumbo Salted Peanut...</td>\n",
              "    </tr>\n",
              "    <tr>\n",
              "      <th>2</th>\n",
              "      <td>3</td>\n",
              "      <td>0.091</td>\n",
              "      <td>0.754</td>\n",
              "      <td>0.155</td>\n",
              "      <td>0.8265</td>\n",
              "      <td>B000LQOCH0</td>\n",
              "      <td>ABXLMWJIXXAIN</td>\n",
              "      <td>Natalia Corres \"Natalia Corres\"</td>\n",
              "      <td>1</td>\n",
              "      <td>1</td>\n",
              "      <td>4</td>\n",
              "      <td>1219017600</td>\n",
              "      <td>\"Delight\" says it all</td>\n",
              "      <td>This is a confection that has been around a fe...</td>\n",
              "    </tr>\n",
              "    <tr>\n",
              "      <th>3</th>\n",
              "      <td>4</td>\n",
              "      <td>0.000</td>\n",
              "      <td>1.000</td>\n",
              "      <td>0.000</td>\n",
              "      <td>0.0000</td>\n",
              "      <td>B000UA0QIQ</td>\n",
              "      <td>A395BORC6FGVXV</td>\n",
              "      <td>Karl</td>\n",
              "      <td>3</td>\n",
              "      <td>3</td>\n",
              "      <td>2</td>\n",
              "      <td>1307923200</td>\n",
              "      <td>Cough Medicine</td>\n",
              "      <td>If you are looking for the secret ingredient i...</td>\n",
              "    </tr>\n",
              "    <tr>\n",
              "      <th>4</th>\n",
              "      <td>5</td>\n",
              "      <td>0.000</td>\n",
              "      <td>0.552</td>\n",
              "      <td>0.448</td>\n",
              "      <td>0.9468</td>\n",
              "      <td>B006K2ZZ7K</td>\n",
              "      <td>A1UQRSCLF8GW1T</td>\n",
              "      <td>Michael D. Bigham \"M. Wassir\"</td>\n",
              "      <td>0</td>\n",
              "      <td>0</td>\n",
              "      <td>5</td>\n",
              "      <td>1350777600</td>\n",
              "      <td>Great taffy</td>\n",
              "      <td>Great taffy at a great price.  There was a wid...</td>\n",
              "    </tr>\n",
              "    <tr>\n",
              "      <th>...</th>\n",
              "      <td>...</td>\n",
              "      <td>...</td>\n",
              "      <td>...</td>\n",
              "      <td>...</td>\n",
              "      <td>...</td>\n",
              "      <td>...</td>\n",
              "      <td>...</td>\n",
              "      <td>...</td>\n",
              "      <td>...</td>\n",
              "      <td>...</td>\n",
              "      <td>...</td>\n",
              "      <td>...</td>\n",
              "      <td>...</td>\n",
              "      <td>...</td>\n",
              "    </tr>\n",
              "    <tr>\n",
              "      <th>10359</th>\n",
              "      <td>10360</td>\n",
              "      <td>0.026</td>\n",
              "      <td>0.888</td>\n",
              "      <td>0.087</td>\n",
              "      <td>0.7712</td>\n",
              "      <td>B0001VWGWS</td>\n",
              "      <td>A1IWZAYY9GTLGL</td>\n",
              "      <td>concurrent1 \"concurrent1\"</td>\n",
              "      <td>0</td>\n",
              "      <td>0</td>\n",
              "      <td>5</td>\n",
              "      <td>1334966400</td>\n",
              "      <td>Best chili powder I ever tried!</td>\n",
              "      <td>I had a recipe that called for a lot of dark c...</td>\n",
              "    </tr>\n",
              "    <tr>\n",
              "      <th>10360</th>\n",
              "      <td>10361</td>\n",
              "      <td>0.000</td>\n",
              "      <td>0.884</td>\n",
              "      <td>0.116</td>\n",
              "      <td>0.2732</td>\n",
              "      <td>B000V6FTTU</td>\n",
              "      <td>A5PFMT0YEZV32</td>\n",
              "      <td>Olga Troubina</td>\n",
              "      <td>8</td>\n",
              "      <td>9</td>\n",
              "      <td>3</td>\n",
              "      <td>1199232000</td>\n",
              "      <td>Good chili</td>\n",
              "      <td>This chili is filling and mildly spicy. Cooks ...</td>\n",
              "    </tr>\n",
              "    <tr>\n",
              "      <th>10361</th>\n",
              "      <td>10362</td>\n",
              "      <td>0.060</td>\n",
              "      <td>0.888</td>\n",
              "      <td>0.052</td>\n",
              "      <td>0.1655</td>\n",
              "      <td>B000V6FTTU</td>\n",
              "      <td>A2AFTCLYIEQMLV</td>\n",
              "      <td>highlander \"duncan\"</td>\n",
              "      <td>7</td>\n",
              "      <td>8</td>\n",
              "      <td>3</td>\n",
              "      <td>1210550400</td>\n",
              "      <td>Good for workers w/ ten minute lunch breaks</td>\n",
              "      <td>Keep box of saltines nearby and nuke this stuf...</td>\n",
              "    </tr>\n",
              "    <tr>\n",
              "      <th>10362</th>\n",
              "      <td>10363</td>\n",
              "      <td>0.095</td>\n",
              "      <td>0.861</td>\n",
              "      <td>0.043</td>\n",
              "      <td>-0.2519</td>\n",
              "      <td>B000V6FTTU</td>\n",
              "      <td>A3N4SGWWMUTY1Z</td>\n",
              "      <td>Gregory Law</td>\n",
              "      <td>5</td>\n",
              "      <td>6</td>\n",
              "      <td>3</td>\n",
              "      <td>1217116800</td>\n",
              "      <td>Edible but not great</td>\n",
              "      <td>One of the disappointments with Campbell's Chu...</td>\n",
              "    </tr>\n",
              "    <tr>\n",
              "      <th>10363</th>\n",
              "      <td>10364</td>\n",
              "      <td>0.000</td>\n",
              "      <td>0.802</td>\n",
              "      <td>0.198</td>\n",
              "      <td>0.8469</td>\n",
              "      <td>B000V6FTTU</td>\n",
              "      <td>A22VNXHU6IZ5MT</td>\n",
              "      <td>Jason P. Pumphrey \"the movie &amp; music man\"</td>\n",
              "      <td>2</td>\n",
              "      <td>2</td>\n",
              "      <td>3</td>\n",
              "      <td>1240531200</td>\n",
              "      <td>I have to also agree,3 star chili</td>\n",
              "      <td>Campbell's makes some great soups,but their ch...</td>\n",
              "    </tr>\n",
              "  </tbody>\n",
              "</table>\n",
              "<p>10364 rows × 14 columns</p>\n",
              "</div>\n",
              "    <div class=\"colab-df-buttons\">\n",
              "\n",
              "  <div class=\"colab-df-container\">\n",
              "    <button class=\"colab-df-convert\" onclick=\"convertToInteractive('df-c8aad2d6-546e-47e7-bc63-c10a97edf608')\"\n",
              "            title=\"Convert this dataframe to an interactive table.\"\n",
              "            style=\"display:none;\">\n",
              "\n",
              "  <svg xmlns=\"http://www.w3.org/2000/svg\" height=\"24px\" viewBox=\"0 -960 960 960\">\n",
              "    <path d=\"M120-120v-720h720v720H120Zm60-500h600v-160H180v160Zm220 220h160v-160H400v160Zm0 220h160v-160H400v160ZM180-400h160v-160H180v160Zm440 0h160v-160H620v160ZM180-180h160v-160H180v160Zm440 0h160v-160H620v160Z\"/>\n",
              "  </svg>\n",
              "    </button>\n",
              "\n",
              "  <style>\n",
              "    .colab-df-container {\n",
              "      display:flex;\n",
              "      gap: 12px;\n",
              "    }\n",
              "\n",
              "    .colab-df-convert {\n",
              "      background-color: #E8F0FE;\n",
              "      border: none;\n",
              "      border-radius: 50%;\n",
              "      cursor: pointer;\n",
              "      display: none;\n",
              "      fill: #1967D2;\n",
              "      height: 32px;\n",
              "      padding: 0 0 0 0;\n",
              "      width: 32px;\n",
              "    }\n",
              "\n",
              "    .colab-df-convert:hover {\n",
              "      background-color: #E2EBFA;\n",
              "      box-shadow: 0px 1px 2px rgba(60, 64, 67, 0.3), 0px 1px 3px 1px rgba(60, 64, 67, 0.15);\n",
              "      fill: #174EA6;\n",
              "    }\n",
              "\n",
              "    .colab-df-buttons div {\n",
              "      margin-bottom: 4px;\n",
              "    }\n",
              "\n",
              "    [theme=dark] .colab-df-convert {\n",
              "      background-color: #3B4455;\n",
              "      fill: #D2E3FC;\n",
              "    }\n",
              "\n",
              "    [theme=dark] .colab-df-convert:hover {\n",
              "      background-color: #434B5C;\n",
              "      box-shadow: 0px 1px 3px 1px rgba(0, 0, 0, 0.15);\n",
              "      filter: drop-shadow(0px 1px 2px rgba(0, 0, 0, 0.3));\n",
              "      fill: #FFFFFF;\n",
              "    }\n",
              "  </style>\n",
              "\n",
              "    <script>\n",
              "      const buttonEl =\n",
              "        document.querySelector('#df-c8aad2d6-546e-47e7-bc63-c10a97edf608 button.colab-df-convert');\n",
              "      buttonEl.style.display =\n",
              "        google.colab.kernel.accessAllowed ? 'block' : 'none';\n",
              "\n",
              "      async function convertToInteractive(key) {\n",
              "        const element = document.querySelector('#df-c8aad2d6-546e-47e7-bc63-c10a97edf608');\n",
              "        const dataTable =\n",
              "          await google.colab.kernel.invokeFunction('convertToInteractive',\n",
              "                                                    [key], {});\n",
              "        if (!dataTable) return;\n",
              "\n",
              "        const docLinkHtml = 'Like what you see? Visit the ' +\n",
              "          '<a target=\"_blank\" href=https://colab.research.google.com/notebooks/data_table.ipynb>data table notebook</a>'\n",
              "          + ' to learn more about interactive tables.';\n",
              "        element.innerHTML = '';\n",
              "        dataTable['output_type'] = 'display_data';\n",
              "        await google.colab.output.renderOutput(dataTable, element);\n",
              "        const docLink = document.createElement('div');\n",
              "        docLink.innerHTML = docLinkHtml;\n",
              "        element.appendChild(docLink);\n",
              "      }\n",
              "    </script>\n",
              "  </div>\n",
              "\n",
              "\n",
              "<div id=\"df-a977d0a4-5825-4f82-9b01-acd86dc30eed\">\n",
              "  <button class=\"colab-df-quickchart\" onclick=\"quickchart('df-a977d0a4-5825-4f82-9b01-acd86dc30eed')\"\n",
              "            title=\"Suggest charts\"\n",
              "            style=\"display:none;\">\n",
              "\n",
              "<svg xmlns=\"http://www.w3.org/2000/svg\" height=\"24px\"viewBox=\"0 0 24 24\"\n",
              "     width=\"24px\">\n",
              "    <g>\n",
              "        <path d=\"M19 3H5c-1.1 0-2 .9-2 2v14c0 1.1.9 2 2 2h14c1.1 0 2-.9 2-2V5c0-1.1-.9-2-2-2zM9 17H7v-7h2v7zm4 0h-2V7h2v10zm4 0h-2v-4h2v4z\"/>\n",
              "    </g>\n",
              "</svg>\n",
              "  </button>\n",
              "\n",
              "<style>\n",
              "  .colab-df-quickchart {\n",
              "      --bg-color: #E8F0FE;\n",
              "      --fill-color: #1967D2;\n",
              "      --hover-bg-color: #E2EBFA;\n",
              "      --hover-fill-color: #174EA6;\n",
              "      --disabled-fill-color: #AAA;\n",
              "      --disabled-bg-color: #DDD;\n",
              "  }\n",
              "\n",
              "  [theme=dark] .colab-df-quickchart {\n",
              "      --bg-color: #3B4455;\n",
              "      --fill-color: #D2E3FC;\n",
              "      --hover-bg-color: #434B5C;\n",
              "      --hover-fill-color: #FFFFFF;\n",
              "      --disabled-bg-color: #3B4455;\n",
              "      --disabled-fill-color: #666;\n",
              "  }\n",
              "\n",
              "  .colab-df-quickchart {\n",
              "    background-color: var(--bg-color);\n",
              "    border: none;\n",
              "    border-radius: 50%;\n",
              "    cursor: pointer;\n",
              "    display: none;\n",
              "    fill: var(--fill-color);\n",
              "    height: 32px;\n",
              "    padding: 0;\n",
              "    width: 32px;\n",
              "  }\n",
              "\n",
              "  .colab-df-quickchart:hover {\n",
              "    background-color: var(--hover-bg-color);\n",
              "    box-shadow: 0 1px 2px rgba(60, 64, 67, 0.3), 0 1px 3px 1px rgba(60, 64, 67, 0.15);\n",
              "    fill: var(--button-hover-fill-color);\n",
              "  }\n",
              "\n",
              "  .colab-df-quickchart-complete:disabled,\n",
              "  .colab-df-quickchart-complete:disabled:hover {\n",
              "    background-color: var(--disabled-bg-color);\n",
              "    fill: var(--disabled-fill-color);\n",
              "    box-shadow: none;\n",
              "  }\n",
              "\n",
              "  .colab-df-spinner {\n",
              "    border: 2px solid var(--fill-color);\n",
              "    border-color: transparent;\n",
              "    border-bottom-color: var(--fill-color);\n",
              "    animation:\n",
              "      spin 1s steps(1) infinite;\n",
              "  }\n",
              "\n",
              "  @keyframes spin {\n",
              "    0% {\n",
              "      border-color: transparent;\n",
              "      border-bottom-color: var(--fill-color);\n",
              "      border-left-color: var(--fill-color);\n",
              "    }\n",
              "    20% {\n",
              "      border-color: transparent;\n",
              "      border-left-color: var(--fill-color);\n",
              "      border-top-color: var(--fill-color);\n",
              "    }\n",
              "    30% {\n",
              "      border-color: transparent;\n",
              "      border-left-color: var(--fill-color);\n",
              "      border-top-color: var(--fill-color);\n",
              "      border-right-color: var(--fill-color);\n",
              "    }\n",
              "    40% {\n",
              "      border-color: transparent;\n",
              "      border-right-color: var(--fill-color);\n",
              "      border-top-color: var(--fill-color);\n",
              "    }\n",
              "    60% {\n",
              "      border-color: transparent;\n",
              "      border-right-color: var(--fill-color);\n",
              "    }\n",
              "    80% {\n",
              "      border-color: transparent;\n",
              "      border-right-color: var(--fill-color);\n",
              "      border-bottom-color: var(--fill-color);\n",
              "    }\n",
              "    90% {\n",
              "      border-color: transparent;\n",
              "      border-bottom-color: var(--fill-color);\n",
              "    }\n",
              "  }\n",
              "</style>\n",
              "\n",
              "  <script>\n",
              "    async function quickchart(key) {\n",
              "      const quickchartButtonEl =\n",
              "        document.querySelector('#' + key + ' button');\n",
              "      quickchartButtonEl.disabled = true;  // To prevent multiple clicks.\n",
              "      quickchartButtonEl.classList.add('colab-df-spinner');\n",
              "      try {\n",
              "        const charts = await google.colab.kernel.invokeFunction(\n",
              "            'suggestCharts', [key], {});\n",
              "      } catch (error) {\n",
              "        console.error('Error during call to suggestCharts:', error);\n",
              "      }\n",
              "      quickchartButtonEl.classList.remove('colab-df-spinner');\n",
              "      quickchartButtonEl.classList.add('colab-df-quickchart-complete');\n",
              "    }\n",
              "    (() => {\n",
              "      let quickchartButtonEl =\n",
              "        document.querySelector('#df-a977d0a4-5825-4f82-9b01-acd86dc30eed button');\n",
              "      quickchartButtonEl.style.display =\n",
              "        google.colab.kernel.accessAllowed ? 'block' : 'none';\n",
              "    })();\n",
              "  </script>\n",
              "</div>\n",
              "\n",
              "  <div id=\"id_8a21675f-938d-4092-8833-9571488f7228\">\n",
              "    <style>\n",
              "      .colab-df-generate {\n",
              "        background-color: #E8F0FE;\n",
              "        border: none;\n",
              "        border-radius: 50%;\n",
              "        cursor: pointer;\n",
              "        display: none;\n",
              "        fill: #1967D2;\n",
              "        height: 32px;\n",
              "        padding: 0 0 0 0;\n",
              "        width: 32px;\n",
              "      }\n",
              "\n",
              "      .colab-df-generate:hover {\n",
              "        background-color: #E2EBFA;\n",
              "        box-shadow: 0px 1px 2px rgba(60, 64, 67, 0.3), 0px 1px 3px 1px rgba(60, 64, 67, 0.15);\n",
              "        fill: #174EA6;\n",
              "      }\n",
              "\n",
              "      [theme=dark] .colab-df-generate {\n",
              "        background-color: #3B4455;\n",
              "        fill: #D2E3FC;\n",
              "      }\n",
              "\n",
              "      [theme=dark] .colab-df-generate:hover {\n",
              "        background-color: #434B5C;\n",
              "        box-shadow: 0px 1px 3px 1px rgba(0, 0, 0, 0.15);\n",
              "        filter: drop-shadow(0px 1px 2px rgba(0, 0, 0, 0.3));\n",
              "        fill: #FFFFFF;\n",
              "      }\n",
              "    </style>\n",
              "    <button class=\"colab-df-generate\" onclick=\"generateWithVariable('vaders')\"\n",
              "            title=\"Generate code using this dataframe.\"\n",
              "            style=\"display:none;\">\n",
              "\n",
              "  <svg xmlns=\"http://www.w3.org/2000/svg\" height=\"24px\"viewBox=\"0 0 24 24\"\n",
              "       width=\"24px\">\n",
              "    <path d=\"M7,19H8.4L18.45,9,17,7.55,7,17.6ZM5,21V16.75L18.45,3.32a2,2,0,0,1,2.83,0l1.4,1.43a1.91,1.91,0,0,1,.58,1.4,1.91,1.91,0,0,1-.58,1.4L9.25,21ZM18.45,9,17,7.55Zm-12,3A5.31,5.31,0,0,0,4.9,8.1,5.31,5.31,0,0,0,1,6.5,5.31,5.31,0,0,0,4.9,4.9,5.31,5.31,0,0,0,6.5,1,5.31,5.31,0,0,0,8.1,4.9,5.31,5.31,0,0,0,12,6.5,5.46,5.46,0,0,0,6.5,12Z\"/>\n",
              "  </svg>\n",
              "    </button>\n",
              "    <script>\n",
              "      (() => {\n",
              "      const buttonEl =\n",
              "        document.querySelector('#id_8a21675f-938d-4092-8833-9571488f7228 button.colab-df-generate');\n",
              "      buttonEl.style.display =\n",
              "        google.colab.kernel.accessAllowed ? 'block' : 'none';\n",
              "\n",
              "      buttonEl.onclick = () => {\n",
              "        google.colab.notebook.generateWithVariable('vaders');\n",
              "      }\n",
              "      })();\n",
              "    </script>\n",
              "  </div>\n",
              "\n",
              "    </div>\n",
              "  </div>\n"
            ],
            "application/vnd.google.colaboratory.intrinsic+json": {
              "type": "dataframe",
              "variable_name": "vaders",
              "summary": "{\n  \"name\": \"vaders\",\n  \"rows\": 10364,\n  \"fields\": [\n    {\n      \"column\": \"Id\",\n      \"properties\": {\n        \"dtype\": \"number\",\n        \"std\": 2991,\n        \"min\": 1,\n        \"max\": 10364,\n        \"num_unique_values\": 10364,\n        \"samples\": [\n          10283,\n          8335,\n          3938\n        ],\n        \"semantic_type\": \"\",\n        \"description\": \"\"\n      }\n    },\n    {\n      \"column\": \"neg\",\n      \"properties\": {\n        \"dtype\": \"number\",\n        \"std\": 0.05268592788761327,\n        \"min\": 0.0,\n        \"max\": 0.377,\n        \"num_unique_values\": 285,\n        \"samples\": [\n          0.097,\n          0.203,\n          0.354\n        ],\n        \"semantic_type\": \"\",\n        \"description\": \"\"\n      }\n    },\n    {\n      \"column\": \"neu\",\n      \"properties\": {\n        \"dtype\": \"number\",\n        \"std\": 0.10068434030652097,\n        \"min\": 0.291,\n        \"max\": 1.0,\n        \"num_unique_values\": 531,\n        \"samples\": [\n          0.474,\n          0.693,\n          0.672\n        ],\n        \"semantic_type\": \"\",\n        \"description\": \"\"\n      }\n    },\n    {\n      \"column\": \"pos\",\n      \"properties\": {\n        \"dtype\": \"number\",\n        \"std\": 0.10569997144667816,\n        \"min\": 0.0,\n        \"max\": 0.709,\n        \"num_unique_values\": 521,\n        \"samples\": [\n          0.481,\n          0.172,\n          0.48\n        ],\n        \"semantic_type\": \"\",\n        \"description\": \"\"\n      }\n    },\n    {\n      \"column\": \"compound\",\n      \"properties\": {\n        \"dtype\": \"number\",\n        \"std\": 0.46666871908915597,\n        \"min\": -0.9875,\n        \"max\": 0.9997,\n        \"num_unique_values\": 3817,\n        \"samples\": [\n          -0.2714,\n          0.9924,\n          0.8847\n        ],\n        \"semantic_type\": \"\",\n        \"description\": \"\"\n      }\n    },\n    {\n      \"column\": \"ProductId\",\n      \"properties\": {\n        \"dtype\": \"category\",\n        \"num_unique_values\": 1443,\n        \"samples\": [\n          \"B0001FQVCK\",\n          \"B004S4V9Y0\",\n          \"B000084EK5\"\n        ],\n        \"semantic_type\": \"\",\n        \"description\": \"\"\n      }\n    },\n    {\n      \"column\": \"UserId\",\n      \"properties\": {\n        \"dtype\": \"string\",\n        \"num_unique_values\": 9364,\n        \"samples\": [\n          \"A2O9JFE7UC3KF7\",\n          \"AFFJQGNCDIZG3\",\n          \"A224O3HOC1XCZO\"\n        ],\n        \"semantic_type\": \"\",\n        \"description\": \"\"\n      }\n    },\n    {\n      \"column\": \"ProfileName\",\n      \"properties\": {\n        \"dtype\": \"string\",\n        \"num_unique_values\": 9012,\n        \"samples\": [\n          \"J. Laba\",\n          \"DEM\",\n          \"Francine\"\n        ],\n        \"semantic_type\": \"\",\n        \"description\": \"\"\n      }\n    },\n    {\n      \"column\": \"HelpfulnessNumerator\",\n      \"properties\": {\n        \"dtype\": \"number\",\n        \"std\": 5,\n        \"min\": 0,\n        \"max\": 187,\n        \"num_unique_values\": 59,\n        \"samples\": [\n          1,\n          19,\n          187\n        ],\n        \"semantic_type\": \"\",\n        \"description\": \"\"\n      }\n    },\n    {\n      \"column\": \"HelpfulnessDenominator\",\n      \"properties\": {\n        \"dtype\": \"number\",\n        \"std\": 5,\n        \"min\": 0,\n        \"max\": 216,\n        \"num_unique_values\": 64,\n        \"samples\": [\n          53,\n          100,\n          1\n        ],\n        \"semantic_type\": \"\",\n        \"description\": \"\"\n      }\n    },\n    {\n      \"column\": \"Score\",\n      \"properties\": {\n        \"dtype\": \"number\",\n        \"std\": 1,\n        \"min\": 1,\n        \"max\": 5,\n        \"num_unique_values\": 5,\n        \"samples\": [\n          1,\n          3,\n          4\n        ],\n        \"semantic_type\": \"\",\n        \"description\": \"\"\n      }\n    },\n    {\n      \"column\": \"Time\",\n      \"properties\": {\n        \"dtype\": \"number\",\n        \"std\": 47605548,\n        \"min\": 961718400,\n        \"max\": 1351209600,\n        \"num_unique_values\": 1973,\n        \"samples\": [\n          1309996800,\n          1173484800,\n          1175385600\n        ],\n        \"semantic_type\": \"\",\n        \"description\": \"\"\n      }\n    },\n    {\n      \"column\": \"Summary\",\n      \"properties\": {\n        \"dtype\": \"string\",\n        \"num_unique_values\": 8829,\n        \"samples\": [\n          \"Totally Fantastic\",\n          \"The richest tasting hot cocoa I've ever tasted.\",\n          \"Tastes good, but pay attention to the labels!\"\n        ],\n        \"semantic_type\": \"\",\n        \"description\": \"\"\n      }\n    },\n    {\n      \"column\": \"Text\",\n      \"properties\": {\n        \"dtype\": \"string\",\n        \"num_unique_values\": 9875,\n        \"samples\": [\n          \"We use our Keurig every day.  When a friend gave us a sample we went crazy, it is the best hot chocolate ever.  I highly recommend this, it is a treat in the evening to take the place of dessert.\",\n          \"I first bought pickled asparagus at an Amish market and it was love at first bite. Hence, when I saw these on the discount rack at the local Safeway I cleaned it out.  These are even better than the ones from the Amish market. They are fantastic, and some of the jars have a bonus clove of garlic at the bottom. I'm going to order the six pack and I'm a household of one. They wont go to waste!\",\n          \"Having tried a very large number of Earl Grey teas, I've been struck by how particularly flavorful this brand is.  It's really worth trying.  I ended up buying the pack of 6 boxes twice I liked it so much.\"\n        ],\n        \"semantic_type\": \"\",\n        \"description\": \"\"\n      }\n    }\n  ]\n}"
            }
          },
          "metadata": {},
          "execution_count": 20
        }
      ]
    },
    {
      "cell_type": "code",
      "source": [
        "# Now we have sentiment score and metadata\n",
        "vaders.head()"
      ],
      "metadata": {
        "colab": {
          "base_uri": "https://localhost:8080/",
          "height": 293
        },
        "id": "Cpy_J-sT9a6d",
        "outputId": "84eacef9-e03b-4f0d-9b0d-9483ad32f8f3"
      },
      "execution_count": 21,
      "outputs": [
        {
          "output_type": "execute_result",
          "data": {
            "text/plain": [
              "   Id    neg    neu    pos  compound   ProductId          UserId  \\\n",
              "0   1  0.000  0.695  0.305    0.9441  B001E4KFG0  A3SGXH7AUHU8GW   \n",
              "1   2  0.138  0.862  0.000   -0.5664  B00813GRG4  A1D87F6ZCVE5NK   \n",
              "2   3  0.091  0.754  0.155    0.8265  B000LQOCH0   ABXLMWJIXXAIN   \n",
              "3   4  0.000  1.000  0.000    0.0000  B000UA0QIQ  A395BORC6FGVXV   \n",
              "4   5  0.000  0.552  0.448    0.9468  B006K2ZZ7K  A1UQRSCLF8GW1T   \n",
              "\n",
              "                       ProfileName  HelpfulnessNumerator  \\\n",
              "0                       delmartian                     1   \n",
              "1                           dll pa                     0   \n",
              "2  Natalia Corres \"Natalia Corres\"                     1   \n",
              "3                             Karl                     3   \n",
              "4    Michael D. Bigham \"M. Wassir\"                     0   \n",
              "\n",
              "   HelpfulnessDenominator  Score        Time                Summary  \\\n",
              "0                       1      5  1303862400  Good Quality Dog Food   \n",
              "1                       0      1  1346976000      Not as Advertised   \n",
              "2                       1      4  1219017600  \"Delight\" says it all   \n",
              "3                       3      2  1307923200         Cough Medicine   \n",
              "4                       0      5  1350777600            Great taffy   \n",
              "\n",
              "                                                Text  \n",
              "0  I have bought several of the Vitality canned d...  \n",
              "1  Product arrived labeled as Jumbo Salted Peanut...  \n",
              "2  This is a confection that has been around a fe...  \n",
              "3  If you are looking for the secret ingredient i...  \n",
              "4  Great taffy at a great price.  There was a wid...  "
            ],
            "text/html": [
              "\n",
              "  <div id=\"df-dd370dc6-e516-432b-939c-fa2efb07878f\" class=\"colab-df-container\">\n",
              "    <div>\n",
              "<style scoped>\n",
              "    .dataframe tbody tr th:only-of-type {\n",
              "        vertical-align: middle;\n",
              "    }\n",
              "\n",
              "    .dataframe tbody tr th {\n",
              "        vertical-align: top;\n",
              "    }\n",
              "\n",
              "    .dataframe thead th {\n",
              "        text-align: right;\n",
              "    }\n",
              "</style>\n",
              "<table border=\"1\" class=\"dataframe\">\n",
              "  <thead>\n",
              "    <tr style=\"text-align: right;\">\n",
              "      <th></th>\n",
              "      <th>Id</th>\n",
              "      <th>neg</th>\n",
              "      <th>neu</th>\n",
              "      <th>pos</th>\n",
              "      <th>compound</th>\n",
              "      <th>ProductId</th>\n",
              "      <th>UserId</th>\n",
              "      <th>ProfileName</th>\n",
              "      <th>HelpfulnessNumerator</th>\n",
              "      <th>HelpfulnessDenominator</th>\n",
              "      <th>Score</th>\n",
              "      <th>Time</th>\n",
              "      <th>Summary</th>\n",
              "      <th>Text</th>\n",
              "    </tr>\n",
              "  </thead>\n",
              "  <tbody>\n",
              "    <tr>\n",
              "      <th>0</th>\n",
              "      <td>1</td>\n",
              "      <td>0.000</td>\n",
              "      <td>0.695</td>\n",
              "      <td>0.305</td>\n",
              "      <td>0.9441</td>\n",
              "      <td>B001E4KFG0</td>\n",
              "      <td>A3SGXH7AUHU8GW</td>\n",
              "      <td>delmartian</td>\n",
              "      <td>1</td>\n",
              "      <td>1</td>\n",
              "      <td>5</td>\n",
              "      <td>1303862400</td>\n",
              "      <td>Good Quality Dog Food</td>\n",
              "      <td>I have bought several of the Vitality canned d...</td>\n",
              "    </tr>\n",
              "    <tr>\n",
              "      <th>1</th>\n",
              "      <td>2</td>\n",
              "      <td>0.138</td>\n",
              "      <td>0.862</td>\n",
              "      <td>0.000</td>\n",
              "      <td>-0.5664</td>\n",
              "      <td>B00813GRG4</td>\n",
              "      <td>A1D87F6ZCVE5NK</td>\n",
              "      <td>dll pa</td>\n",
              "      <td>0</td>\n",
              "      <td>0</td>\n",
              "      <td>1</td>\n",
              "      <td>1346976000</td>\n",
              "      <td>Not as Advertised</td>\n",
              "      <td>Product arrived labeled as Jumbo Salted Peanut...</td>\n",
              "    </tr>\n",
              "    <tr>\n",
              "      <th>2</th>\n",
              "      <td>3</td>\n",
              "      <td>0.091</td>\n",
              "      <td>0.754</td>\n",
              "      <td>0.155</td>\n",
              "      <td>0.8265</td>\n",
              "      <td>B000LQOCH0</td>\n",
              "      <td>ABXLMWJIXXAIN</td>\n",
              "      <td>Natalia Corres \"Natalia Corres\"</td>\n",
              "      <td>1</td>\n",
              "      <td>1</td>\n",
              "      <td>4</td>\n",
              "      <td>1219017600</td>\n",
              "      <td>\"Delight\" says it all</td>\n",
              "      <td>This is a confection that has been around a fe...</td>\n",
              "    </tr>\n",
              "    <tr>\n",
              "      <th>3</th>\n",
              "      <td>4</td>\n",
              "      <td>0.000</td>\n",
              "      <td>1.000</td>\n",
              "      <td>0.000</td>\n",
              "      <td>0.0000</td>\n",
              "      <td>B000UA0QIQ</td>\n",
              "      <td>A395BORC6FGVXV</td>\n",
              "      <td>Karl</td>\n",
              "      <td>3</td>\n",
              "      <td>3</td>\n",
              "      <td>2</td>\n",
              "      <td>1307923200</td>\n",
              "      <td>Cough Medicine</td>\n",
              "      <td>If you are looking for the secret ingredient i...</td>\n",
              "    </tr>\n",
              "    <tr>\n",
              "      <th>4</th>\n",
              "      <td>5</td>\n",
              "      <td>0.000</td>\n",
              "      <td>0.552</td>\n",
              "      <td>0.448</td>\n",
              "      <td>0.9468</td>\n",
              "      <td>B006K2ZZ7K</td>\n",
              "      <td>A1UQRSCLF8GW1T</td>\n",
              "      <td>Michael D. Bigham \"M. Wassir\"</td>\n",
              "      <td>0</td>\n",
              "      <td>0</td>\n",
              "      <td>5</td>\n",
              "      <td>1350777600</td>\n",
              "      <td>Great taffy</td>\n",
              "      <td>Great taffy at a great price.  There was a wid...</td>\n",
              "    </tr>\n",
              "  </tbody>\n",
              "</table>\n",
              "</div>\n",
              "    <div class=\"colab-df-buttons\">\n",
              "\n",
              "  <div class=\"colab-df-container\">\n",
              "    <button class=\"colab-df-convert\" onclick=\"convertToInteractive('df-dd370dc6-e516-432b-939c-fa2efb07878f')\"\n",
              "            title=\"Convert this dataframe to an interactive table.\"\n",
              "            style=\"display:none;\">\n",
              "\n",
              "  <svg xmlns=\"http://www.w3.org/2000/svg\" height=\"24px\" viewBox=\"0 -960 960 960\">\n",
              "    <path d=\"M120-120v-720h720v720H120Zm60-500h600v-160H180v160Zm220 220h160v-160H400v160Zm0 220h160v-160H400v160ZM180-400h160v-160H180v160Zm440 0h160v-160H620v160ZM180-180h160v-160H180v160Zm440 0h160v-160H620v160Z\"/>\n",
              "  </svg>\n",
              "    </button>\n",
              "\n",
              "  <style>\n",
              "    .colab-df-container {\n",
              "      display:flex;\n",
              "      gap: 12px;\n",
              "    }\n",
              "\n",
              "    .colab-df-convert {\n",
              "      background-color: #E8F0FE;\n",
              "      border: none;\n",
              "      border-radius: 50%;\n",
              "      cursor: pointer;\n",
              "      display: none;\n",
              "      fill: #1967D2;\n",
              "      height: 32px;\n",
              "      padding: 0 0 0 0;\n",
              "      width: 32px;\n",
              "    }\n",
              "\n",
              "    .colab-df-convert:hover {\n",
              "      background-color: #E2EBFA;\n",
              "      box-shadow: 0px 1px 2px rgba(60, 64, 67, 0.3), 0px 1px 3px 1px rgba(60, 64, 67, 0.15);\n",
              "      fill: #174EA6;\n",
              "    }\n",
              "\n",
              "    .colab-df-buttons div {\n",
              "      margin-bottom: 4px;\n",
              "    }\n",
              "\n",
              "    [theme=dark] .colab-df-convert {\n",
              "      background-color: #3B4455;\n",
              "      fill: #D2E3FC;\n",
              "    }\n",
              "\n",
              "    [theme=dark] .colab-df-convert:hover {\n",
              "      background-color: #434B5C;\n",
              "      box-shadow: 0px 1px 3px 1px rgba(0, 0, 0, 0.15);\n",
              "      filter: drop-shadow(0px 1px 2px rgba(0, 0, 0, 0.3));\n",
              "      fill: #FFFFFF;\n",
              "    }\n",
              "  </style>\n",
              "\n",
              "    <script>\n",
              "      const buttonEl =\n",
              "        document.querySelector('#df-dd370dc6-e516-432b-939c-fa2efb07878f button.colab-df-convert');\n",
              "      buttonEl.style.display =\n",
              "        google.colab.kernel.accessAllowed ? 'block' : 'none';\n",
              "\n",
              "      async function convertToInteractive(key) {\n",
              "        const element = document.querySelector('#df-dd370dc6-e516-432b-939c-fa2efb07878f');\n",
              "        const dataTable =\n",
              "          await google.colab.kernel.invokeFunction('convertToInteractive',\n",
              "                                                    [key], {});\n",
              "        if (!dataTable) return;\n",
              "\n",
              "        const docLinkHtml = 'Like what you see? Visit the ' +\n",
              "          '<a target=\"_blank\" href=https://colab.research.google.com/notebooks/data_table.ipynb>data table notebook</a>'\n",
              "          + ' to learn more about interactive tables.';\n",
              "        element.innerHTML = '';\n",
              "        dataTable['output_type'] = 'display_data';\n",
              "        await google.colab.output.renderOutput(dataTable, element);\n",
              "        const docLink = document.createElement('div');\n",
              "        docLink.innerHTML = docLinkHtml;\n",
              "        element.appendChild(docLink);\n",
              "      }\n",
              "    </script>\n",
              "  </div>\n",
              "\n",
              "\n",
              "<div id=\"df-38f6c1bb-3e3d-4fe8-9dbb-fcb64d1609e0\">\n",
              "  <button class=\"colab-df-quickchart\" onclick=\"quickchart('df-38f6c1bb-3e3d-4fe8-9dbb-fcb64d1609e0')\"\n",
              "            title=\"Suggest charts\"\n",
              "            style=\"display:none;\">\n",
              "\n",
              "<svg xmlns=\"http://www.w3.org/2000/svg\" height=\"24px\"viewBox=\"0 0 24 24\"\n",
              "     width=\"24px\">\n",
              "    <g>\n",
              "        <path d=\"M19 3H5c-1.1 0-2 .9-2 2v14c0 1.1.9 2 2 2h14c1.1 0 2-.9 2-2V5c0-1.1-.9-2-2-2zM9 17H7v-7h2v7zm4 0h-2V7h2v10zm4 0h-2v-4h2v4z\"/>\n",
              "    </g>\n",
              "</svg>\n",
              "  </button>\n",
              "\n",
              "<style>\n",
              "  .colab-df-quickchart {\n",
              "      --bg-color: #E8F0FE;\n",
              "      --fill-color: #1967D2;\n",
              "      --hover-bg-color: #E2EBFA;\n",
              "      --hover-fill-color: #174EA6;\n",
              "      --disabled-fill-color: #AAA;\n",
              "      --disabled-bg-color: #DDD;\n",
              "  }\n",
              "\n",
              "  [theme=dark] .colab-df-quickchart {\n",
              "      --bg-color: #3B4455;\n",
              "      --fill-color: #D2E3FC;\n",
              "      --hover-bg-color: #434B5C;\n",
              "      --hover-fill-color: #FFFFFF;\n",
              "      --disabled-bg-color: #3B4455;\n",
              "      --disabled-fill-color: #666;\n",
              "  }\n",
              "\n",
              "  .colab-df-quickchart {\n",
              "    background-color: var(--bg-color);\n",
              "    border: none;\n",
              "    border-radius: 50%;\n",
              "    cursor: pointer;\n",
              "    display: none;\n",
              "    fill: var(--fill-color);\n",
              "    height: 32px;\n",
              "    padding: 0;\n",
              "    width: 32px;\n",
              "  }\n",
              "\n",
              "  .colab-df-quickchart:hover {\n",
              "    background-color: var(--hover-bg-color);\n",
              "    box-shadow: 0 1px 2px rgba(60, 64, 67, 0.3), 0 1px 3px 1px rgba(60, 64, 67, 0.15);\n",
              "    fill: var(--button-hover-fill-color);\n",
              "  }\n",
              "\n",
              "  .colab-df-quickchart-complete:disabled,\n",
              "  .colab-df-quickchart-complete:disabled:hover {\n",
              "    background-color: var(--disabled-bg-color);\n",
              "    fill: var(--disabled-fill-color);\n",
              "    box-shadow: none;\n",
              "  }\n",
              "\n",
              "  .colab-df-spinner {\n",
              "    border: 2px solid var(--fill-color);\n",
              "    border-color: transparent;\n",
              "    border-bottom-color: var(--fill-color);\n",
              "    animation:\n",
              "      spin 1s steps(1) infinite;\n",
              "  }\n",
              "\n",
              "  @keyframes spin {\n",
              "    0% {\n",
              "      border-color: transparent;\n",
              "      border-bottom-color: var(--fill-color);\n",
              "      border-left-color: var(--fill-color);\n",
              "    }\n",
              "    20% {\n",
              "      border-color: transparent;\n",
              "      border-left-color: var(--fill-color);\n",
              "      border-top-color: var(--fill-color);\n",
              "    }\n",
              "    30% {\n",
              "      border-color: transparent;\n",
              "      border-left-color: var(--fill-color);\n",
              "      border-top-color: var(--fill-color);\n",
              "      border-right-color: var(--fill-color);\n",
              "    }\n",
              "    40% {\n",
              "      border-color: transparent;\n",
              "      border-right-color: var(--fill-color);\n",
              "      border-top-color: var(--fill-color);\n",
              "    }\n",
              "    60% {\n",
              "      border-color: transparent;\n",
              "      border-right-color: var(--fill-color);\n",
              "    }\n",
              "    80% {\n",
              "      border-color: transparent;\n",
              "      border-right-color: var(--fill-color);\n",
              "      border-bottom-color: var(--fill-color);\n",
              "    }\n",
              "    90% {\n",
              "      border-color: transparent;\n",
              "      border-bottom-color: var(--fill-color);\n",
              "    }\n",
              "  }\n",
              "</style>\n",
              "\n",
              "  <script>\n",
              "    async function quickchart(key) {\n",
              "      const quickchartButtonEl =\n",
              "        document.querySelector('#' + key + ' button');\n",
              "      quickchartButtonEl.disabled = true;  // To prevent multiple clicks.\n",
              "      quickchartButtonEl.classList.add('colab-df-spinner');\n",
              "      try {\n",
              "        const charts = await google.colab.kernel.invokeFunction(\n",
              "            'suggestCharts', [key], {});\n",
              "      } catch (error) {\n",
              "        console.error('Error during call to suggestCharts:', error);\n",
              "      }\n",
              "      quickchartButtonEl.classList.remove('colab-df-spinner');\n",
              "      quickchartButtonEl.classList.add('colab-df-quickchart-complete');\n",
              "    }\n",
              "    (() => {\n",
              "      let quickchartButtonEl =\n",
              "        document.querySelector('#df-38f6c1bb-3e3d-4fe8-9dbb-fcb64d1609e0 button');\n",
              "      quickchartButtonEl.style.display =\n",
              "        google.colab.kernel.accessAllowed ? 'block' : 'none';\n",
              "    })();\n",
              "  </script>\n",
              "</div>\n",
              "\n",
              "    </div>\n",
              "  </div>\n"
            ],
            "application/vnd.google.colaboratory.intrinsic+json": {
              "type": "dataframe",
              "variable_name": "vaders",
              "summary": "{\n  \"name\": \"vaders\",\n  \"rows\": 10364,\n  \"fields\": [\n    {\n      \"column\": \"Id\",\n      \"properties\": {\n        \"dtype\": \"number\",\n        \"std\": 2991,\n        \"min\": 1,\n        \"max\": 10364,\n        \"num_unique_values\": 10364,\n        \"samples\": [\n          10283,\n          8335,\n          3938\n        ],\n        \"semantic_type\": \"\",\n        \"description\": \"\"\n      }\n    },\n    {\n      \"column\": \"neg\",\n      \"properties\": {\n        \"dtype\": \"number\",\n        \"std\": 0.05268592788761327,\n        \"min\": 0.0,\n        \"max\": 0.377,\n        \"num_unique_values\": 285,\n        \"samples\": [\n          0.097,\n          0.203,\n          0.354\n        ],\n        \"semantic_type\": \"\",\n        \"description\": \"\"\n      }\n    },\n    {\n      \"column\": \"neu\",\n      \"properties\": {\n        \"dtype\": \"number\",\n        \"std\": 0.10068434030652097,\n        \"min\": 0.291,\n        \"max\": 1.0,\n        \"num_unique_values\": 531,\n        \"samples\": [\n          0.474,\n          0.693,\n          0.672\n        ],\n        \"semantic_type\": \"\",\n        \"description\": \"\"\n      }\n    },\n    {\n      \"column\": \"pos\",\n      \"properties\": {\n        \"dtype\": \"number\",\n        \"std\": 0.10569997144667816,\n        \"min\": 0.0,\n        \"max\": 0.709,\n        \"num_unique_values\": 521,\n        \"samples\": [\n          0.481,\n          0.172,\n          0.48\n        ],\n        \"semantic_type\": \"\",\n        \"description\": \"\"\n      }\n    },\n    {\n      \"column\": \"compound\",\n      \"properties\": {\n        \"dtype\": \"number\",\n        \"std\": 0.46666871908915597,\n        \"min\": -0.9875,\n        \"max\": 0.9997,\n        \"num_unique_values\": 3817,\n        \"samples\": [\n          -0.2714,\n          0.9924,\n          0.8847\n        ],\n        \"semantic_type\": \"\",\n        \"description\": \"\"\n      }\n    },\n    {\n      \"column\": \"ProductId\",\n      \"properties\": {\n        \"dtype\": \"category\",\n        \"num_unique_values\": 1443,\n        \"samples\": [\n          \"B0001FQVCK\",\n          \"B004S4V9Y0\",\n          \"B000084EK5\"\n        ],\n        \"semantic_type\": \"\",\n        \"description\": \"\"\n      }\n    },\n    {\n      \"column\": \"UserId\",\n      \"properties\": {\n        \"dtype\": \"string\",\n        \"num_unique_values\": 9364,\n        \"samples\": [\n          \"A2O9JFE7UC3KF7\",\n          \"AFFJQGNCDIZG3\",\n          \"A224O3HOC1XCZO\"\n        ],\n        \"semantic_type\": \"\",\n        \"description\": \"\"\n      }\n    },\n    {\n      \"column\": \"ProfileName\",\n      \"properties\": {\n        \"dtype\": \"string\",\n        \"num_unique_values\": 9012,\n        \"samples\": [\n          \"J. Laba\",\n          \"DEM\",\n          \"Francine\"\n        ],\n        \"semantic_type\": \"\",\n        \"description\": \"\"\n      }\n    },\n    {\n      \"column\": \"HelpfulnessNumerator\",\n      \"properties\": {\n        \"dtype\": \"number\",\n        \"std\": 5,\n        \"min\": 0,\n        \"max\": 187,\n        \"num_unique_values\": 59,\n        \"samples\": [\n          1,\n          19,\n          187\n        ],\n        \"semantic_type\": \"\",\n        \"description\": \"\"\n      }\n    },\n    {\n      \"column\": \"HelpfulnessDenominator\",\n      \"properties\": {\n        \"dtype\": \"number\",\n        \"std\": 5,\n        \"min\": 0,\n        \"max\": 216,\n        \"num_unique_values\": 64,\n        \"samples\": [\n          53,\n          100,\n          1\n        ],\n        \"semantic_type\": \"\",\n        \"description\": \"\"\n      }\n    },\n    {\n      \"column\": \"Score\",\n      \"properties\": {\n        \"dtype\": \"number\",\n        \"std\": 1,\n        \"min\": 1,\n        \"max\": 5,\n        \"num_unique_values\": 5,\n        \"samples\": [\n          1,\n          3,\n          4\n        ],\n        \"semantic_type\": \"\",\n        \"description\": \"\"\n      }\n    },\n    {\n      \"column\": \"Time\",\n      \"properties\": {\n        \"dtype\": \"number\",\n        \"std\": 47605548,\n        \"min\": 961718400,\n        \"max\": 1351209600,\n        \"num_unique_values\": 1973,\n        \"samples\": [\n          1309996800,\n          1173484800,\n          1175385600\n        ],\n        \"semantic_type\": \"\",\n        \"description\": \"\"\n      }\n    },\n    {\n      \"column\": \"Summary\",\n      \"properties\": {\n        \"dtype\": \"string\",\n        \"num_unique_values\": 8829,\n        \"samples\": [\n          \"Totally Fantastic\",\n          \"The richest tasting hot cocoa I've ever tasted.\",\n          \"Tastes good, but pay attention to the labels!\"\n        ],\n        \"semantic_type\": \"\",\n        \"description\": \"\"\n      }\n    },\n    {\n      \"column\": \"Text\",\n      \"properties\": {\n        \"dtype\": \"string\",\n        \"num_unique_values\": 9875,\n        \"samples\": [\n          \"We use our Keurig every day.  When a friend gave us a sample we went crazy, it is the best hot chocolate ever.  I highly recommend this, it is a treat in the evening to take the place of dessert.\",\n          \"I first bought pickled asparagus at an Amish market and it was love at first bite. Hence, when I saw these on the discount rack at the local Safeway I cleaned it out.  These are even better than the ones from the Amish market. They are fantastic, and some of the jars have a bonus clove of garlic at the bottom. I'm going to order the six pack and I'm a household of one. They wont go to waste!\",\n          \"Having tried a very large number of Earl Grey teas, I've been struck by how particularly flavorful this brand is.  It's really worth trying.  I ended up buying the pack of 6 boxes twice I liked it so much.\"\n        ],\n        \"semantic_type\": \"\",\n        \"description\": \"\"\n      }\n    }\n  ]\n}"
            }
          },
          "metadata": {},
          "execution_count": 21
        }
      ]
    },
    {
      "cell_type": "markdown",
      "source": [
        "Plot VADER Results"
      ],
      "metadata": {
        "id": "Zi4t1rOkZLMs"
      }
    },
    {
      "cell_type": "code",
      "source": [
        "import seaborn as sns\n",
        "\n",
        "ax = sns.barplot(data = vaders, x = 'Score', y = 'compound')\n",
        "ax.set_title('Compound Score by Amazon Star Review')\n",
        "plt.show"
      ],
      "metadata": {
        "id": "PEYui7qi91hf",
        "colab": {
          "base_uri": "https://localhost:8080/",
          "height": 646
        },
        "outputId": "f6eee2c2-ebc8-4bca-a3d0-e8932d7658e3"
      },
      "execution_count": 22,
      "outputs": [
        {
          "output_type": "execute_result",
          "data": {
            "text/plain": [
              "<function matplotlib.pyplot.show(close=None, block=None)>"
            ],
            "text/html": [
              "<div style=\"max-width:800px; border: 1px solid var(--colab-border-color);\"><style>\n",
              "      pre.function-repr-contents {\n",
              "        overflow-x: auto;\n",
              "        padding: 8px 12px;\n",
              "        max-height: 500px;\n",
              "      }\n",
              "\n",
              "      pre.function-repr-contents.function-repr-contents-collapsed {\n",
              "        cursor: pointer;\n",
              "        max-height: 100px;\n",
              "      }\n",
              "    </style>\n",
              "    <pre style=\"white-space: initial; background:\n",
              "         var(--colab-secondary-surface-color); padding: 8px 12px;\n",
              "         border-bottom: 1px solid var(--colab-border-color);\"><b>matplotlib.pyplot.show</b><br/>def show(*args, **kwargs)</pre><pre class=\"function-repr-contents function-repr-contents-collapsed\" style=\"\"><a class=\"filepath\" style=\"display:none\" href=\"#\">/usr/local/lib/python3.10/dist-packages/matplotlib/pyplot.py</a>Display all open figures.\n",
              "\n",
              "Parameters\n",
              "----------\n",
              "block : bool, optional\n",
              "    Whether to wait for all figures to be closed before returning.\n",
              "\n",
              "    If `True` block and run the GUI main loop until all figure windows\n",
              "    are closed.\n",
              "\n",
              "    If `False` ensure that all figure windows are displayed and return\n",
              "    immediately.  In this case, you are responsible for ensuring\n",
              "    that the event loop is running to have responsive figures.\n",
              "\n",
              "    Defaults to True in non-interactive mode and to False in interactive\n",
              "    mode (see `.pyplot.isinteractive`).\n",
              "\n",
              "See Also\n",
              "--------\n",
              "ion : Enable interactive mode, which shows / updates the figure after\n",
              "      every plotting command, so that calling ``show()`` is not necessary.\n",
              "ioff : Disable interactive mode.\n",
              "savefig : Save the figure to an image file instead of showing it on screen.\n",
              "\n",
              "Notes\n",
              "-----\n",
              "**Saving figures to file and showing a window at the same time**\n",
              "\n",
              "If you want an image file as well as a user interface window, use\n",
              "`.pyplot.savefig` before `.pyplot.show`. At the end of (a blocking)\n",
              "``show()`` the figure is closed and thus unregistered from pyplot. Calling\n",
              "`.pyplot.savefig` afterwards would save a new and thus empty figure. This\n",
              "limitation of command order does not apply if the show is non-blocking or\n",
              "if you keep a reference to the figure and use `.Figure.savefig`.\n",
              "\n",
              "**Auto-show in jupyter notebooks**\n",
              "\n",
              "The jupyter backends (activated via ``%matplotlib inline``,\n",
              "``%matplotlib notebook``, or ``%matplotlib widget``), call ``show()`` at\n",
              "the end of every cell by default. Thus, you usually don&#x27;t have to call it\n",
              "explicitly there.</pre>\n",
              "      <script>\n",
              "      if (google.colab.kernel.accessAllowed && google.colab.files && google.colab.files.view) {\n",
              "        for (const element of document.querySelectorAll('.filepath')) {\n",
              "          element.style.display = 'block'\n",
              "          element.onclick = (event) => {\n",
              "            event.preventDefault();\n",
              "            event.stopPropagation();\n",
              "            google.colab.files.view(element.textContent, 401);\n",
              "          };\n",
              "        }\n",
              "      }\n",
              "      for (const element of document.querySelectorAll('.function-repr-contents')) {\n",
              "        element.onclick = (event) => {\n",
              "          event.preventDefault();\n",
              "          event.stopPropagation();\n",
              "          element.classList.toggle('function-repr-contents-collapsed');\n",
              "        };\n",
              "      }\n",
              "      </script>\n",
              "      </div>"
            ]
          },
          "metadata": {},
          "execution_count": 22
        },
        {
          "output_type": "display_data",
          "data": {
            "text/plain": [
              "<Figure size 640x480 with 1 Axes>"
            ],
            "image/png": "[encoded data removed]"
          },
          "metadata": {}
        }
      ]
    },
    {
      "cell_type": "code",
      "source": [
        "fig, axs = plt.subplots(1, 3, figsize = (12, 3))\n",
        "sns.barplot(data = vaders, x = 'Score', y = 'pos', ax = axs[0])\n",
        "sns.barplot(data = vaders, x = 'Score', y = 'neu', ax = axs[1])\n",
        "sns.barplot(data = vaders, x = 'Score', y = 'neg', ax = axs[2])\n",
        "axs[0].set_title('Positive')\n",
        "axs[1].set_title('Neutral')\n",
        "axs[2].set_title('Negative')\n",
        "plt.tight_layout()\n",
        "plt.show()"
      ],
      "metadata": {
        "colab": {
          "base_uri": "https://localhost:8080/",
          "height": 307
        },
        "id": "slIER9O9ZndI",
        "outputId": "db01f6f0-8776-4005-91da-6bf135b84087"
      },
      "execution_count": 23,
      "outputs": [
        {
          "output_type": "display_data",
          "data": {
            "text/plain": [
              "<Figure size 1200x300 with 3 Axes>"
            ],
            "image/png": "[encoded data removed]"
          },
          "metadata": {}
        }
      ]
    },
    {
      "cell_type": "markdown",
      "source": [
        "## Roberta Pretrained Model"
      ],
      "metadata": {
        "id": "Jq_Arj_xGqOa"
      }
    },
    {
      "cell_type": "code",
      "source": [
        "from transformers import AutoTokenizer\n",
        "from transformers import AutoModelForSequenceClassification\n",
        "from scipy.special import softmax"
      ],
      "metadata": {
        "id": "JMz76i90agPg"
      },
      "execution_count": 24,
      "outputs": []
    },
    {
      "cell_type": "code",
      "source": [
        "MODEL = f\"cardiffnlp/twitter-roberta-base-sentiment\"\n",
        "tokenizer = AutoTokenizer.from_pretrained(MODEL)\n",
        "model = AutoModelForSequenceClassification.from_pretrained(MODEL)"
      ],
      "metadata": {
        "colab": {
          "base_uri": "https://localhost:8080/",
          "height": 281,
          "referenced_widgets": [
            "e79854c1955e4a4688d60bb76e997286",
            "851d6aae018a4bd7b9b7fee333373fa0",
            "4e81b95380b742b28e0651b9879ce322",
            "5916d88e83804ed99ed491e7b68ea6c6",
            "36825ca5b1644652902bd37e3209896a",
            "38af523f5f6843758b66f74bdde02940",
            "dbf945fb6b91439a88bf295034398fd3",
            "08991a04b5ab4709ae9d6e2ddcebb044",
            "422c3efb73454444acc04eded3d8ff29",
            "fbd726c6193f48249165e207ceb4b5ed",
            "d8f21b70e2d94207957bc6b95c696a61",
            "43ae31756ae64637b82ed4c691c39a98",
            "a087e0f763364322a689fcc9eeaf09a0",
            "f07ad65edccc46d6ab35dd001812a8f6",
            "e5b85f3327dc4ced938a7bfbc366c1f5",
            "7e4c42eca9fa4664b9f12ea805de9472",
            "f0afd73f1ffb4f208202b186af31fa28",
            "82bf6d72fd3944b3b436f61a9d36ad28",
            "24e804a2813849ca9ca783abc7caec38",
            "642f36d3f8bb487c898c0777d88b0350",
            "5aae3554b87843f49be3b6df10704f96",
            "b8e50ff26c4b4c48b34f1259529e79df",
            "2eacfe0954ce431780a3889b1c73b2da",
            "4fa5aa0b84854beda0dbd36b5b66b443",
            "eb0cbdc961aa4c1d9d1eab8655dd3798",
            "527c5d37deff4b5d8e05e330512e74ff",
            "83a84314b22a4c3a945dd86b635347c3",
            "b6c1b08d347d45789a7acbbb27d68157",
            "e8557b8ce23e434ab6650d710270e3f4",
            "2cf220f5c4cb4f13bbf8ecbc19e662b8",
            "3fa6e816d7bd4b578c0a9555515c2d2b",
            "33009ad0eff84352b756ea3e08bdab6c",
            "565ccbbe4cf4467dbac03f3a198e6988",
            "0163c0d9186f4387839b8c14898f1c0a",
            "d89a1215896a486e99b0712621113fa7",
            "31ed585cd5aa4d8cbfd1540f08855d2c",
            "179ead1e2a3c4648be75417c4d0e8d58",
            "1adb9de98be149fb8f65c35f09124961",
            "1afafc3113834693ab626e515172b9d4",
            "c9fd050225784248b77b1b04d6c2f8b1",
            "bd80cb11b1994ffda2e65f111d6ef9d6",
            "418cbc747d3f4b37b88569584ee0f40f",
            "c9a27124565e427a82581d8910798b72",
            "cce8a4d760bd4fa5a952c039bed7c423",
            "e8a76acc985c4fc2b6e18a7299bab72c",
            "c3b75ae74fb741dfba890b092b9d7df8",
            "16cad4bf47d04409af518e1c1a9f46b6",
            "ea1e403e77094238b6fc906623404571",
            "4593027ac095479c8e55e54957481a7f",
            "4c5d2f9d3e7d4cefbee80dd359a381ac",
            "ff8810a0e3b54c1a9a8f300a4b42c37e",
            "a4d22d4653cd44b2af9d69a5e00461b4",
            "cdc435e5f8034a5e82c3e50a19d84835",
            "cbccda6c93d943b6b91ccd9a95f4f6cc",
            "25f6d6b1afbe489c86988ddb0cf27c39"
          ]
        },
        "id": "dxq1MIvJHGOt",
        "outputId": "3fc29934-9a29-4d2f-9684-d5cc1a0dffcb"
      },
      "execution_count": 25,
      "outputs": [
        {
          "output_type": "stream",
          "name": "stderr",
          "text": [
            "/usr/local/lib/python3.10/dist-packages/huggingface_hub/utils/_token.py:89: UserWarning: \n",
            "The secret `HF_TOKEN` does not exist in your Colab secrets.\n",
            "To authenticate with the Hugging Face Hub, create a token in your settings tab (https://huggingface.co/settings/tokens), set it as secret in your Google Colab and restart your session.\n",
            "You will be able to reuse this secret in all of your notebooks.\n",
            "Please note that authentication is recommended but still optional to access public models or datasets.\n",
            "  warnings.warn(\n"
          ]
        },
        {
          "output_type": "display_data",
          "data": {
            "text/plain": [
              "config.json:   0%|          | 0.00/747 [00:00<?, ?B/s]"
            ],
            "application/vnd.jupyter.widget-view+json": {
              "version_major": 2,
              "version_minor": 0,
              "model_id": "e79854c1955e4a4688d60bb76e997286"
            }
          },
          "metadata": {}
        },
        {
          "output_type": "display_data",
          "data": {
            "text/plain": [
              "vocab.json:   0%|          | 0.00/899k [00:00<?, ?B/s]"
            ],
            "application/vnd.jupyter.widget-view+json": {
              "version_major": 2,
              "version_minor": 0,
              "model_id": "43ae31756ae64637b82ed4c691c39a98"
            }
          },
          "metadata": {}
        },
        {
          "output_type": "display_data",
          "data": {
            "text/plain": [
              "merges.txt:   0%|          | 0.00/456k [00:00<?, ?B/s]"
            ],
            "application/vnd.jupyter.widget-view+json": {
              "version_major": 2,
              "version_minor": 0,
              "model_id": "2eacfe0954ce431780a3889b1c73b2da"
            }
          },
          "metadata": {}
        },
        {
          "output_type": "display_data",
          "data": {
            "text/plain": [
              "special_tokens_map.json:   0%|          | 0.00/150 [00:00<?, ?B/s]"
            ],
            "application/vnd.jupyter.widget-view+json": {
              "version_major": 2,
              "version_minor": 0,
              "model_id": "0163c0d9186f4387839b8c14898f1c0a"
            }
          },
          "metadata": {}
        },
        {
          "output_type": "display_data",
          "data": {
            "text/plain": [
              "pytorch_model.bin:   0%|          | 0.00/499M [00:00<?, ?B/s]"
            ],
            "application/vnd.jupyter.widget-view+json": {
              "version_major": 2,
              "version_minor": 0,
              "model_id": "e8a76acc985c4fc2b6e18a7299bab72c"
            }
          },
          "metadata": {}
        }
      ]
    },
    {
      "cell_type": "code",
      "source": [
        "# VADER results on example\n",
        "print(example)\n",
        "sia.polarity_scores(example)"
      ],
      "metadata": {
        "colab": {
          "base_uri": "https://localhost:8080/"
        },
        "id": "qeH_1FZ3IOvw",
        "outputId": "7685282c-5173-4768-965e-2a92a34b64ca"
      },
      "execution_count": 26,
      "outputs": [
        {
          "output_type": "stream",
          "name": "stdout",
          "text": [
            "This oatmeal is not good. Its mushy, soft, I don't like it. Quaker Oats is the way to go.\n"
          ]
        },
        {
          "output_type": "execute_result",
          "data": {
            "text/plain": [
              "{'neg': 0.22, 'neu': 0.78, 'pos': 0.0, 'compound': -0.5448}"
            ]
          },
          "metadata": {},
          "execution_count": 26
        }
      ]
    },
    {
      "cell_type": "code",
      "source": [
        "# Run for Roberta Model\n",
        "encoded_text = tokenizer(example, return_tensors = 'pt')\n",
        "output = model(**encoded_text)\n",
        "scores = output[0][0].detach().numpy()\n",
        "scores = softmax(scores)\n",
        "scores_dict = {\n",
        "    'roberta_neg' : scores[0],\n",
        "    'roberta_neu' : scores[1],\n",
        "    'roberta_pos' : scores[2]\n",
        "}\n",
        "print(scores_dict)"
      ],
      "metadata": {
        "colab": {
          "base_uri": "https://localhost:8080/"
        },
        "id": "PGCK0i9EIVfk",
        "outputId": "b0e48078-cb68-498b-8459-2a07ceabd71f"
      },
      "execution_count": 27,
      "outputs": [
        {
          "output_type": "stream",
          "name": "stdout",
          "text": [
            "{'roberta_neg': 0.97635514, 'roberta_neu': 0.020687465, 'roberta_pos': 0.0029573692}\n"
          ]
        }
      ]
    },
    {
      "cell_type": "code",
      "source": [
        "def polarity_scores_roberta(example):\n",
        "  encoded_text = tokenizer(example, return_tensors = 'pt')\n",
        "  output = model(**encoded_text)\n",
        "  scores = output[0][0].detach().numpy()\n",
        "  scores = softmax(scores)\n",
        "  scores_dict = {\n",
        "    'roberta_neg' : scores[0],\n",
        "    'roberta_neu' : scores[1],\n",
        "    'roberta_pos' : scores[2]\n",
        "  }\n",
        "  return scores_dict"
      ],
      "metadata": {
        "id": "dpD3aAs4I848"
      },
      "execution_count": 28,
      "outputs": []
    },
    {
      "cell_type": "code",
      "source": [
        "res = {}\n",
        "for i, row in tqdm(df.iterrows(), total=len(df)):\n",
        "  try:\n",
        "      text = row['Text']\n",
        "      myid = row['Id']\n",
        "      vader_result = sia.polarity_scores(text)\n",
        "      vader_result_rename = {}\n",
        "      for key, value in vader_result.items():\n",
        "        vader_result_rename[f\"vader_{key}\"] = value\n",
        "      roberta_result = polarity_scores_roberta(text)\n",
        "      both = {**vader_result_rename, **roberta_result}\n",
        "      res[myid] = both\n",
        "  except RuntimeError:\n",
        "      print(f\"Broke for id {myid}\")\n"
      ],
      "metadata": {
        "colab": {
          "base_uri": "https://localhost:8080/"
        },
        "id": "Yw8m0fLGKMRA",
        "outputId": "dad2c223-9629-4bdb-e3d0-8071b9409660"
      },
      "execution_count": 29,
      "outputs": [
        {
          "metadata": {
            "tags": null
          },
          "name": "stderr",
          "output_type": "stream",
          "text": [
            "  1%|          | 83/10364 [00:28<33:45,  5.08it/s]"
          ]
        },
        {
          "metadata": {
            "tags": null
          },
          "name": "stdout",
          "output_type": "stream",
          "text": [
            "Broke for id 83\n"
          ]
        },
        {
          "metadata": {
            "tags": null
          },
          "name": "stderr",
          "output_type": "stream",
          "text": [
            "  2%|▏         | 188/10364 [01:02<31:50,  5.33it/s]"
          ]
        },
        {
          "metadata": {
            "tags": null
          },
          "name": "stdout",
          "output_type": "stream",
          "text": [
            "Broke for id 187\n"
          ]
        },
        {
          "metadata": {
            "tags": null
          },
          "name": "stderr",
          "output_type": "stream",
          "text": [
            "  5%|▌         | 528/10364 [03:06<1:12:18,  2.27it/s]"
          ]
        },
        {
          "metadata": {
            "tags": null
          },
          "name": "stdout",
          "output_type": "stream",
          "text": [
            "Broke for id 529\n"
          ]
        },
        {
          "metadata": {
            "tags": null
          },
          "name": "stderr",
          "output_type": "stream",
          "text": [
            "  5%|▌         | 539/10364 [03:09<39:23,  4.16it/s]"
          ]
        },
        {
          "metadata": {
            "tags": null
          },
          "name": "stdout",
          "output_type": "stream",
          "text": [
            "Broke for id 540\n"
          ]
        },
        {
          "metadata": {
            "tags": null
          },
          "name": "stderr",
          "output_type": "stream",
          "text": [
            "  7%|▋         | 745/10364 [04:30<1:28:41,  1.81it/s]"
          ]
        },
        {
          "metadata": {
            "tags": null
          },
          "name": "stdout",
          "output_type": "stream",
          "text": [
            "Broke for id 746\n"
          ]
        },
        {
          "metadata": {
            "tags": null
          },
          "name": "stderr",
          "output_type": "stream",
          "text": [
            "  8%|▊         | 864/10364 [05:12<37:16,  4.25it/s]"
          ]
        },
        {
          "metadata": {
            "tags": null
          },
          "name": "stdout",
          "output_type": "stream",
          "text": [
            "Broke for id 863\n"
          ]
        },
        {
          "metadata": {
            "tags": null
          },
          "name": "stderr",
          "output_type": "stream",
          "text": [
            " 10%|█         | 1052/10364 [06:39<43:33,  3.56it/s]"
          ]
        },
        {
          "metadata": {
            "tags": null
          },
          "name": "stdout",
          "output_type": "stream",
          "text": [
            "Broke for id 1053\n"
          ]
        },
        {
          "metadata": {
            "tags": null
          },
          "name": "stderr",
          "output_type": "stream",
          "text": [
            " 10%|█         | 1069/10364 [06:45<1:01:58,  2.50it/s]"
          ]
        },
        {
          "metadata": {
            "tags": null
          },
          "name": "stdout",
          "output_type": "stream",
          "text": [
            "Broke for id 1070\n"
          ]
        },
        {
          "metadata": {
            "tags": null
          },
          "name": "stderr",
          "output_type": "stream",
          "text": [
            " 11%|█         | 1157/10364 [07:17<31:03,  4.94it/s]"
          ]
        },
        {
          "metadata": {
            "tags": null
          },
          "name": "stdout",
          "output_type": "stream",
          "text": [
            "Broke for id 1156\n"
          ]
        },
        {
          "metadata": {
            "tags": null
          },
          "name": "stderr",
          "output_type": "stream",
          "text": [
            " 13%|█▎        | 1320/10364 [08:14<54:02,  2.79it/s]"
          ]
        },
        {
          "metadata": {
            "tags": null
          },
          "name": "stdout",
          "output_type": "stream",
          "text": [
            "Broke for id 1321\n"
          ]
        },
        {
          "metadata": {
            "tags": null
          },
          "name": "stderr",
          "output_type": "stream",
          "text": [
            " 13%|█▎        | 1374/10364 [08:32<1:40:29,  1.49it/s]"
          ]
        },
        {
          "metadata": {
            "tags": null
          },
          "name": "stdout",
          "output_type": "stream",
          "text": [
            "Broke for id 1375\n"
          ]
        },
        {
          "metadata": {
            "tags": null
          },
          "name": "stderr",
          "output_type": "stream",
          "text": [
            " 14%|█▍        | 1497/10364 [09:17<35:17,  4.19it/s]"
          ]
        },
        {
          "metadata": {
            "tags": null
          },
          "name": "stdout",
          "output_type": "stream",
          "text": [
            "Broke for id 1498\n"
          ]
        },
        {
          "metadata": {
            "tags": null
          },
          "name": "stderr",
          "output_type": "stream",
          "text": [
            " 15%|█▌        | 1574/10364 [09:47<1:45:18,  1.39it/s]"
          ]
        },
        {
          "metadata": {
            "tags": null
          },
          "name": "stdout",
          "output_type": "stream",
          "text": [
            "Broke for id 1575\n"
          ]
        },
        {
          "metadata": {
            "tags": null
          },
          "name": "stderr",
          "output_type": "stream",
          "text": [
            " 17%|█▋        | 1797/10364 [11:05<21:10,  6.74it/s]"
          ]
        },
        {
          "metadata": {
            "tags": null
          },
          "name": "stdout",
          "output_type": "stream",
          "text": [
            "Broke for id 1796\n"
          ]
        },
        {
          "metadata": {
            "tags": null
          },
          "name": "stderr",
          "output_type": "stream",
          "text": [
            " 18%|█▊        | 1825/10364 [11:15<1:09:08,  2.06it/s]"
          ]
        },
        {
          "metadata": {
            "tags": null
          },
          "name": "stdout",
          "output_type": "stream",
          "text": [
            "Broke for id 1826\n"
          ]
        },
        {
          "metadata": {
            "tags": null
          },
          "name": "stderr",
          "output_type": "stream",
          "text": [
            " 21%|██        | 2168/10364 [13:33<41:13,  3.31it/s]"
          ]
        },
        {
          "metadata": {
            "tags": null
          },
          "name": "stdout",
          "output_type": "stream",
          "text": [
            "Broke for id 2169\n"
          ]
        },
        {
          "metadata": {
            "tags": null
          },
          "name": "stderr",
          "output_type": "stream",
          "text": [
            " 22%|██▏       | 2247/10364 [14:01<34:46,  3.89it/s]"
          ]
        },
        {
          "metadata": {
            "tags": null
          },
          "name": "stdout",
          "output_type": "stream",
          "text": [
            "Broke for id 2248\n"
          ]
        },
        {
          "metadata": {
            "tags": null
          },
          "name": "stderr",
          "output_type": "stream",
          "text": [
            " 24%|██▍       | 2475/10364 [15:27<52:02,  2.53it/s]"
          ]
        },
        {
          "metadata": {
            "tags": null
          },
          "name": "stdout",
          "output_type": "stream",
          "text": [
            "Broke for id 2476\n"
          ]
        },
        {
          "metadata": {
            "tags": null
          },
          "name": "stderr",
          "output_type": "stream",
          "text": [
            " 24%|██▍       | 2491/10364 [15:36<49:29,  2.65it/s]"
          ]
        },
        {
          "metadata": {
            "tags": null
          },
          "name": "stdout",
          "output_type": "stream",
          "text": [
            "Broke for id 2492\n"
          ]
        },
        {
          "metadata": {
            "tags": null
          },
          "name": "stderr",
          "output_type": "stream",
          "text": [
            " 25%|██▍       | 2583/10364 [16:15<1:07:31,  1.92it/s]"
          ]
        },
        {
          "metadata": {
            "tags": null
          },
          "name": "stdout",
          "output_type": "stream",
          "text": [
            "Broke for id 2584\n"
          ]
        },
        {
          "metadata": {
            "tags": null
          },
          "name": "stderr",
          "output_type": "stream",
          "text": [
            " 25%|██▌       | 2609/10364 [16:28<1:05:19,  1.98it/s]"
          ]
        },
        {
          "metadata": {
            "tags": null
          },
          "name": "stdout",
          "output_type": "stream",
          "text": [
            "Broke for id 2610\n"
          ]
        },
        {
          "metadata": {
            "tags": null
          },
          "name": "stderr",
          "output_type": "stream",
          "text": [
            " 28%|██▊       | 2896/10364 [18:22<1:08:39,  1.81it/s]"
          ]
        },
        {
          "metadata": {
            "tags": null
          },
          "name": "stdout",
          "output_type": "stream",
          "text": [
            "Broke for id 2897\n",
            "Broke for id 2898\n"
          ]
        },
        {
          "metadata": {
            "tags": null
          },
          "name": "stderr",
          "output_type": "stream",
          "text": [
            " 28%|██▊       | 2901/10364 [18:23<38:19,  3.25it/s]"
          ]
        },
        {
          "metadata": {
            "tags": null
          },
          "name": "stdout",
          "output_type": "stream",
          "text": [
            "Broke for id 2902\n"
          ]
        },
        {
          "metadata": {
            "tags": null
          },
          "name": "stderr",
          "output_type": "stream",
          "text": [
            " 28%|██▊       | 2929/10364 [18:32<39:09,  3.16it/s]  "
          ]
        },
        {
          "metadata": {
            "tags": null
          },
          "name": "stdout",
          "output_type": "stream",
          "text": [
            "Broke for id 2928\n"
          ]
        },
        {
          "metadata": {
            "tags": null
          },
          "name": "stderr",
          "output_type": "stream",
          "text": [
            " 28%|██▊       | 2943/10364 [18:39<51:19,  2.41it/s]  "
          ]
        },
        {
          "metadata": {
            "tags": null
          },
          "name": "stdout",
          "output_type": "stream",
          "text": [
            "Broke for id 2942\n",
            "Broke for id 2944\n"
          ]
        },
        {
          "metadata": {
            "tags": null
          },
          "name": "stderr",
          "output_type": "stream",
          "text": [
            " 28%|██▊       | 2946/10364 [18:40<43:01,  2.87it/s]"
          ]
        },
        {
          "metadata": {
            "tags": null
          },
          "name": "stdout",
          "output_type": "stream",
          "text": [
            "Broke for id 2947\n",
            "Broke for id 2948\n"
          ]
        },
        {
          "metadata": {
            "tags": null
          },
          "name": "stderr",
          "output_type": "stream",
          "text": [
            " 29%|██▉       | 3021/10364 [19:08<45:54,  2.67it/s]"
          ]
        },
        {
          "metadata": {
            "tags": null
          },
          "name": "stdout",
          "output_type": "stream",
          "text": [
            "Broke for id 3022\n",
            "Broke for id 3023\n"
          ]
        },
        {
          "metadata": {
            "tags": null
          },
          "name": "stderr",
          "output_type": "stream",
          "text": [
            "\r 29%|██▉       | 3024/10364 [19:09<28:43,  4.26it/s]"
          ]
        },
        {
          "metadata": {
            "tags": null
          },
          "name": "stdout",
          "output_type": "stream",
          "text": [
            "Broke for id 3025\n"
          ]
        },
        {
          "metadata": {
            "tags": null
          },
          "name": "stderr",
          "output_type": "stream",
          "text": [
            " 32%|███▏      | 3305/10364 [20:48<40:50,  2.88it/s]"
          ]
        },
        {
          "metadata": {
            "tags": null
          },
          "name": "stdout",
          "output_type": "stream",
          "text": [
            "Broke for id 3306\n"
          ]
        },
        {
          "metadata": {
            "tags": null
          },
          "name": "stderr",
          "output_type": "stream",
          "text": [
            " 37%|███▋      | 3789/10364 [23:43<21:30,  5.09it/s]"
          ]
        },
        {
          "metadata": {
            "tags": null
          },
          "name": "stdout",
          "output_type": "stream",
          "text": [
            "Broke for id 3788\n"
          ]
        },
        {
          "metadata": {
            "tags": null
          },
          "name": "stderr",
          "output_type": "stream",
          "text": [
            " 38%|███▊      | 3968/10364 [24:42<26:40,  4.00it/s]"
          ]
        },
        {
          "metadata": {
            "tags": null
          },
          "name": "stdout",
          "output_type": "stream",
          "text": [
            "Broke for id 3969\n"
          ]
        },
        {
          "metadata": {
            "tags": null
          },
          "name": "stderr",
          "output_type": "stream",
          "text": [
            " 40%|███▉      | 4108/10364 [25:41<28:36,  3.65it/s]"
          ]
        },
        {
          "metadata": {
            "tags": null
          },
          "name": "stdout",
          "output_type": "stream",
          "text": [
            "Broke for id 4107\n"
          ]
        },
        {
          "metadata": {
            "tags": null
          },
          "name": "stderr",
          "output_type": "stream",
          "text": [
            "\r 40%|███▉      | 4109/10364 [25:41<31:38,  3.29it/s]"
          ]
        },
        {
          "metadata": {
            "tags": null
          },
          "name": "stdout",
          "output_type": "stream",
          "text": [
            "Broke for id 4110\n"
          ]
        },
        {
          "metadata": {
            "tags": null
          },
          "name": "stderr",
          "output_type": "stream",
          "text": [
            " 42%|████▏     | 4306/10364 [27:00<39:30,  2.56it/s]"
          ]
        },
        {
          "metadata": {
            "tags": null
          },
          "name": "stdout",
          "output_type": "stream",
          "text": [
            "Broke for id 4307\n"
          ]
        },
        {
          "metadata": {
            "tags": null
          },
          "name": "stderr",
          "output_type": "stream",
          "text": [
            " 42%|████▏     | 4315/10364 [27:05<56:34,  1.78it/s]  "
          ]
        },
        {
          "metadata": {
            "tags": null
          },
          "name": "stdout",
          "output_type": "stream",
          "text": [
            "Broke for id 4316\n"
          ]
        },
        {
          "metadata": {
            "tags": null
          },
          "name": "stderr",
          "output_type": "stream",
          "text": [
            " 43%|████▎     | 4409/10364 [27:36<22:20,  4.44it/s]"
          ]
        },
        {
          "metadata": {
            "tags": null
          },
          "name": "stdout",
          "output_type": "stream",
          "text": [
            "Broke for id 4408\n"
          ]
        },
        {
          "metadata": {
            "tags": null
          },
          "name": "stderr",
          "output_type": "stream",
          "text": [
            " 43%|████▎     | 4484/10364 [28:01<16:45,  5.85it/s]"
          ]
        },
        {
          "metadata": {
            "tags": null
          },
          "name": "stdout",
          "output_type": "stream",
          "text": [
            "Broke for id 4483\n"
          ]
        },
        {
          "metadata": {
            "tags": null
          },
          "name": "stderr",
          "output_type": "stream",
          "text": [
            " 44%|████▎     | 4511/10364 [28:15<35:37,  2.74it/s]"
          ]
        },
        {
          "metadata": {
            "tags": null
          },
          "name": "stdout",
          "output_type": "stream",
          "text": [
            "Broke for id 4512\n"
          ]
        },
        {
          "metadata": {
            "tags": null
          },
          "name": "stderr",
          "output_type": "stream",
          "text": [
            " 44%|████▍     | 4552/10364 [28:35<38:38,  2.51it/s]"
          ]
        },
        {
          "metadata": {
            "tags": null
          },
          "name": "stdout",
          "output_type": "stream",
          "text": [
            "Broke for id 4553\n"
          ]
        },
        {
          "metadata": {
            "tags": null
          },
          "name": "stderr",
          "output_type": "stream",
          "text": [
            " 44%|████▍     | 4582/10364 [28:56<1:03:24,  1.52it/s]"
          ]
        },
        {
          "metadata": {
            "tags": null
          },
          "name": "stdout",
          "output_type": "stream",
          "text": [
            "Broke for id 4583\n"
          ]
        },
        {
          "metadata": {
            "tags": null
          },
          "name": "stderr",
          "output_type": "stream",
          "text": [
            " 49%|████▊     | 5039/10364 [32:00<31:39,  2.80it/s]"
          ]
        },
        {
          "metadata": {
            "tags": null
          },
          "name": "stdout",
          "output_type": "stream",
          "text": [
            "Broke for id 5040\n"
          ]
        },
        {
          "metadata": {
            "tags": null
          },
          "name": "stderr",
          "output_type": "stream",
          "text": [
            " 50%|████▉     | 5181/10364 [32:54<34:42,  2.49it/s]"
          ]
        },
        {
          "metadata": {
            "tags": null
          },
          "name": "stdout",
          "output_type": "stream",
          "text": [
            "Broke for id 5182\n"
          ]
        },
        {
          "metadata": {
            "tags": null
          },
          "name": "stderr",
          "output_type": "stream",
          "text": [
            " 50%|█████     | 5193/10364 [33:00<30:18,  2.84it/s]"
          ]
        },
        {
          "metadata": {
            "tags": null
          },
          "name": "stdout",
          "output_type": "stream",
          "text": [
            "Broke for id 5192\n"
          ]
        },
        {
          "metadata": {
            "tags": null
          },
          "name": "stderr",
          "output_type": "stream",
          "text": [
            " 52%|█████▏    | 5364/10364 [34:02<29:13,  2.85it/s]"
          ]
        },
        {
          "metadata": {
            "tags": null
          },
          "name": "stdout",
          "output_type": "stream",
          "text": [
            "Broke for id 5365\n"
          ]
        },
        {
          "metadata": {
            "tags": null
          },
          "name": "stderr",
          "output_type": "stream",
          "text": [
            " 52%|█████▏    | 5441/10364 [34:38<30:33,  2.69it/s]"
          ]
        },
        {
          "metadata": {
            "tags": null
          },
          "name": "stdout",
          "output_type": "stream",
          "text": [
            "Broke for id 5442\n"
          ]
        },
        {
          "metadata": {
            "tags": null
          },
          "name": "stderr",
          "output_type": "stream",
          "text": [
            " 55%|█████▌    | 5708/10364 [36:22<34:45,  2.23it/s]"
          ]
        },
        {
          "metadata": {
            "tags": null
          },
          "name": "stdout",
          "output_type": "stream",
          "text": [
            "Broke for id 5709\n"
          ]
        },
        {
          "metadata": {
            "tags": null
          },
          "name": "stderr",
          "output_type": "stream",
          "text": [
            " 58%|█████▊    | 5997/10364 [38:17<19:46,  3.68it/s]"
          ]
        },
        {
          "metadata": {
            "tags": null
          },
          "name": "stdout",
          "output_type": "stream",
          "text": [
            "Broke for id 5998\n"
          ]
        },
        {
          "metadata": {
            "tags": null
          },
          "name": "stderr",
          "output_type": "stream",
          "text": [
            " 58%|█████▊    | 6002/10364 [38:19<37:13,  1.95it/s]"
          ]
        },
        {
          "metadata": {
            "tags": null
          },
          "name": "stdout",
          "output_type": "stream",
          "text": [
            "Broke for id 6003\n"
          ]
        },
        {
          "metadata": {
            "tags": null
          },
          "name": "stderr",
          "output_type": "stream",
          "text": [
            " 58%|█████▊    | 6006/10364 [38:21<41:23,  1.75it/s]"
          ]
        },
        {
          "metadata": {
            "tags": null
          },
          "name": "stdout",
          "output_type": "stream",
          "text": [
            "Broke for id 6007\n"
          ]
        },
        {
          "metadata": {
            "tags": null
          },
          "name": "stderr",
          "output_type": "stream",
          "text": [
            " 59%|█████▉    | 6105/10364 [38:59<38:31,  1.84it/s]"
          ]
        },
        {
          "metadata": {
            "tags": null
          },
          "name": "stdout",
          "output_type": "stream",
          "text": [
            "Broke for id 6106\n"
          ]
        },
        {
          "metadata": {
            "tags": null
          },
          "name": "stderr",
          "output_type": "stream",
          "text": [
            " 60%|██████    | 6233/10364 [39:49<59:22,  1.16it/s]  "
          ]
        },
        {
          "metadata": {
            "tags": null
          },
          "name": "stdout",
          "output_type": "stream",
          "text": [
            "Broke for id 6234\n"
          ]
        },
        {
          "metadata": {
            "tags": null
          },
          "name": "stderr",
          "output_type": "stream",
          "text": [
            " 63%|██████▎   | 6557/10364 [42:06<29:41,  2.14it/s]"
          ]
        },
        {
          "metadata": {
            "tags": null
          },
          "name": "stdout",
          "output_type": "stream",
          "text": [
            "Broke for id 6558\n"
          ]
        },
        {
          "metadata": {
            "tags": null
          },
          "name": "stderr",
          "output_type": "stream",
          "text": [
            " 64%|██████▍   | 6650/10364 [42:48<54:58,  1.13it/s]  "
          ]
        },
        {
          "metadata": {
            "tags": null
          },
          "name": "stdout",
          "output_type": "stream",
          "text": [
            "Broke for id 6651\n"
          ]
        },
        {
          "metadata": {
            "tags": null
          },
          "name": "stderr",
          "output_type": "stream",
          "text": [
            " 66%|██████▌   | 6797/10364 [44:13<59:16,  1.00it/s]"
          ]
        },
        {
          "metadata": {
            "tags": null
          },
          "name": "stdout",
          "output_type": "stream",
          "text": [
            "Broke for id 6798\n"
          ]
        },
        {
          "metadata": {
            "tags": null
          },
          "name": "stderr",
          "output_type": "stream",
          "text": [
            " 66%|██████▌   | 6837/10364 [44:36<34:14,  1.72it/s]"
          ]
        },
        {
          "metadata": {
            "tags": null
          },
          "name": "stdout",
          "output_type": "stream",
          "text": [
            "Broke for id 6838\n"
          ]
        },
        {
          "metadata": {
            "tags": null
          },
          "name": "stderr",
          "output_type": "stream",
          "text": [
            " 66%|██████▌   | 6849/10364 [44:45<1:05:05,  1.11s/it]"
          ]
        },
        {
          "metadata": {
            "tags": null
          },
          "name": "stdout",
          "output_type": "stream",
          "text": [
            "Broke for id 6850\n"
          ]
        },
        {
          "metadata": {
            "tags": null
          },
          "name": "stderr",
          "output_type": "stream",
          "text": [
            " 66%|██████▋   | 6885/10364 [45:04<20:21,  2.85it/s]"
          ]
        },
        {
          "metadata": {
            "tags": null
          },
          "name": "stdout",
          "output_type": "stream",
          "text": [
            "Broke for id 6886\n"
          ]
        },
        {
          "metadata": {
            "tags": null
          },
          "name": "stderr",
          "output_type": "stream",
          "text": [
            " 67%|██████▋   | 6904/10364 [45:12<43:31,  1.33it/s]"
          ]
        },
        {
          "metadata": {
            "tags": null
          },
          "name": "stdout",
          "output_type": "stream",
          "text": [
            "Broke for id 6905\n"
          ]
        },
        {
          "metadata": {
            "tags": null
          },
          "name": "stderr",
          "output_type": "stream",
          "text": [
            " 67%|██████▋   | 6954/10364 [45:40<21:39,  2.62it/s]"
          ]
        },
        {
          "metadata": {
            "tags": null
          },
          "name": "stdout",
          "output_type": "stream",
          "text": [
            "Broke for id 6955\n"
          ]
        },
        {
          "metadata": {
            "tags": null
          },
          "name": "stderr",
          "output_type": "stream",
          "text": [
            " 68%|██████▊   | 7076/10364 [46:28<23:15,  2.36it/s]"
          ]
        },
        {
          "metadata": {
            "tags": null
          },
          "name": "stdout",
          "output_type": "stream",
          "text": [
            "Broke for id 7077\n"
          ]
        },
        {
          "metadata": {
            "tags": null
          },
          "name": "stderr",
          "output_type": "stream",
          "text": [
            " 68%|██████▊   | 7087/10364 [46:32<16:31,  3.30it/s]"
          ]
        },
        {
          "metadata": {
            "tags": null
          },
          "name": "stdout",
          "output_type": "stream",
          "text": [
            "Broke for id 7088\n"
          ]
        },
        {
          "metadata": {
            "tags": null
          },
          "name": "stderr",
          "output_type": "stream",
          "text": [
            " 69%|██████▉   | 7200/10364 [47:16<16:38,  3.17it/s]"
          ]
        },
        {
          "metadata": {
            "tags": null
          },
          "name": "stdout",
          "output_type": "stream",
          "text": [
            "Broke for id 7201\n"
          ]
        },
        {
          "metadata": {
            "tags": null
          },
          "name": "stderr",
          "output_type": "stream",
          "text": [
            " 73%|███████▎  | 7605/10364 [49:50<12:46,  3.60it/s]"
          ]
        },
        {
          "metadata": {
            "tags": null
          },
          "name": "stdout",
          "output_type": "stream",
          "text": [
            "Broke for id 7604\n"
          ]
        },
        {
          "metadata": {
            "tags": null
          },
          "name": "stderr",
          "output_type": "stream",
          "text": [
            " 73%|███████▎  | 7607/10364 [49:51<14:46,  3.11it/s]"
          ]
        },
        {
          "metadata": {
            "tags": null
          },
          "name": "stdout",
          "output_type": "stream",
          "text": [
            "Broke for id 7608\n"
          ]
        },
        {
          "metadata": {
            "tags": null
          },
          "name": "stderr",
          "output_type": "stream",
          "text": [
            " 74%|███████▍  | 7670/10364 [50:15<24:17,  1.85it/s]"
          ]
        },
        {
          "metadata": {
            "tags": null
          },
          "name": "stdout",
          "output_type": "stream",
          "text": [
            "Broke for id 7671\n"
          ]
        },
        {
          "metadata": {
            "tags": null
          },
          "name": "stderr",
          "output_type": "stream",
          "text": [
            " 74%|███████▍  | 7700/10364 [50:34<26:22,  1.68it/s]"
          ]
        },
        {
          "metadata": {
            "tags": null
          },
          "name": "stdout",
          "output_type": "stream",
          "text": [
            "Broke for id 7701\n"
          ]
        },
        {
          "metadata": {
            "tags": null
          },
          "name": "stderr",
          "output_type": "stream",
          "text": [
            " 75%|███████▌  | 7809/10364 [51:14<13:56,  3.05it/s]"
          ]
        },
        {
          "metadata": {
            "tags": null
          },
          "name": "stdout",
          "output_type": "stream",
          "text": [
            "Broke for id 7810\n"
          ]
        },
        {
          "metadata": {
            "tags": null
          },
          "name": "stderr",
          "output_type": "stream",
          "text": [
            " 76%|███████▋  | 7908/10364 [51:50<24:44,  1.65it/s]"
          ]
        },
        {
          "metadata": {
            "tags": null
          },
          "name": "stdout",
          "output_type": "stream",
          "text": [
            "Broke for id 7907\n"
          ]
        },
        {
          "output_type": "stream",
          "name": "stderr",
          "text": [
            " 78%|███████▊  | 8076/10364 [53:04<09:01,  4.23it/s]"
          ]
        },
        {
          "output_type": "stream",
          "name": "stdout",
          "text": [
            "Broke for id 8077\n"
          ]
        },
        {
          "output_type": "stream",
          "name": "stderr",
          "text": [
            " 78%|███████▊  | 8130/10364 [53:22<12:03,  3.09it/s]"
          ]
        },
        {
          "output_type": "stream",
          "name": "stdout",
          "text": [
            "Broke for id 8131\n"
          ]
        },
        {
          "output_type": "stream",
          "name": "stderr",
          "text": [
            " 80%|███████▉  | 8265/10364 [54:21<25:36,  1.37it/s]"
          ]
        },
        {
          "output_type": "stream",
          "name": "stdout",
          "text": [
            "Broke for id 8266\n"
          ]
        },
        {
          "output_type": "stream",
          "name": "stderr",
          "text": [
            " 84%|████████▍ | 8739/10364 [57:18<11:51,  2.29it/s]"
          ]
        },
        {
          "output_type": "stream",
          "name": "stdout",
          "text": [
            "Broke for id 8740\n"
          ]
        },
        {
          "output_type": "stream",
          "name": "stderr",
          "text": [
            " 84%|████████▍ | 8756/10364 [57:28<07:14,  3.70it/s]"
          ]
        },
        {
          "output_type": "stream",
          "name": "stdout",
          "text": [
            "Broke for id 8757\n"
          ]
        },
        {
          "output_type": "stream",
          "name": "stderr",
          "text": [
            " 86%|████████▌ | 8934/10364 [58:41<05:35,  4.27it/s]"
          ]
        },
        {
          "output_type": "stream",
          "name": "stdout",
          "text": [
            "Broke for id 8935\n"
          ]
        },
        {
          "output_type": "stream",
          "name": "stderr",
          "text": [
            " 93%|█████████▎| 9589/10364 [1:02:51<07:15,  1.78it/s]"
          ]
        },
        {
          "output_type": "stream",
          "name": "stdout",
          "text": [
            "Broke for id 9590\n"
          ]
        },
        {
          "output_type": "stream",
          "name": "stderr",
          "text": [
            " 95%|█████████▌| 9849/10364 [1:04:53<07:56,  1.08it/s]"
          ]
        },
        {
          "output_type": "stream",
          "name": "stdout",
          "text": [
            "Broke for id 9850\n"
          ]
        },
        {
          "output_type": "stream",
          "name": "stderr",
          "text": [
            " 95%|█████████▌| 9880/10364 [1:05:01<02:35,  3.11it/s]"
          ]
        },
        {
          "output_type": "stream",
          "name": "stdout",
          "text": [
            "Broke for id 9881\n"
          ]
        },
        {
          "output_type": "stream",
          "name": "stderr",
          "text": [
            " 96%|█████████▌| 9909/10364 [1:05:16<05:23,  1.41it/s]"
          ]
        },
        {
          "output_type": "stream",
          "name": "stdout",
          "text": [
            "Broke for id 9910\n"
          ]
        },
        {
          "output_type": "stream",
          "name": "stderr",
          "text": [
            " 96%|█████████▌| 9922/10364 [1:05:23<05:00,  1.47it/s]"
          ]
        },
        {
          "output_type": "stream",
          "name": "stdout",
          "text": [
            "Broke for id 9923\n"
          ]
        },
        {
          "output_type": "stream",
          "name": "stderr",
          "text": [
            " 96%|█████████▋| 10001/10364 [1:05:59<04:47,  1.26it/s]"
          ]
        },
        {
          "output_type": "stream",
          "name": "stdout",
          "text": [
            "Broke for id 10002\n"
          ]
        },
        {
          "output_type": "stream",
          "name": "stderr",
          "text": [
            " 97%|█████████▋| 10004/10364 [1:06:00<03:55,  1.53it/s]"
          ]
        },
        {
          "output_type": "stream",
          "name": "stdout",
          "text": [
            "Broke for id 10005\n"
          ]
        },
        {
          "output_type": "stream",
          "name": "stderr",
          "text": [
            " 97%|█████████▋| 10030/10364 [1:06:09<01:26,  3.85it/s]"
          ]
        },
        {
          "output_type": "stream",
          "name": "stdout",
          "text": [
            "Broke for id 10031\n"
          ]
        },
        {
          "output_type": "stream",
          "name": "stderr",
          "text": [
            "100%|██████████| 10364/10364 [1:08:21<00:00,  2.53it/s]\n"
          ]
        }
      ]
    },
    {
      "cell_type": "code",
      "source": [],
      "metadata": {
        "id": "3oja7B8MKwmp"
      },
      "execution_count": 29,
      "outputs": []
    },
    {
      "cell_type": "code",
      "source": [],
      "metadata": {
        "id": "2g9lhet1Kzve"
      },
      "execution_count": 29,
      "outputs": []
    }
  ]
}